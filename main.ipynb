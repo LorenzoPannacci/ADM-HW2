{
 "cells": [
  {
   "cell_type": "markdown",
   "metadata": {},
   "source": [
    "# Startup"
   ]
  },
  {
   "cell_type": "code",
   "execution_count": 6,
   "metadata": {
    "ExecuteTime": {
     "end_time": "2023-10-31T15:34:13.023173400Z",
     "start_time": "2023-10-31T15:33:10.771357300Z"
    }
   },
   "outputs": [],
   "source": [
    "######################\n",
    "# LIBRARIES DOWNLOAD #\n",
    "######################\n",
    "\n",
    "install_packages = False\n",
    "if install_packages:\n",
    "    %pip install pandas tqdm numpy matplotlib pyspark dask"
   ]
  },
  {
   "cell_type": "code",
   "execution_count": 150,
   "metadata": {
    "ExecuteTime": {
     "end_time": "2023-11-02T13:36:39.700441800Z",
     "start_time": "2023-11-02T13:36:38.086227700Z"
    }
   },
   "outputs": [],
   "source": [
    "####################\n",
    "# LIBRARIES IMPORT #\n",
    "####################\n",
    "\n",
    "import pandas as pd\n",
    "from tqdm.notebook import tqdm\n",
    "import numpy as np\n",
    "import matplotlib.pyplot as plt\n",
    "import dask.dataframe as dd\n",
    "import time\n",
    "import re\n",
    "from collections import deque"
   ]
  },
  {
   "cell_type": "code",
   "execution_count": 8,
   "metadata": {
    "ExecuteTime": {
     "end_time": "2023-11-02T13:36:40.938212800Z",
     "start_time": "2023-11-02T13:36:40.912587300Z"
    }
   },
   "outputs": [],
   "source": [
    "#####################\n",
    "# GLOBAL PARAMETERS #\n",
    "#####################\n",
    "\n",
    "# default is 100000. if you get MemoryError try use 10000. if it still doesen't work lower it even more\n",
    "chunk_size = 100000\n",
    "\n",
    "authors_path = r\"datasets/lighter_authors.json\"\n",
    "books_path = r\"datasets/lighter_books.json\"\n",
    "list_path = r\"datasets/list.json\"\n",
    "series_path = r\"datasets/series.json\""
   ]
  },
  {
   "cell_type": "markdown",
   "metadata": {},
   "source": [
    "# Loading the data into Pandas' Dataframe"
   ]
  },
  {
   "cell_type": "markdown",
   "metadata": {},
   "source": [
    "The dataset provided is composed of 4 .json files:\n",
    "* authors.json\n",
    "* books.json\n",
    "* list.json\n",
    "* series.json\n",
    "\n",
    "While the two latter are manageable the first two are very big and difficult to use. Instead of the whole files, for those two are provided lighter versions: \"lighter_authors.json\" is about 0.5 Gbs and \"lighter_books.json\" is 15 Gbs. Considering that where will be a data-type conversions the dataset will become even bigger when loaded on pandas and could not work on machines with limited amounts of RAM. We can approach this problem from two sides:\n",
    "* Divide the dataset in chunks, work one chunk at a time and merge the results.\n",
    "* For every request we could extract only the columns we are interested with.\n",
    "\n",
    "Both those approaches are slow, we have to load every part of the dataset from the storage and load it on RAM for every exercise, and this increase considerably the amount of time to execute each query. Instead we try to load everything all at once, making the dataset as light as possible by removing columns useless for our analysis and where possible changing the data-type of useful columns to lighter versions."
   ]
  },
  {
   "cell_type": "markdown",
   "metadata": {},
   "source": [
    "## Authors dataset"
   ]
  },
  {
   "cell_type": "code",
   "execution_count": 120,
   "metadata": {
    "ExecuteTime": {
     "end_time": "2023-11-02T13:37:06.272364500Z",
     "start_time": "2023-11-02T13:36:55.844860600Z"
    }
   },
   "outputs": [],
   "source": [
    "# load the dataset from the .json file to a pandas dataframe\n",
    "# dataset is light, we do not need to divide it into chunks\n",
    "authors = pd.read_json(authors_path, lines = True)\n",
    "authors.set_index(\"id\", inplace = True)"
   ]
  },
  {
   "cell_type": "code",
   "execution_count": 121,
   "metadata": {
    "ExecuteTime": {
     "end_time": "2023-10-31T15:35:01.466520900Z",
     "start_time": "2023-10-31T15:35:01.434489800Z"
    }
   },
   "outputs": [
    {
     "data": {
      "text/html": [
       "<div>\n",
       "<style scoped>\n",
       "    .dataframe tbody tr th:only-of-type {\n",
       "        vertical-align: middle;\n",
       "    }\n",
       "\n",
       "    .dataframe tbody tr th {\n",
       "        vertical-align: top;\n",
       "    }\n",
       "\n",
       "    .dataframe thead th {\n",
       "        text-align: right;\n",
       "    }\n",
       "</style>\n",
       "<table border=\"1\" class=\"dataframe\">\n",
       "  <thead>\n",
       "    <tr style=\"text-align: right;\">\n",
       "      <th></th>\n",
       "      <th>ratings_count</th>\n",
       "      <th>average_rating</th>\n",
       "      <th>text_reviews_count</th>\n",
       "      <th>work_ids</th>\n",
       "      <th>book_ids</th>\n",
       "      <th>works_count</th>\n",
       "      <th>name</th>\n",
       "      <th>gender</th>\n",
       "      <th>image_url</th>\n",
       "      <th>about</th>\n",
       "      <th>fans_count</th>\n",
       "    </tr>\n",
       "    <tr>\n",
       "      <th>id</th>\n",
       "      <th></th>\n",
       "      <th></th>\n",
       "      <th></th>\n",
       "      <th></th>\n",
       "      <th></th>\n",
       "      <th></th>\n",
       "      <th></th>\n",
       "      <th></th>\n",
       "      <th></th>\n",
       "      <th></th>\n",
       "      <th></th>\n",
       "    </tr>\n",
       "  </thead>\n",
       "  <tbody>\n",
       "    <tr>\n",
       "      <th>4</th>\n",
       "      <td>2862064</td>\n",
       "      <td>4.19</td>\n",
       "      <td>62681</td>\n",
       "      <td>[3078186, 135328, 1877624, 74123, 3078120, 104...</td>\n",
       "      <td>[386162, 13, 8695, 8694, 6091075, 365, 569429,...</td>\n",
       "      <td>106</td>\n",
       "      <td>Douglas Adams</td>\n",
       "      <td>male</td>\n",
       "      <td>https://images.gr-assets.com/authors/159137433...</td>\n",
       "      <td>Douglas Noël Adams was an English author, comi...</td>\n",
       "      <td>19826</td>\n",
       "    </tr>\n",
       "    <tr>\n",
       "      <th>7</th>\n",
       "      <td>1417316</td>\n",
       "      <td>4.02</td>\n",
       "      <td>84176</td>\n",
       "      <td>[613469, 2305997, 940892, 2611786, 7800569, 31...</td>\n",
       "      <td>[9791, 21, 28, 24, 7507825, 27, 10538, 25, 26,...</td>\n",
       "      <td>75</td>\n",
       "      <td>Bill Bryson</td>\n",
       "      <td>male</td>\n",
       "      <td>https://images.gr-assets.com/authors/157859752...</td>\n",
       "      <td>William McGuire \"Bill\" Bryson, OBE, FRS was bo...</td>\n",
       "      <td>16144</td>\n",
       "    </tr>\n",
       "    <tr>\n",
       "      <th>10</th>\n",
       "      <td>56159</td>\n",
       "      <td>4.53</td>\n",
       "      <td>352</td>\n",
       "      <td>[17150, 808427, 20487307, 90550, 25460625, 171...</td>\n",
       "      <td>[349254, 15222, 14833682, 15221, 18126815, 152...</td>\n",
       "      <td>14</td>\n",
       "      <td>Jude Fisher</td>\n",
       "      <td>female</td>\n",
       "      <td>https://images.gr-assets.com/authors/141145711...</td>\n",
       "      <td>Jude Fisher is the pseudonym for &lt;a href=\"http...</td>\n",
       "      <td>60</td>\n",
       "    </tr>\n",
       "    <tr>\n",
       "      <th>12</th>\n",
       "      <td>3302</td>\n",
       "      <td>3.79</td>\n",
       "      <td>480</td>\n",
       "      <td>[4417, 14300808, 14780, 3796968, 44703121, 103...</td>\n",
       "      <td>[40, 9416484, 12482, 3753106, 26889789, 104764...</td>\n",
       "      <td>45</td>\n",
       "      <td>James Hamilton-Paterson</td>\n",
       "      <td>male</td>\n",
       "      <td>https://images.gr-assets.com/authors/127051738...</td>\n",
       "      <td>James Hamilton-Paterson's work has been transl...</td>\n",
       "      <td>72</td>\n",
       "    </tr>\n",
       "    <tr>\n",
       "      <th>14</th>\n",
       "      <td>7979</td>\n",
       "      <td>3.60</td>\n",
       "      <td>772</td>\n",
       "      <td>[13330815, 19109351, 42306244, 72694240, 26291...</td>\n",
       "      <td>[8466327, 15739968, 22756778, 51026133, 260451...</td>\n",
       "      <td>61</td>\n",
       "      <td>Mark Watson</td>\n",
       "      <td>male</td>\n",
       "      <td>https://images.gr-assets.com/authors/133175379...</td>\n",
       "      <td>Mark Andrew Watson (born 13 February 1980) is ...</td>\n",
       "      <td>179</td>\n",
       "    </tr>\n",
       "  </tbody>\n",
       "</table>\n",
       "</div>"
      ],
      "text/plain": [
       "    ratings_count  average_rating  text_reviews_count  \\\n",
       "id                                                      \n",
       "4         2862064            4.19               62681   \n",
       "7         1417316            4.02               84176   \n",
       "10          56159            4.53                 352   \n",
       "12           3302            3.79                 480   \n",
       "14           7979            3.60                 772   \n",
       "\n",
       "                                             work_ids  \\\n",
       "id                                                      \n",
       "4   [3078186, 135328, 1877624, 74123, 3078120, 104...   \n",
       "7   [613469, 2305997, 940892, 2611786, 7800569, 31...   \n",
       "10  [17150, 808427, 20487307, 90550, 25460625, 171...   \n",
       "12  [4417, 14300808, 14780, 3796968, 44703121, 103...   \n",
       "14  [13330815, 19109351, 42306244, 72694240, 26291...   \n",
       "\n",
       "                                             book_ids  works_count  \\\n",
       "id                                                                   \n",
       "4   [386162, 13, 8695, 8694, 6091075, 365, 569429,...          106   \n",
       "7   [9791, 21, 28, 24, 7507825, 27, 10538, 25, 26,...           75   \n",
       "10  [349254, 15222, 14833682, 15221, 18126815, 152...           14   \n",
       "12  [40, 9416484, 12482, 3753106, 26889789, 104764...           45   \n",
       "14  [8466327, 15739968, 22756778, 51026133, 260451...           61   \n",
       "\n",
       "                       name  gender  \\\n",
       "id                                    \n",
       "4             Douglas Adams    male   \n",
       "7               Bill Bryson    male   \n",
       "10              Jude Fisher  female   \n",
       "12  James Hamilton-Paterson    male   \n",
       "14              Mark Watson    male   \n",
       "\n",
       "                                            image_url  \\\n",
       "id                                                      \n",
       "4   https://images.gr-assets.com/authors/159137433...   \n",
       "7   https://images.gr-assets.com/authors/157859752...   \n",
       "10  https://images.gr-assets.com/authors/141145711...   \n",
       "12  https://images.gr-assets.com/authors/127051738...   \n",
       "14  https://images.gr-assets.com/authors/133175379...   \n",
       "\n",
       "                                                about  fans_count  \n",
       "id                                                                 \n",
       "4   Douglas Noël Adams was an English author, comi...       19826  \n",
       "7   William McGuire \"Bill\" Bryson, OBE, FRS was bo...       16144  \n",
       "10  Jude Fisher is the pseudonym for <a href=\"http...          60  \n",
       "12  James Hamilton-Paterson's work has been transl...          72  \n",
       "14  Mark Andrew Watson (born 13 February 1980) is ...         179  "
      ]
     },
     "execution_count": 121,
     "metadata": {},
     "output_type": "execute_result"
    }
   ],
   "source": [
    "# check the first lines of the dataframe\n",
    "authors.head()"
   ]
  },
  {
   "cell_type": "code",
   "execution_count": 122,
   "metadata": {
    "ExecuteTime": {
     "end_time": "2023-10-31T15:35:01.922228400Z",
     "start_time": "2023-10-31T15:35:01.455012400Z"
    }
   },
   "outputs": [
    {
     "name": "stdout",
     "output_type": "stream",
     "text": [
      "<class 'pandas.core.frame.DataFrame'>\n",
      "Index: 351767 entries, 4 to 16777164\n",
      "Data columns (total 11 columns):\n",
      " #   Column              Non-Null Count   Dtype  \n",
      "---  ------              --------------   -----  \n",
      " 0   ratings_count       351767 non-null  int64  \n",
      " 1   average_rating      351767 non-null  float64\n",
      " 2   text_reviews_count  351767 non-null  int64  \n",
      " 3   work_ids            351767 non-null  object \n",
      " 4   book_ids            351767 non-null  object \n",
      " 5   works_count         351767 non-null  int64  \n",
      " 6   name                351767 non-null  object \n",
      " 7   gender              351767 non-null  object \n",
      " 8   image_url           351767 non-null  object \n",
      " 9   about               351767 non-null  object \n",
      " 10  fans_count          351767 non-null  int64  \n",
      "dtypes: float64(1), int64(4), object(6)\n",
      "memory usage: 32.2+ MB\n"
     ]
    }
   ],
   "source": [
    "# check some infos about each column\n",
    "authors.info()"
   ]
  },
  {
   "cell_type": "code",
   "execution_count": 123,
   "metadata": {
    "ExecuteTime": {
     "end_time": "2023-10-31T15:35:02.095198100Z",
     "start_time": "2023-10-31T15:35:01.710820900Z"
    }
   },
   "outputs": [
    {
     "data": {
      "text/plain": [
       "Index                   2814136\n",
       "ratings_count           2814136\n",
       "average_rating          2814136\n",
       "text_reviews_count      2814136\n",
       "work_ids               74732848\n",
       "book_ids               74732848\n",
       "works_count             2814136\n",
       "name                   26225127\n",
       "gender                 21473021\n",
       "image_url              44826054\n",
       "about                 410897824\n",
       "fans_count              2814136\n",
       "dtype: int64"
      ]
     },
     "execution_count": 123,
     "metadata": {},
     "output_type": "execute_result"
    }
   ],
   "source": [
    "# check some infos about the RAM usage of every column\n",
    "raw_authors_memory_usage = authors.memory_usage(index = True, deep = True)\n",
    "raw_authors_memory_usage"
   ]
  },
  {
   "cell_type": "code",
   "execution_count": 124,
   "metadata": {
    "ExecuteTime": {
     "end_time": "2023-10-31T15:35:02.110826500Z",
     "start_time": "2023-10-31T15:35:02.085585Z"
    }
   },
   "outputs": [
    {
     "name": "stdout",
     "output_type": "stream",
     "text": [
      "The dataset just as imported uses 0.62 GBs of RAM!\n",
      "The 'about' column covers 61.0 % of the total RAM usage alone!\n"
     ]
    }
   ],
   "source": [
    "print(\"The dataset just as imported uses\", round(raw_authors_memory_usage.sum() / 1073741824, 2), \"GBs of RAM!\")\n",
    "print(\"The 'about' column covers\", round(raw_authors_memory_usage[\"about\"] / raw_authors_memory_usage.sum(), 2) * 100, \"% of the total RAM usage alone!\")"
   ]
  },
  {
   "cell_type": "markdown",
   "metadata": {},
   "source": [
    "The columns \"image_url\" and \"about\" are useless for our RQ analysis so they can be removed. There are also other columns that has no use during RQ questions."
   ]
  },
  {
   "cell_type": "code",
   "execution_count": 125,
   "metadata": {
    "ExecuteTime": {
     "end_time": "2023-11-02T13:37:14.180116300Z",
     "start_time": "2023-11-02T13:37:13.747013800Z"
    }
   },
   "outputs": [
    {
     "name": "stdout",
     "output_type": "stream",
     "text": [
      "The dataset now uses 0.13 GBs of RAM!\n"
     ]
    }
   ],
   "source": [
    "# remove the useless columns\n",
    "authors.drop(columns = [\"image_url\", \"about\", \"work_ids\", \"works_count\"], inplace = True)\n",
    "print(\"The dataset now uses\", round(authors.memory_usage(index = True, deep = True).sum() / 1073741824, 2), \"GBs of RAM!\")"
   ]
  },
  {
   "cell_type": "markdown",
   "metadata": {},
   "source": [
    "## Books\n",
    "\n",
    "The books dataset is much bigger than the authors one and we can't work with it in one go, we have to separate it in chunks. Firstly we analyze what can be done with it by observing just some rows"
   ]
  },
  {
   "cell_type": "code",
   "execution_count": 16,
   "metadata": {
    "ExecuteTime": {
     "end_time": "2023-10-31T15:35:14.777559400Z",
     "start_time": "2023-10-31T15:35:14.207203600Z"
    }
   },
   "outputs": [],
   "source": [
    "# load a chunk of the dataset from the .json file to a pandas dataframe\n",
    "books = pd.read_json(books_path, lines = True, nrows = 10000)"
   ]
  },
  {
   "cell_type": "code",
   "execution_count": 17,
   "metadata": {
    "ExecuteTime": {
     "end_time": "2023-10-31T15:35:14.933069900Z",
     "start_time": "2023-10-31T15:35:14.869509600Z"
    }
   },
   "outputs": [
    {
     "data": {
      "text/html": [
       "<div>\n",
       "<style scoped>\n",
       "    .dataframe tbody tr th:only-of-type {\n",
       "        vertical-align: middle;\n",
       "    }\n",
       "\n",
       "    .dataframe tbody tr th {\n",
       "        vertical-align: top;\n",
       "    }\n",
       "\n",
       "    .dataframe thead th {\n",
       "        text-align: right;\n",
       "    }\n",
       "</style>\n",
       "<table border=\"1\" class=\"dataframe\">\n",
       "  <thead>\n",
       "    <tr style=\"text-align: right;\">\n",
       "      <th></th>\n",
       "      <th>id</th>\n",
       "      <th>title</th>\n",
       "      <th>authors</th>\n",
       "      <th>author_name</th>\n",
       "      <th>author_id</th>\n",
       "      <th>work_id</th>\n",
       "      <th>isbn</th>\n",
       "      <th>isbn13</th>\n",
       "      <th>asin</th>\n",
       "      <th>language</th>\n",
       "      <th>...</th>\n",
       "      <th>format</th>\n",
       "      <th>edition_information</th>\n",
       "      <th>image_url</th>\n",
       "      <th>publisher</th>\n",
       "      <th>num_pages</th>\n",
       "      <th>series_id</th>\n",
       "      <th>series_name</th>\n",
       "      <th>series_position</th>\n",
       "      <th>shelves</th>\n",
       "      <th>description</th>\n",
       "    </tr>\n",
       "  </thead>\n",
       "  <tbody>\n",
       "    <tr>\n",
       "      <th>0</th>\n",
       "      <td>2</td>\n",
       "      <td>Harry Potter and the Order of the Phoenix (Har...</td>\n",
       "      <td>[{'id': '1077326', 'name': 'J.K. Rowling', 'ro...</td>\n",
       "      <td>J.K. Rowling</td>\n",
       "      <td>1077326</td>\n",
       "      <td>2809203</td>\n",
       "      <td>0439358078</td>\n",
       "      <td>9780439358071</td>\n",
       "      <td></td>\n",
       "      <td>eng</td>\n",
       "      <td>...</td>\n",
       "      <td>Paperback</td>\n",
       "      <td>US Edition</td>\n",
       "      <td>https://i.gr-assets.com/images/S/compressed.ph...</td>\n",
       "      <td>Scholastic Inc.</td>\n",
       "      <td>870</td>\n",
       "      <td>45175</td>\n",
       "      <td>Harry Potter</td>\n",
       "      <td>5</td>\n",
       "      <td>[{'name': 'to-read', 'count': 324191}, {'name'...</td>\n",
       "      <td>There is a door at the end of a silent corrido...</td>\n",
       "    </tr>\n",
       "    <tr>\n",
       "      <th>1</th>\n",
       "      <td>3</td>\n",
       "      <td>Harry Potter and the Sorcerer's Stone (Harry P...</td>\n",
       "      <td>[{'id': '1077326', 'name': 'J.K. Rowling', 'ro...</td>\n",
       "      <td>J.K. Rowling</td>\n",
       "      <td>1077326</td>\n",
       "      <td>4640799</td>\n",
       "      <td></td>\n",
       "      <td></td>\n",
       "      <td></td>\n",
       "      <td>eng</td>\n",
       "      <td>...</td>\n",
       "      <td>Hardcover</td>\n",
       "      <td>Library Edition</td>\n",
       "      <td>https://i.gr-assets.com/images/S/compressed.ph...</td>\n",
       "      <td>Scholastic Inc</td>\n",
       "      <td>309</td>\n",
       "      <td>45175</td>\n",
       "      <td>Harry Potter</td>\n",
       "      <td>1</td>\n",
       "      <td>[{'name': 'fantasy', 'count': 63540}, {'name':...</td>\n",
       "      <td>Harry Potter's life is miserable. His parents ...</td>\n",
       "    </tr>\n",
       "    <tr>\n",
       "      <th>2</th>\n",
       "      <td>4</td>\n",
       "      <td>Harry Potter and the Chamber of Secrets (Harry...</td>\n",
       "      <td>None</td>\n",
       "      <td>J.K. Rowling</td>\n",
       "      <td>1077326</td>\n",
       "      <td>6231171</td>\n",
       "      <td>0439554896</td>\n",
       "      <td>9780439554893</td>\n",
       "      <td></td>\n",
       "      <td>eng</td>\n",
       "      <td>...</td>\n",
       "      <td>Hardcover</td>\n",
       "      <td></td>\n",
       "      <td>https://i.gr-assets.com/images/S/compressed.ph...</td>\n",
       "      <td>Scholastic</td>\n",
       "      <td>352</td>\n",
       "      <td>45175</td>\n",
       "      <td>Harry Potter</td>\n",
       "      <td>2</td>\n",
       "      <td>[{'name': 'to-read', 'count': 282341}, {'name'...</td>\n",
       "      <td>The Dursleys were so mean and hideous that sum...</td>\n",
       "    </tr>\n",
       "    <tr>\n",
       "      <th>3</th>\n",
       "      <td>5</td>\n",
       "      <td>Harry Potter and the Prisoner of Azkaban (Harr...</td>\n",
       "      <td>[{'id': '1077326', 'name': 'J.K. Rowling', 'ro...</td>\n",
       "      <td>J.K. Rowling</td>\n",
       "      <td>1077326</td>\n",
       "      <td>2402163</td>\n",
       "      <td>043965548X</td>\n",
       "      <td>9780439655484</td>\n",
       "      <td></td>\n",
       "      <td>eng</td>\n",
       "      <td>...</td>\n",
       "      <td>Mass Market Paperback</td>\n",
       "      <td></td>\n",
       "      <td>https://i.gr-assets.com/images/S/compressed.ph...</td>\n",
       "      <td>Scholastic Inc.</td>\n",
       "      <td>435</td>\n",
       "      <td>45175</td>\n",
       "      <td>Harry Potter</td>\n",
       "      <td>3</td>\n",
       "      <td>[{'name': 'to-read', 'count': 292815}, {'name'...</td>\n",
       "      <td>For twelve long years, the dread fortress of A...</td>\n",
       "    </tr>\n",
       "    <tr>\n",
       "      <th>4</th>\n",
       "      <td>6</td>\n",
       "      <td>Harry Potter and the Goblet of Fire (Harry Pot...</td>\n",
       "      <td>[{'id': '1077326', 'name': 'J.K. Rowling', 'ro...</td>\n",
       "      <td>J.K. Rowling</td>\n",
       "      <td>1077326</td>\n",
       "      <td>3046572</td>\n",
       "      <td></td>\n",
       "      <td></td>\n",
       "      <td></td>\n",
       "      <td>eng</td>\n",
       "      <td>...</td>\n",
       "      <td>Paperback</td>\n",
       "      <td>First Scholastic Trade Paperback Edition</td>\n",
       "      <td>https://i.gr-assets.com/images/S/compressed.ph...</td>\n",
       "      <td>Scholastic</td>\n",
       "      <td>734</td>\n",
       "      <td>45175</td>\n",
       "      <td>Harry Potter</td>\n",
       "      <td>4</td>\n",
       "      <td>[{'name': 'to-read', 'count': 287086}, {'name'...</td>\n",
       "      <td>Harry Potter is midway through his training as...</td>\n",
       "    </tr>\n",
       "  </tbody>\n",
       "</table>\n",
       "<p>5 rows × 26 columns</p>\n",
       "</div>"
      ],
      "text/plain": [
       "   id                                              title  \\\n",
       "0   2  Harry Potter and the Order of the Phoenix (Har...   \n",
       "1   3  Harry Potter and the Sorcerer's Stone (Harry P...   \n",
       "2   4  Harry Potter and the Chamber of Secrets (Harry...   \n",
       "3   5  Harry Potter and the Prisoner of Azkaban (Harr...   \n",
       "4   6  Harry Potter and the Goblet of Fire (Harry Pot...   \n",
       "\n",
       "                                             authors   author_name  author_id  \\\n",
       "0  [{'id': '1077326', 'name': 'J.K. Rowling', 'ro...  J.K. Rowling    1077326   \n",
       "1  [{'id': '1077326', 'name': 'J.K. Rowling', 'ro...  J.K. Rowling    1077326   \n",
       "2                                               None  J.K. Rowling    1077326   \n",
       "3  [{'id': '1077326', 'name': 'J.K. Rowling', 'ro...  J.K. Rowling    1077326   \n",
       "4  [{'id': '1077326', 'name': 'J.K. Rowling', 'ro...  J.K. Rowling    1077326   \n",
       "\n",
       "   work_id        isbn         isbn13 asin language  ...  \\\n",
       "0  2809203  0439358078  9780439358071           eng  ...   \n",
       "1  4640799                                      eng  ...   \n",
       "2  6231171  0439554896  9780439554893           eng  ...   \n",
       "3  2402163  043965548X  9780439655484           eng  ...   \n",
       "4  3046572                                      eng  ...   \n",
       "\n",
       "                  format                       edition_information  \\\n",
       "0              Paperback                                US Edition   \n",
       "1              Hardcover                           Library Edition   \n",
       "2              Hardcover                                             \n",
       "3  Mass Market Paperback                                             \n",
       "4              Paperback  First Scholastic Trade Paperback Edition   \n",
       "\n",
       "                                           image_url        publisher  \\\n",
       "0  https://i.gr-assets.com/images/S/compressed.ph...  Scholastic Inc.   \n",
       "1  https://i.gr-assets.com/images/S/compressed.ph...   Scholastic Inc   \n",
       "2  https://i.gr-assets.com/images/S/compressed.ph...       Scholastic   \n",
       "3  https://i.gr-assets.com/images/S/compressed.ph...  Scholastic Inc.   \n",
       "4  https://i.gr-assets.com/images/S/compressed.ph...       Scholastic   \n",
       "\n",
       "  num_pages series_id   series_name series_position  \\\n",
       "0       870     45175  Harry Potter               5   \n",
       "1       309     45175  Harry Potter               1   \n",
       "2       352     45175  Harry Potter               2   \n",
       "3       435     45175  Harry Potter               3   \n",
       "4       734     45175  Harry Potter               4   \n",
       "\n",
       "                                             shelves  \\\n",
       "0  [{'name': 'to-read', 'count': 324191}, {'name'...   \n",
       "1  [{'name': 'fantasy', 'count': 63540}, {'name':...   \n",
       "2  [{'name': 'to-read', 'count': 282341}, {'name'...   \n",
       "3  [{'name': 'to-read', 'count': 292815}, {'name'...   \n",
       "4  [{'name': 'to-read', 'count': 287086}, {'name'...   \n",
       "\n",
       "                                         description  \n",
       "0  There is a door at the end of a silent corrido...  \n",
       "1  Harry Potter's life is miserable. His parents ...  \n",
       "2  The Dursleys were so mean and hideous that sum...  \n",
       "3  For twelve long years, the dread fortress of A...  \n",
       "4  Harry Potter is midway through his training as...  \n",
       "\n",
       "[5 rows x 26 columns]"
      ]
     },
     "execution_count": 17,
     "metadata": {},
     "output_type": "execute_result"
    }
   ],
   "source": [
    "# check the first lines of the chunk\n",
    "books.head()"
   ]
  },
  {
   "cell_type": "code",
   "execution_count": 18,
   "metadata": {
    "ExecuteTime": {
     "end_time": "2023-10-31T15:35:15.752574700Z",
     "start_time": "2023-10-31T15:35:15.679267Z"
    }
   },
   "outputs": [
    {
     "name": "stdout",
     "output_type": "stream",
     "text": [
      "<class 'pandas.core.frame.DataFrame'>\n",
      "RangeIndex: 9999 entries, 0 to 9998\n",
      "Data columns (total 26 columns):\n",
      " #   Column                     Non-Null Count  Dtype  \n",
      "---  ------                     --------------  -----  \n",
      " 0   id                         9999 non-null   int64  \n",
      " 1   title                      9999 non-null   object \n",
      " 2   authors                    3742 non-null   object \n",
      " 3   author_name                9999 non-null   object \n",
      " 4   author_id                  9999 non-null   int64  \n",
      " 5   work_id                    9999 non-null   int64  \n",
      " 6   isbn                       9999 non-null   object \n",
      " 7   isbn13                     9999 non-null   object \n",
      " 8   asin                       9999 non-null   object \n",
      " 9   language                   9999 non-null   object \n",
      " 10  average_rating             9999 non-null   float64\n",
      " 11  rating_dist                9999 non-null   object \n",
      " 12  ratings_count              9999 non-null   int64  \n",
      " 13  text_reviews_count         9999 non-null   int64  \n",
      " 14  publication_date           9999 non-null   object \n",
      " 15  original_publication_date  9999 non-null   object \n",
      " 16  format                     9999 non-null   object \n",
      " 17  edition_information        9999 non-null   object \n",
      " 18  image_url                  9999 non-null   object \n",
      " 19  publisher                  9999 non-null   object \n",
      " 20  num_pages                  9999 non-null   object \n",
      " 21  series_id                  9999 non-null   object \n",
      " 22  series_name                9999 non-null   object \n",
      " 23  series_position            9999 non-null   object \n",
      " 24  shelves                    9999 non-null   object \n",
      " 25  description                9999 non-null   object \n",
      "dtypes: float64(1), int64(5), object(20)\n",
      "memory usage: 2.0+ MB\n"
     ]
    }
   ],
   "source": [
    "# check some infos about each column\n",
    "books.info()"
   ]
  },
  {
   "cell_type": "code",
   "execution_count": 19,
   "metadata": {
    "ExecuteTime": {
     "end_time": "2023-10-31T15:35:16.632184800Z",
     "start_time": "2023-10-31T15:35:16.554758600Z"
    }
   },
   "outputs": [
    {
     "data": {
      "text/plain": [
       "Index                             132\n",
       "id                              79992\n",
       "title                          929445\n",
       "authors                        455800\n",
       "author_name                    713677\n",
       "author_id                       79992\n",
       "work_id                         79992\n",
       "isbn                           667641\n",
       "isbn13                         697223\n",
       "asin                           589989\n",
       "language                       596758\n",
       "average_rating                  79992\n",
       "rating_dist                    972520\n",
       "ratings_count                   79992\n",
       "text_reviews_count              79992\n",
       "publication_date               654329\n",
       "original_publication_date      638162\n",
       "format                         655109\n",
       "edition_information            610372\n",
       "image_url                     1484359\n",
       "publisher                      710464\n",
       "num_pages                      401847\n",
       "series_id                      598856\n",
       "series_name                    634022\n",
       "series_position                588928\n",
       "shelves                       5910832\n",
       "description                  10262905\n",
       "dtype: int64"
      ]
     },
     "execution_count": 19,
     "metadata": {},
     "output_type": "execute_result"
    }
   ],
   "source": [
    "# check some infos about the RAM usage of every column\n",
    "raw_books_memory_usage = books.memory_usage(index = True, deep = True)\n",
    "raw_books_memory_usage"
   ]
  },
  {
   "cell_type": "code",
   "execution_count": 20,
   "metadata": {
    "ExecuteTime": {
     "end_time": "2023-10-31T15:35:17.554331500Z",
     "start_time": "2023-10-31T15:35:17.545014700Z"
    }
   },
   "outputs": [
    {
     "name": "stdout",
     "output_type": "stream",
     "text": [
      "The dataset just as imported uses 0.03 GBs of RAM!\n",
      "The 'description' column covers 35.0 % of the total RAM usage alone!\n"
     ]
    }
   ],
   "source": [
    "print(\"The dataset just as imported uses\", round(raw_books_memory_usage.sum() / 1073741824, 2), \"GBs of RAM!\")\n",
    "print(\"The 'description' column covers\", round(raw_books_memory_usage[\"description\"] / raw_books_memory_usage.sum(), 2) * 100, \"% of the total RAM usage alone!\")"
   ]
  },
  {
   "cell_type": "markdown",
   "metadata": {},
   "source": [
    "The scenario is similar to the authors dataset, there is a column of long text descriptions that occupy a large amount of memory and it's useless to us for RQ questions. We remove it together with other useless columns."
   ]
  },
  {
   "cell_type": "code",
   "execution_count": 21,
   "metadata": {
    "ExecuteTime": {
     "end_time": "2023-10-31T15:35:22.005109100Z",
     "start_time": "2023-10-31T15:35:21.910651400Z"
    }
   },
   "outputs": [
    {
     "name": "stdout",
     "output_type": "stream",
     "text": [
      "The dataset now uses 0.01 GBs of RAM!\n"
     ]
    }
   ],
   "source": [
    "# remove the useless columns\n",
    "books.drop(columns = [\"work_id\", \"isbn\", \"isbn13\", \"asin\", \"edition_information\", \"image_url\", \"publisher\", \"shelves\", \"description\", \"publication_date\"], inplace = True)\n",
    "print(\"The dataset now uses\", round(books.memory_usage(index = True, deep = True).sum() / 1073741824, 2), \"GBs of RAM!\")"
   ]
  },
  {
   "cell_type": "markdown",
   "metadata": {},
   "source": [
    "Now we try to load the whole books dataset, chunk by chunk, and removing the useless parts."
   ]
  },
  {
   "cell_type": "code",
   "execution_count": 22,
   "metadata": {
    "ExecuteTime": {
     "end_time": "2023-11-02T13:45:13.709696600Z",
     "start_time": "2023-11-02T13:37:28.941241400Z"
    }
   },
   "outputs": [
    {
     "data": {
      "application/vnd.jupyter.widget-view+json": {
       "model_id": "dcfa3db204a54c4c9e9da280dac83872",
       "version_major": 2,
       "version_minor": 0
      },
      "text/plain": [
       "  0%|          | 0/71.0 [00:00<?, ?it/s]"
      ]
     },
     "metadata": {},
     "output_type": "display_data"
    }
   ],
   "source": [
    "books = pd.DataFrame()\n",
    "\n",
    "chunks_number = np.ceil(7027431 / chunk_size)\n",
    "chunks = pd.read_json(\"datasets/lighter_books.json\", lines = True, chunksize = chunk_size)\n",
    "columns_to_drop = [\"work_id\", \"isbn\", \"isbn13\", \"asin\", \"edition_information\", \"image_url\", \"publisher\", \"shelves\", \"description\", \"publication_date\"]\n",
    "\n",
    "for chunk in tqdm(chunks, total = chunks_number):\n",
    "    chunk.drop(columns = columns_to_drop, inplace = True)\n",
    "    books = pd.concat([books, chunk])\n",
    "\n",
    "books.set_index(\"id\", inplace = True)"
   ]
  },
  {
   "cell_type": "code",
   "execution_count": 23,
   "metadata": {
    "ExecuteTime": {
     "end_time": "2023-10-31T16:24:26.371109100Z",
     "start_time": "2023-10-31T16:24:26.332168500Z"
    }
   },
   "outputs": [
    {
     "name": "stdout",
     "output_type": "stream",
     "text": [
      "<class 'pandas.core.frame.DataFrame'>\n",
      "Index: 7027431 entries, 2 to 25521017\n",
      "Data columns (total 15 columns):\n",
      " #   Column                     Dtype  \n",
      "---  ------                     -----  \n",
      " 0   title                      object \n",
      " 1   authors                    object \n",
      " 2   author_name                object \n",
      " 3   author_id                  int64  \n",
      " 4   language                   object \n",
      " 5   average_rating             float64\n",
      " 6   rating_dist                object \n",
      " 7   ratings_count              int64  \n",
      " 8   text_reviews_count         int64  \n",
      " 9   original_publication_date  object \n",
      " 10  format                     object \n",
      " 11  num_pages                  object \n",
      " 12  series_id                  object \n",
      " 13  series_name                object \n",
      " 14  series_position            object \n",
      "dtypes: float64(1), int64(3), object(11)\n",
      "memory usage: 857.8+ MB\n"
     ]
    }
   ],
   "source": [
    "# check some infos about each column for the whole dataset\n",
    "books.info()"
   ]
  },
  {
   "cell_type": "code",
   "execution_count": 24,
   "metadata": {
    "ExecuteTime": {
     "end_time": "2023-10-31T16:24:46.210615400Z",
     "start_time": "2023-10-31T16:24:27.871018200Z"
    }
   },
   "outputs": [
    {
     "data": {
      "text/plain": [
       "Index                         56219448\n",
       "title                        684810705\n",
       "authors                      266432328\n",
       "author_name                  510420434\n",
       "author_id                     56219448\n",
       "language                     417560422\n",
       "average_rating                56219448\n",
       "rating_dist                  630673989\n",
       "ratings_count                 56219448\n",
       "text_reviews_count            56219448\n",
       "original_publication_date    454730116\n",
       "format                       447158221\n",
       "num_pages                    323639741\n",
       "series_id                    420869401\n",
       "series_name                  445383460\n",
       "series_position              413558394\n",
       "dtype: int64"
      ]
     },
     "execution_count": 24,
     "metadata": {},
     "output_type": "execute_result"
    }
   ],
   "source": [
    "# check some infos about the RAM usage of every column for the whole dataset\n",
    "books_memory_usage = books.memory_usage(index = True, deep = True)\n",
    "books_memory_usage"
   ]
  },
  {
   "cell_type": "code",
   "execution_count": 25,
   "metadata": {},
   "outputs": [
    {
     "name": "stdout",
     "output_type": "stream",
     "text": [
      "The dataset uses 4.93 GBs of RAM!\n"
     ]
    }
   ],
   "source": [
    "print(\"The dataset uses\", round(books_memory_usage.sum() / 1073741824, 2), \"GBs of RAM!\")"
   ]
  },
  {
   "cell_type": "markdown",
   "metadata": {},
   "source": [
    "# Research questions [RQs]"
   ]
  },
  {
   "cell_type": "markdown",
   "metadata": {},
   "source": [
    "## [RQ1] Exploratory Data Analysis (EDA)"
   ]
  },
  {
   "cell_type": "markdown",
   "metadata": {},
   "source": [
    "In the Authors dataset what's the difference between \"book\" and \"work\"?\n",
    "\n",
    "The Books dataset has some void string entries in the num_pages column.\n",
    "\n",
    "Negative average ratings and ratings count and fans count."
   ]
  },
  {
   "cell_type": "markdown",
   "metadata": {},
   "source": [
    "### Analyze authors"
   ]
  },
  {
   "cell_type": "markdown",
   "metadata": {},
   "source": [
    "During a LAB lecture with prof. Ioannis we found out that \"work_ids\" and \"book_ids\" always have the same length, but this length is now always the same as the value store in \"works_count\". That's the reason we removed \"work_ids\" and \"works_count\" before during the loading of the dataset."
   ]
  },
  {
   "cell_type": "markdown",
   "metadata": {},
   "source": [
    "We plot some useful statistics about our authors dataset columns."
   ]
  },
  {
   "cell_type": "code",
   "execution_count": 126,
   "metadata": {},
   "outputs": [
    {
     "data": {
      "text/html": [
       "<div>\n",
       "<style scoped>\n",
       "    .dataframe tbody tr th:only-of-type {\n",
       "        vertical-align: middle;\n",
       "    }\n",
       "\n",
       "    .dataframe tbody tr th {\n",
       "        vertical-align: top;\n",
       "    }\n",
       "\n",
       "    .dataframe thead th {\n",
       "        text-align: right;\n",
       "    }\n",
       "</style>\n",
       "<table border=\"1\" class=\"dataframe\">\n",
       "  <thead>\n",
       "    <tr style=\"text-align: right;\">\n",
       "      <th></th>\n",
       "      <th>ratings_count</th>\n",
       "      <th>average_rating</th>\n",
       "      <th>text_reviews_count</th>\n",
       "      <th>fans_count</th>\n",
       "    </tr>\n",
       "  </thead>\n",
       "  <tbody>\n",
       "    <tr>\n",
       "      <th>count</th>\n",
       "      <td>3.517670e+05</td>\n",
       "      <td>351767.000000</td>\n",
       "      <td>351767.000000</td>\n",
       "      <td>351767.000000</td>\n",
       "    </tr>\n",
       "    <tr>\n",
       "      <th>mean</th>\n",
       "      <td>4.770586e+03</td>\n",
       "      <td>3.651194</td>\n",
       "      <td>330.993243</td>\n",
       "      <td>111.615731</td>\n",
       "    </tr>\n",
       "    <tr>\n",
       "      <th>std</th>\n",
       "      <td>9.769395e+04</td>\n",
       "      <td>1.211482</td>\n",
       "      <td>3857.539191</td>\n",
       "      <td>2661.018139</td>\n",
       "    </tr>\n",
       "    <tr>\n",
       "      <th>min</th>\n",
       "      <td>-4.100000e+01</td>\n",
       "      <td>-31.000000</td>\n",
       "      <td>0.000000</td>\n",
       "      <td>-33.000000</td>\n",
       "    </tr>\n",
       "    <tr>\n",
       "      <th>25%</th>\n",
       "      <td>6.000000e+00</td>\n",
       "      <td>3.600000</td>\n",
       "      <td>1.000000</td>\n",
       "      <td>1.000000</td>\n",
       "    </tr>\n",
       "    <tr>\n",
       "      <th>50%</th>\n",
       "      <td>3.900000e+01</td>\n",
       "      <td>3.950000</td>\n",
       "      <td>8.000000</td>\n",
       "      <td>4.000000</td>\n",
       "    </tr>\n",
       "    <tr>\n",
       "      <th>75%</th>\n",
       "      <td>3.100000e+02</td>\n",
       "      <td>4.250000</td>\n",
       "      <td>53.000000</td>\n",
       "      <td>20.000000</td>\n",
       "    </tr>\n",
       "    <tr>\n",
       "      <th>max</th>\n",
       "      <td>2.700375e+07</td>\n",
       "      <td>5.000000</td>\n",
       "      <td>608956.000000</td>\n",
       "      <td>766035.000000</td>\n",
       "    </tr>\n",
       "  </tbody>\n",
       "</table>\n",
       "</div>"
      ],
      "text/plain": [
       "       ratings_count  average_rating  text_reviews_count     fans_count\n",
       "count   3.517670e+05   351767.000000       351767.000000  351767.000000\n",
       "mean    4.770586e+03        3.651194          330.993243     111.615731\n",
       "std     9.769395e+04        1.211482         3857.539191    2661.018139\n",
       "min    -4.100000e+01      -31.000000            0.000000     -33.000000\n",
       "25%     6.000000e+00        3.600000            1.000000       1.000000\n",
       "50%     3.900000e+01        3.950000            8.000000       4.000000\n",
       "75%     3.100000e+02        4.250000           53.000000      20.000000\n",
       "max     2.700375e+07        5.000000       608956.000000  766035.000000"
      ]
     },
     "execution_count": 126,
     "metadata": {},
     "output_type": "execute_result"
    }
   ],
   "source": [
    "authors.describe()"
   ]
  },
  {
   "cell_type": "markdown",
   "metadata": {},
   "source": [
    "From there we can notice that there are some strange in \"ratings_count\", \"average_rating\" and \"fans_count\", where the minimum value is negative. We want to remove these anomalies. Let's find the columns with these values and remove them."
   ]
  },
  {
   "cell_type": "code",
   "execution_count": 127,
   "metadata": {},
   "outputs": [
    {
     "name": "stdout",
     "output_type": "stream",
     "text": [
      "Number of entries before negative values cleanup:  351767\n",
      "Number of entries after negative values cleanup:  351740\n"
     ]
    }
   ],
   "source": [
    "print(\"Number of entries before negative values cleanup: \", authors.shape[0])\n",
    "\n",
    "authors = authors[(authors[\"average_rating\"] >= 0) & (authors[\"ratings_count\"] >= 0) & (authors[\"fans_count\"] >= 0)]\n",
    "print(\"Number of entries after negative values cleanup: \", authors.shape[0])"
   ]
  },
  {
   "cell_type": "code",
   "execution_count": 128,
   "metadata": {},
   "outputs": [
    {
     "data": {
      "text/html": [
       "<div>\n",
       "<style scoped>\n",
       "    .dataframe tbody tr th:only-of-type {\n",
       "        vertical-align: middle;\n",
       "    }\n",
       "\n",
       "    .dataframe tbody tr th {\n",
       "        vertical-align: top;\n",
       "    }\n",
       "\n",
       "    .dataframe thead th {\n",
       "        text-align: right;\n",
       "    }\n",
       "</style>\n",
       "<table border=\"1\" class=\"dataframe\">\n",
       "  <thead>\n",
       "    <tr style=\"text-align: right;\">\n",
       "      <th></th>\n",
       "      <th>ratings_count</th>\n",
       "      <th>average_rating</th>\n",
       "      <th>text_reviews_count</th>\n",
       "      <th>fans_count</th>\n",
       "    </tr>\n",
       "  </thead>\n",
       "  <tbody>\n",
       "    <tr>\n",
       "      <th>count</th>\n",
       "      <td>3.517400e+05</td>\n",
       "      <td>351740.000000</td>\n",
       "      <td>351740.000000</td>\n",
       "      <td>351740.000000</td>\n",
       "    </tr>\n",
       "    <tr>\n",
       "      <th>mean</th>\n",
       "      <td>4.770952e+03</td>\n",
       "      <td>3.651283</td>\n",
       "      <td>331.018414</td>\n",
       "      <td>111.624663</td>\n",
       "    </tr>\n",
       "    <tr>\n",
       "      <th>std</th>\n",
       "      <td>9.769769e+04</td>\n",
       "      <td>1.210085</td>\n",
       "      <td>3857.686173</td>\n",
       "      <td>2661.120073</td>\n",
       "    </tr>\n",
       "    <tr>\n",
       "      <th>min</th>\n",
       "      <td>0.000000e+00</td>\n",
       "      <td>0.000000</td>\n",
       "      <td>0.000000</td>\n",
       "      <td>0.000000</td>\n",
       "    </tr>\n",
       "    <tr>\n",
       "      <th>25%</th>\n",
       "      <td>6.000000e+00</td>\n",
       "      <td>3.600000</td>\n",
       "      <td>1.000000</td>\n",
       "      <td>1.000000</td>\n",
       "    </tr>\n",
       "    <tr>\n",
       "      <th>50%</th>\n",
       "      <td>3.900000e+01</td>\n",
       "      <td>3.950000</td>\n",
       "      <td>8.000000</td>\n",
       "      <td>4.000000</td>\n",
       "    </tr>\n",
       "    <tr>\n",
       "      <th>75%</th>\n",
       "      <td>3.100000e+02</td>\n",
       "      <td>4.250000</td>\n",
       "      <td>53.000000</td>\n",
       "      <td>20.000000</td>\n",
       "    </tr>\n",
       "    <tr>\n",
       "      <th>max</th>\n",
       "      <td>2.700375e+07</td>\n",
       "      <td>5.000000</td>\n",
       "      <td>608956.000000</td>\n",
       "      <td>766035.000000</td>\n",
       "    </tr>\n",
       "  </tbody>\n",
       "</table>\n",
       "</div>"
      ],
      "text/plain": [
       "       ratings_count  average_rating  text_reviews_count     fans_count\n",
       "count   3.517400e+05   351740.000000       351740.000000  351740.000000\n",
       "mean    4.770952e+03        3.651283          331.018414     111.624663\n",
       "std     9.769769e+04        1.210085         3857.686173    2661.120073\n",
       "min     0.000000e+00        0.000000            0.000000       0.000000\n",
       "25%     6.000000e+00        3.600000            1.000000       1.000000\n",
       "50%     3.900000e+01        3.950000            8.000000       4.000000\n",
       "75%     3.100000e+02        4.250000           53.000000      20.000000\n",
       "max     2.700375e+07        5.000000       608956.000000  766035.000000"
      ]
     },
     "execution_count": 128,
     "metadata": {},
     "output_type": "execute_result"
    }
   ],
   "source": [
    "authors.describe()"
   ]
  },
  {
   "cell_type": "markdown",
   "metadata": {},
   "source": [
    "**We now have a look at each column of the dataset, starting from fans count:**"
   ]
  },
  {
   "cell_type": "code",
   "execution_count": 129,
   "metadata": {},
   "outputs": [
    {
     "data": {
      "image/png": "[encoded data removed]",
      "text/plain": [
       "<Figure size 640x480 with 1 Axes>"
      ]
     },
     "metadata": {},
     "output_type": "display_data"
    },
    {
     "data": {
      "text/plain": [
       "<Figure size 500x500 with 0 Axes>"
      ]
     },
     "metadata": {},
     "output_type": "display_data"
    }
   ],
   "source": [
    "# hist of the fans count of all the authors\n",
    "\n",
    "plt.hist(authors.fans_count, bins=50, edgecolor='black')\n",
    "plt.title('Histogram of the fans count, in log scale')\n",
    "plt.xlabel('Fans count')\n",
    "plt.ylabel('Frequency')\n",
    "plt.yscale('log')\n",
    "plt.figure(figsize=(5, 5))\n",
    "plt.show()"
   ]
  },
  {
   "cell_type": "code",
   "execution_count": 130,
   "metadata": {},
   "outputs": [
    {
     "name": "stdout",
     "output_type": "stream",
     "text": [
      "The authors with 0 fans are 23.41 % of the total\n",
      "The authors less than 50 fans are 85.25 % of the total\n",
      "The authors more than 1000 fans are 1.32 % of the total\n"
     ]
    }
   ],
   "source": [
    "print(\"The authors with 0 fans are\", round(authors[authors[\"fans_count\"] == 0].shape[0] / authors.shape[0], 4) * 100, \"% of the total\")\n",
    "print(\"The authors less than 50 fans are\", round(authors[authors[\"fans_count\"] < 50].shape[0] / authors.shape[0], 4) * 100, \"% of the total\")\n",
    "print(\"The authors more than 1000 fans are\", round(authors[authors[\"fans_count\"] > 1000].shape[0] / authors.shape[0], 4) * 100, \"% of the total\")"
   ]
  },
  {
   "cell_type": "markdown",
   "metadata": {},
   "source": [
    "We had to use logarithmic scale because there is a great variance between fans count across all authors in the dataset. We can see that only a very low number of authors has a great following and a quartes has no fans at all.\n",
    "\n",
    "**We now have a look at ratings_count:**"
   ]
  },
  {
   "cell_type": "code",
   "execution_count": 131,
   "metadata": {},
   "outputs": [
    {
     "data": {
      "image/png": "[encoded data removed]",
      "text/plain": [
       "<Figure size 640x480 with 1 Axes>"
      ]
     },
     "metadata": {},
     "output_type": "display_data"
    },
    {
     "data": {
      "text/plain": [
       "<Figure size 500x500 with 0 Axes>"
      ]
     },
     "metadata": {},
     "output_type": "display_data"
    }
   ],
   "source": [
    "# hist of the ratings count of all the authors\n",
    "plt.hist(authors.ratings_count, bins=50, edgecolor='black')\n",
    "plt.title('Histogram of the ratings count, in log scale')\n",
    "plt.xlabel('Ratings count')\n",
    "plt.ylabel('Frequency')\n",
    "plt.yscale('log')\n",
    "plt.figure(figsize=(5, 5))\n",
    "plt.show()"
   ]
  },
  {
   "cell_type": "code",
   "execution_count": 132,
   "metadata": {},
   "outputs": [
    {
     "name": "stdout",
     "output_type": "stream",
     "text": [
      "Correlation between fans_count and ratings_count is 0.580568202505027\n"
     ]
    }
   ],
   "source": [
    "print(\"Correlation between fans_count and ratings_count is\", authors[\"fans_count\"].corr(authors[\"ratings_count\"]))"
   ]
  },
  {
   "cell_type": "markdown",
   "metadata": {},
   "source": [
    "The plot is very similar to the previous one (we had to use log scale here too), we can see a correlation between the number of fans and the number of ratings.\n",
    "\n",
    "**We now have a look at text reviews count, expecting a similar behaviour:**"
   ]
  },
  {
   "cell_type": "code",
   "execution_count": 133,
   "metadata": {},
   "outputs": [
    {
     "data": {
      "image/png": "[encoded data removed]",
      "text/plain": [
       "<Figure size 640x480 with 1 Axes>"
      ]
     },
     "metadata": {},
     "output_type": "display_data"
    },
    {
     "data": {
      "text/plain": [
       "<Figure size 500x500 with 0 Axes>"
      ]
     },
     "metadata": {},
     "output_type": "display_data"
    }
   ],
   "source": [
    "#hist of the text reviews of all the authors\n",
    "plt.hist(authors.text_reviews_count, bins=50, edgecolor='black')\n",
    "plt.xlabel('Text rating counts')\n",
    "plt.ylabel('Frequency')\n",
    "plt.yscale('log')\n",
    "plt.title('Histogram of the text reviews, in log scale')\n",
    "plt.figure(figsize=(5, 5))\n",
    "plt.show()"
   ]
  },
  {
   "cell_type": "code",
   "execution_count": 134,
   "metadata": {},
   "outputs": [
    {
     "name": "stdout",
     "output_type": "stream",
     "text": [
      "Correlation between fans_count and ratings_count is 0.6942710321914839\n",
      "The authors with with less than 53 text reviews are 74.98 % of the total\n"
     ]
    }
   ],
   "source": [
    "print(\"Correlation between fans_count and ratings_count is\", authors[\"fans_count\"].corr(authors[\"text_reviews_count\"]))\n",
    "print(\"The authors with with less than 53 text reviews are\", round(authors[authors[\"text_reviews_count\"] < 53].shape[0] / authors.shape[0], 4) * 100, \"% of the total\")"
   ]
  },
  {
   "cell_type": "markdown",
   "metadata": {},
   "source": [
    "The behaviour is indeed similar and the correlation value between text_reviews_count and fans_count is even higher. In particular we observe than the third quartile is at only 53 reviews while the max is above 600.000.\n",
    "\n",
    "**We now have a look at average rating:**"
   ]
  },
  {
   "cell_type": "code",
   "execution_count": 135,
   "metadata": {},
   "outputs": [
    {
     "data": {
      "image/png": "[encoded data removed]",
      "text/plain": [
       "<Figure size 640x480 with 1 Axes>"
      ]
     },
     "metadata": {},
     "output_type": "display_data"
    },
    {
     "data": {
      "text/plain": [
       "<Figure size 500x500 with 0 Axes>"
      ]
     },
     "metadata": {},
     "output_type": "display_data"
    }
   ],
   "source": [
    "# hist of the average ratings of all the authors\n",
    "plt.hist(authors.average_rating, bins=50, edgecolor='black')\n",
    "plt.xlim(0,5)\n",
    "plt.xlabel('Ratings')\n",
    "plt.ylabel('Frequency')\n",
    "plt.title('Histogram of the average rating')\n",
    "plt.figure(figsize=(5, 5))\n",
    "plt.show()"
   ]
  },
  {
   "cell_type": "markdown",
   "metadata": {},
   "source": [
    "The distribution seems to be a normal curve centered in 4. It's evident that integer values are more common than decimal one, as bins who comprend those tends to be higher, in particular for the average rating of zero."
   ]
  },
  {
   "cell_type": "code",
   "execution_count": 136,
   "metadata": {},
   "outputs": [
    {
     "data": {
      "text/html": [
       "<div>\n",
       "<style scoped>\n",
       "    .dataframe tbody tr th:only-of-type {\n",
       "        vertical-align: middle;\n",
       "    }\n",
       "\n",
       "    .dataframe tbody tr th {\n",
       "        vertical-align: top;\n",
       "    }\n",
       "\n",
       "    .dataframe thead th {\n",
       "        text-align: right;\n",
       "    }\n",
       "</style>\n",
       "<table border=\"1\" class=\"dataframe\">\n",
       "  <thead>\n",
       "    <tr style=\"text-align: right;\">\n",
       "      <th></th>\n",
       "      <th>ratings_count</th>\n",
       "      <th>average_rating</th>\n",
       "      <th>text_reviews_count</th>\n",
       "      <th>book_ids</th>\n",
       "      <th>name</th>\n",
       "      <th>gender</th>\n",
       "      <th>fans_count</th>\n",
       "    </tr>\n",
       "    <tr>\n",
       "      <th>id</th>\n",
       "      <th></th>\n",
       "      <th></th>\n",
       "      <th></th>\n",
       "      <th></th>\n",
       "      <th></th>\n",
       "      <th></th>\n",
       "      <th></th>\n",
       "    </tr>\n",
       "  </thead>\n",
       "  <tbody>\n",
       "  </tbody>\n",
       "</table>\n",
       "</div>"
      ],
      "text/plain": [
       "Empty DataFrame\n",
       "Columns: [ratings_count, average_rating, text_reviews_count, book_ids, name, gender, fans_count]\n",
       "Index: []"
      ]
     },
     "execution_count": 136,
     "metadata": {},
     "output_type": "execute_result"
    }
   ],
   "source": [
    "authors[(authors[\"average_rating\"] == 0) & (authors[\"ratings_count\"] != 0)]"
   ]
  },
  {
   "cell_type": "markdown",
   "metadata": {},
   "source": [
    "We can see that every author with a average rating of zero has no reviews.\n",
    "\n",
    "**We now have a look at the number of books published by author.**\n",
    "\n",
    "We previously removed the column because it had wrong values, we now may want to create a new one with correct values."
   ]
  },
  {
   "cell_type": "code",
   "execution_count": 137,
   "metadata": {},
   "outputs": [],
   "source": [
    "authors[\"books_count\"] = authors[\"book_ids\"].apply(len)"
   ]
  },
  {
   "cell_type": "code",
   "execution_count": 138,
   "metadata": {},
   "outputs": [
    {
     "data": {
      "image/png": "[encoded data removed]",
      "text/plain": [
       "<Figure size 640x480 with 1 Axes>"
      ]
     },
     "metadata": {},
     "output_type": "display_data"
    },
    {
     "data": {
      "text/plain": [
       "<Figure size 500x500 with 0 Axes>"
      ]
     },
     "metadata": {},
     "output_type": "display_data"
    }
   ],
   "source": [
    "# hist of the books count of all the authors\n",
    "\n",
    "plt.hist(authors.books_count, bins=50, edgecolor='black')\n",
    "plt.xlabel('Books count')\n",
    "plt.ylabel('Frequency')\n",
    "plt.title('Histogram of the books count')\n",
    "plt.figure(figsize=(5, 5))\n",
    "plt.show()"
   ]
  },
  {
   "cell_type": "code",
   "execution_count": 139,
   "metadata": {},
   "outputs": [
    {
     "data": {
      "image/png": "[encoded data removed]",
      "text/plain": [
       "<Figure size 640x480 with 1 Axes>"
      ]
     },
     "metadata": {},
     "output_type": "display_data"
    },
    {
     "data": {
      "text/plain": [
       "<Figure size 500x500 with 0 Axes>"
      ]
     },
     "metadata": {},
     "output_type": "display_data"
    }
   ],
   "source": [
    "# hist of the books count of all the authors, in log scale\n",
    "\n",
    "plt.hist(authors.books_count, bins=50, edgecolor='black')\n",
    "plt.xlabel('Books count')\n",
    "plt.yscale('log')\n",
    "plt.ylabel('Frequency')\n",
    "plt.title('Histogram of the books count, in log scale')\n",
    "plt.figure(figsize=(5, 5))\n",
    "plt.show()"
   ]
  },
  {
   "cell_type": "code",
   "execution_count": 140,
   "metadata": {},
   "outputs": [
    {
     "data": {
      "text/plain": [
       "count    351740.000000\n",
       "mean         17.417905\n",
       "std          53.324583\n",
       "min           0.000000\n",
       "25%           2.000000\n",
       "50%           6.000000\n",
       "75%          15.000000\n",
       "max        1530.000000\n",
       "Name: books_count, dtype: float64"
      ]
     },
     "execution_count": 140,
     "metadata": {},
     "output_type": "execute_result"
    }
   ],
   "source": [
    "authors[\"books_count\"].describe()"
   ]
  },
  {
   "cell_type": "markdown",
   "metadata": {},
   "source": [
    "The number of books tends to be low, we see that the third quartile of the distribution is just at 15 books published but the max value is 1530. From the log scale plot we can see that values from between those two endpoints are present as well."
   ]
  },
  {
   "cell_type": "markdown",
   "metadata": {},
   "source": [
    "**We now have a look at the gender column:**"
   ]
  },
  {
   "cell_type": "code",
   "execution_count": 141,
   "metadata": {},
   "outputs": [
    {
     "data": {
      "image/png": "[encoded data removed]",
      "text/plain": [
       "<Figure size 1000x500 with 1 Axes>"
      ]
     },
     "metadata": {},
     "output_type": "display_data"
    }
   ],
   "source": [
    "plt.figure(figsize=(10, 5))\n",
    "plot_languages = authors['gender'].value_counts().head(20)\n",
    "plt.bar(plot_languages.index, plot_languages.values)\n",
    "plt.xlabel('Gender')\n",
    "plt.ylabel('Frequency')\n",
    "plt.xticks(rotation=90)\n",
    "plt.tight_layout()\n",
    "plt.show()"
   ]
  },
  {
   "cell_type": "code",
   "execution_count": 142,
   "metadata": {},
   "outputs": [
    {
     "name": "stdout",
     "output_type": "stream",
     "text": [
      "Percentage of the first three results over the total is 99.91 %\n"
     ]
    }
   ],
   "source": [
    "percentage = round(authors[(authors[\"gender\"] == \"male\") | (authors[\"gender\"] == \"female\") | (authors[\"gender\"] == \"\")].shape[0] / authors.shape[0], 4) * 100\n",
    "print(\"Percentage of the first three results over the total is\", percentage, \"%\")"
   ]
  },
  {
   "cell_type": "markdown",
   "metadata": {},
   "source": [
    "Almost every author are either male, female or not specified.\n",
    "\n",
    "**We now want to check for correlations.** We already found correlations between \"ratings_count\" and \"fans_count\" and between between \"text_reviews_count\" and \"fans_count\". We now plot a correlation matrix to check if there are others correlation we did not found earlier."
   ]
  },
  {
   "cell_type": "code",
   "execution_count": 154,
   "metadata": {},
   "outputs": [
    {
     "data": {
      "text/html": [
       "<div>\n",
       "<style scoped>\n",
       "    .dataframe tbody tr th:only-of-type {\n",
       "        vertical-align: middle;\n",
       "    }\n",
       "\n",
       "    .dataframe tbody tr th {\n",
       "        vertical-align: top;\n",
       "    }\n",
       "\n",
       "    .dataframe thead th {\n",
       "        text-align: right;\n",
       "    }\n",
       "</style>\n",
       "<table border=\"1\" class=\"dataframe\">\n",
       "  <thead>\n",
       "    <tr style=\"text-align: right;\">\n",
       "      <th></th>\n",
       "      <th>ratings_count</th>\n",
       "      <th>average_rating</th>\n",
       "      <th>text_reviews_count</th>\n",
       "      <th>fans_count</th>\n",
       "    </tr>\n",
       "  </thead>\n",
       "  <tbody>\n",
       "    <tr>\n",
       "      <th>ratings_count</th>\n",
       "      <td>1.000000</td>\n",
       "      <td>0.015256</td>\n",
       "      <td>0.867628</td>\n",
       "      <td>0.580568</td>\n",
       "    </tr>\n",
       "    <tr>\n",
       "      <th>average_rating</th>\n",
       "      <td>0.015256</td>\n",
       "      <td>1.000000</td>\n",
       "      <td>0.024657</td>\n",
       "      <td>0.012479</td>\n",
       "    </tr>\n",
       "    <tr>\n",
       "      <th>text_reviews_count</th>\n",
       "      <td>0.867628</td>\n",
       "      <td>0.024657</td>\n",
       "      <td>1.000000</td>\n",
       "      <td>0.694271</td>\n",
       "    </tr>\n",
       "    <tr>\n",
       "      <th>fans_count</th>\n",
       "      <td>0.580568</td>\n",
       "      <td>0.012479</td>\n",
       "      <td>0.694271</td>\n",
       "      <td>1.000000</td>\n",
       "    </tr>\n",
       "  </tbody>\n",
       "</table>\n",
       "</div>"
      ],
      "text/plain": [
       "                    ratings_count  average_rating  text_reviews_count  \\\n",
       "ratings_count            1.000000        0.015256            0.867628   \n",
       "average_rating           0.015256        1.000000            0.024657   \n",
       "text_reviews_count       0.867628        0.024657            1.000000   \n",
       "fans_count               0.580568        0.012479            0.694271   \n",
       "\n",
       "                    fans_count  \n",
       "ratings_count         0.580568  \n",
       "average_rating        0.012479  \n",
       "text_reviews_count    0.694271  \n",
       "fans_count            1.000000  "
      ]
     },
     "execution_count": 154,
     "metadata": {},
     "output_type": "execute_result"
    }
   ],
   "source": [
    "authors[[\"ratings_count\", \"average_rating\", \"text_reviews_count\", \"fans_count\"]].corr()"
   ]
  },
  {
   "cell_type": "markdown",
   "metadata": {},
   "source": [
    "There is a strong correlation between \"ratings_count\" and \"text_reviews_count\", that is to be expected given that both easily correlates with the popularity of the author's books. We plot those correlation we haven't check before."
   ]
  },
  {
   "cell_type": "code",
   "execution_count": 155,
   "metadata": {},
   "outputs": [
    {
     "data": {
      "image/png": "[encoded data removed]",
      "text/plain": [
       "<Figure size 640x480 with 1 Axes>"
      ]
     },
     "metadata": {},
     "output_type": "display_data"
    }
   ],
   "source": [
    "plt.scatter(authors['average_rating'], authors['ratings_count'], color='blue', marker='o', alpha=0.5)\n",
    "plt.show()"
   ]
  },
  {
   "cell_type": "code",
   "execution_count": 156,
   "metadata": {},
   "outputs": [
    {
     "data": {
      "image/png": "[encoded data removed]",
      "text/plain": [
       "<Figure size 640x480 with 1 Axes>"
      ]
     },
     "metadata": {},
     "output_type": "display_data"
    }
   ],
   "source": [
    "plt.scatter(authors.average_rating, authors.fans_count, color='red', marker='o', alpha=0.5)\n",
    "plt.show()"
   ]
  },
  {
   "cell_type": "code",
   "execution_count": 157,
   "metadata": {},
   "outputs": [
    {
     "data": {
      "image/png": "[encoded data removed]",
      "text/plain": [
       "<Figure size 640x480 with 1 Axes>"
      ]
     },
     "metadata": {},
     "output_type": "display_data"
    }
   ],
   "source": [
    "plt.scatter(authors.books_count, authors.fans_count, color='red', marker='o', alpha=0.5)\n",
    "plt.show()"
   ]
  },
  {
   "cell_type": "markdown",
   "metadata": {},
   "source": [
    "### Analize books"
   ]
  },
  {
   "cell_type": "code",
   "execution_count": null,
   "metadata": {},
   "outputs": [],
   "source": [
    "books.describe()"
   ]
  },
  {
   "cell_type": "markdown",
   "metadata": {},
   "source": [
    "Let's see the language column"
   ]
  },
  {
   "cell_type": "code",
   "execution_count": null,
   "metadata": {},
   "outputs": [],
   "source": [
    "books.language.value_counts().head(20)"
   ]
  },
  {
   "cell_type": "markdown",
   "metadata": {},
   "source": [
    "There are 55242 elements with any specific language and there are  32420 books written in english in general.\\\n",
    "We could accorporate the english books together.\\\n",
    "Let's do a pieplot of the languages"
   ]
  },
  {
   "cell_type": "code",
   "execution_count": null,
   "metadata": {},
   "outputs": [],
   "source": [
    "books=books[books.language!='']\n",
    "\n",
    "books['language'] = books['language'].replace(['eng', 'en-US', 'en-GB','en-CA'], 'eng')\n",
    "\n",
    "language_counts = books['language'].value_counts().head(6)\n",
    "\n",
    "plt.figure(figsize=(9, 9))\n",
    "plt.pie(language_counts, labels=language_counts.index, autopct='%1.1f%%', startangle=180)\n",
    "plt.title('Language Distribution')\n",
    "plt.show()"
   ]
  },
  {
   "cell_type": "markdown",
   "metadata": {},
   "source": [
    "The majority of the books are written in english (including american, canadian and british english) then spanish."
   ]
  },
  {
   "cell_type": "markdown",
   "metadata": {},
   "source": [
    "Let's analyze for each book the publication date and the original publication date "
   ]
  },
  {
   "cell_type": "code",
   "execution_count": null,
   "metadata": {},
   "outputs": [],
   "source": [
    "groups = books.groupby('title')['publication_date'].apply(list)\n",
    "\n",
    "for i, j in groups.items():\n",
    "    print(f\"Title of the book: {i}\")\n",
    "    for k in j:\n",
    "        print(f\"Publication date: {k}\")"
   ]
  },
  {
   "cell_type": "markdown",
   "metadata": {},
   "source": [
    "As we can see there are some books with no publication date."
   ]
  },
  {
   "cell_type": "code",
   "execution_count": null,
   "metadata": {},
   "outputs": [],
   "source": [
    "l_1=[]\n",
    "for i in range(len(books.publication_date)):\n",
    "    if books.publication_date[i]=='':\n",
    "        l_1.append(i)\n",
    "        \n",
    "l_1      "
   ]
  },
  {
   "cell_type": "code",
   "execution_count": null,
   "metadata": {},
   "outputs": [],
   "source": [
    "l_2=[]\n",
    "for i in range(len(books.original_publication_date)):\n",
    "    if books.original_publication_date[i]=='':\n",
    "        l_2.append(i)\n",
    "l_2"
   ]
  },
  {
   "cell_type": "markdown",
   "metadata": {},
   "source": [
    "let's find the intersection."
   ]
  },
  {
   "cell_type": "code",
   "execution_count": null,
   "metadata": {},
   "outputs": [],
   "source": [
    "intersection = set(l_1) & set(l_2)\n",
    "l_int = list(intersection)\n",
    "len(l_int)"
   ]
  },
  {
   "cell_type": "markdown",
   "metadata": {},
   "source": [
    "There are 984 books with no original publication date and publication date."
   ]
  },
  {
   "cell_type": "code",
   "execution_count": null,
   "metadata": {},
   "outputs": [],
   "source": [
    "# Do I have to drop these elements or not?"
   ]
  },
  {
   "cell_type": "markdown",
   "metadata": {},
   "source": [
    "Let's see the histogram of the average rating for the dataset books"
   ]
  },
  {
   "cell_type": "code",
   "execution_count": null,
   "metadata": {},
   "outputs": [],
   "source": [
    "plt.hist(books.average_rating, bins=50, edgecolor='black')\n",
    "plt.xlim(0,5)\n",
    "plt.xlabel('Ratings')\n",
    "plt.ylabel('Frequency')\n",
    "plt.title('Histogram of the average rating')\n",
    "plt.figure(figsize=(5, 5))\n",
    "plt.show()"
   ]
  },
  {
   "cell_type": "markdown",
   "metadata": {},
   "source": [
    "Is similar to the one viewed in the authors, there are many books with value from 3 to 5.\\\n",
    "The distribution of the average rating looks like a normal distribution."
   ]
  },
  {
   "cell_type": "markdown",
   "metadata": {},
   "source": [
    "Let's see the number of pages"
   ]
  },
  {
   "cell_type": "code",
   "execution_count": null,
   "metadata": {},
   "outputs": [],
   "source": [
    "books['num_pages'].describe()"
   ]
  },
  {
   "cell_type": "code",
   "execution_count": null,
   "metadata": {},
   "outputs": [],
   "source": [
    "books.num_pages.head(50)"
   ]
  },
  {
   "cell_type": "markdown",
   "metadata": {},
   "source": [
    "There are some books with no pages."
   ]
  },
  {
   "cell_type": "code",
   "execution_count": null,
   "metadata": {},
   "outputs": [],
   "source": [
    "df=books[books.num_pages!='']\n",
    "df.num_pages.head(50)"
   ]
  },
  {
   "cell_type": "markdown",
   "metadata": {},
   "source": [
    "#### trying to do a hist of the num pages but doesn't work help!!"
   ]
  },
  {
   "cell_type": "code",
   "execution_count": null,
   "metadata": {},
   "outputs": [],
   "source": [
    "plt.hist(pd.to_numeric(df.num_pages), bins=50, edgecolor='black')\n",
    "\n",
    "plt.xlabel('Number of pages')\n",
    "plt.ylabel('Frequency')\n",
    "plt.title('Histogram of the number of pages')\n",
    "plt.show()"
   ]
  },
  {
   "cell_type": "markdown",
   "metadata": {},
   "source": [
    "## [RQ2] Let’s finally dig into this vast dataset, retrieving some vital information:"
   ]
  },
  {
   "cell_type": "markdown",
   "metadata": {},
   "source": [
    "**Request 2.1:** Plot the number of books for each author in descending order.\n",
    "\n",
    "---\n",
    "\n",
    "We decided to count the number of entries in the books dataset, meaning that every new edition or different format or the same book increase the count. For visibility reasons we limited the number of shown authors, to the top 100. The number of authors shown can be changed we changing the value of the parameter \"n_authors\"."
   ]
  },
  {
   "cell_type": "code",
   "execution_count": 45,
   "metadata": {
    "ExecuteTime": {
     "end_time": "2023-10-31T16:24:46.264000100Z",
     "start_time": "2023-10-31T16:24:46.223768700Z"
    }
   },
   "outputs": [
    {
     "data": {
      "image/png": "[encoded data removed]",
      "text/plain": [
       "<Figure size 2000x1000 with 1 Axes>"
      ]
     },
     "metadata": {},
     "output_type": "display_data"
    }
   ],
   "source": [
    "n_authors = 100\n",
    "counts = books['author_name'].value_counts().sort_values(ascending = False).head(n_authors)\n",
    "\n",
    "plt.figure(figsize=(20, 10))\n",
    "plt.bar(counts.index, counts.values, color='skyblue')\n",
    "plt.title('Number of Books per Author')\n",
    "plt.xlabel('Author Name')\n",
    "plt.ylabel('Number of Books')\n",
    "plt.xticks(rotation=90)\n",
    "plt.show()"
   ]
  },
  {
   "cell_type": "markdown",
   "metadata": {},
   "source": [
    "Here we can see that lots of authors are placeholder names, like \"Anonymous\", \"Unknown\", \"NOT A BOOK\" or \"Various\", and others are organizations or companies, such as \"Source Wikipedia\", \"Books LLC\", \"Walt Disney Company\" or \"National Research Council\"."
   ]
  },
  {
   "cell_type": "markdown",
   "metadata": {},
   "source": [
    "**Request 2.2:**  Which book has the highest number of reviews?\n",
    "\n",
    "---\n",
    "\n",
    "We just execute a simple query over the books dataset."
   ]
  },
  {
   "cell_type": "code",
   "execution_count": 46,
   "metadata": {
    "ExecuteTime": {
     "end_time": "2023-10-31T16:24:47.099936200Z",
     "start_time": "2023-10-31T16:24:46.230747600Z"
    }
   },
   "outputs": [
    {
     "data": {
      "text/html": [
       "<div>\n",
       "<style scoped>\n",
       "    .dataframe tbody tr th:only-of-type {\n",
       "        vertical-align: middle;\n",
       "    }\n",
       "\n",
       "    .dataframe tbody tr th {\n",
       "        vertical-align: top;\n",
       "    }\n",
       "\n",
       "    .dataframe thead th {\n",
       "        text-align: right;\n",
       "    }\n",
       "</style>\n",
       "<table border=\"1\" class=\"dataframe\">\n",
       "  <thead>\n",
       "    <tr style=\"text-align: right;\">\n",
       "      <th></th>\n",
       "      <th>title</th>\n",
       "      <th>authors</th>\n",
       "      <th>author_name</th>\n",
       "      <th>author_id</th>\n",
       "      <th>work_id</th>\n",
       "      <th>language</th>\n",
       "      <th>average_rating</th>\n",
       "      <th>rating_dist</th>\n",
       "      <th>ratings_count</th>\n",
       "      <th>text_reviews_count</th>\n",
       "      <th>original_publication_date</th>\n",
       "      <th>format</th>\n",
       "      <th>num_pages</th>\n",
       "      <th>series_id</th>\n",
       "      <th>series_name</th>\n",
       "      <th>series_position</th>\n",
       "    </tr>\n",
       "    <tr>\n",
       "      <th>id</th>\n",
       "      <th></th>\n",
       "      <th></th>\n",
       "      <th></th>\n",
       "      <th></th>\n",
       "      <th></th>\n",
       "      <th></th>\n",
       "      <th></th>\n",
       "      <th></th>\n",
       "      <th></th>\n",
       "      <th></th>\n",
       "      <th></th>\n",
       "      <th></th>\n",
       "      <th></th>\n",
       "      <th></th>\n",
       "      <th></th>\n",
       "      <th></th>\n",
       "    </tr>\n",
       "  </thead>\n",
       "  <tbody>\n",
       "    <tr>\n",
       "      <th>19304768</th>\n",
       "      <td>The Hunger Games (Hunger Games, #1)</td>\n",
       "      <td>None</td>\n",
       "      <td>Suzanne Collins</td>\n",
       "      <td>153394</td>\n",
       "      <td>2792775</td>\n",
       "      <td>en-US</td>\n",
       "      <td>4.32</td>\n",
       "      <td>5:3572190|4:1993815|3:772952|2:178537|1:97671|...</td>\n",
       "      <td>6615165</td>\n",
       "      <td>174524</td>\n",
       "      <td>2008-09-14</td>\n",
       "      <td></td>\n",
       "      <td></td>\n",
       "      <td>73758</td>\n",
       "      <td>The Hunger Games</td>\n",
       "      <td>1</td>\n",
       "    </tr>\n",
       "  </tbody>\n",
       "</table>\n",
       "</div>"
      ],
      "text/plain": [
       "                                        title authors      author_name  \\\n",
       "id                                                                       \n",
       "19304768  The Hunger Games (Hunger Games, #1)    None  Suzanne Collins   \n",
       "\n",
       "          author_id  work_id language  average_rating  \\\n",
       "id                                                      \n",
       "19304768     153394  2792775    en-US            4.32   \n",
       "\n",
       "                                                rating_dist  ratings_count  \\\n",
       "id                                                                           \n",
       "19304768  5:3572190|4:1993815|3:772952|2:178537|1:97671|...        6615165   \n",
       "\n",
       "          text_reviews_count original_publication_date format num_pages  \\\n",
       "id                                                                        \n",
       "19304768              174524                2008-09-14                    \n",
       "\n",
       "         series_id       series_name series_position  \n",
       "id                                                    \n",
       "19304768     73758  The Hunger Games               1  "
      ]
     },
     "execution_count": 46,
     "metadata": {},
     "output_type": "execute_result"
    }
   ],
   "source": [
    "books[books[\"text_reviews_count\"] >= max(books[\"text_reviews_count\"])]"
   ]
  },
  {
   "cell_type": "markdown",
   "metadata": {},
   "source": [
    "**Request 2.3:** Which are the top ten and ten worst books concerning the average score?\n",
    "\n",
    "---\n",
    "\n",
    "We execute a simple query on the books datasets."
   ]
  },
  {
   "cell_type": "code",
   "execution_count": 47,
   "metadata": {
    "ExecuteTime": {
     "end_time": "2023-10-31T16:25:13.910696500Z",
     "start_time": "2023-10-31T16:24:50.854340200Z"
    }
   },
   "outputs": [
    {
     "data": {
      "text/html": [
       "<div>\n",
       "<style scoped>\n",
       "    .dataframe tbody tr th:only-of-type {\n",
       "        vertical-align: middle;\n",
       "    }\n",
       "\n",
       "    .dataframe tbody tr th {\n",
       "        vertical-align: top;\n",
       "    }\n",
       "\n",
       "    .dataframe thead th {\n",
       "        text-align: right;\n",
       "    }\n",
       "</style>\n",
       "<table border=\"1\" class=\"dataframe\">\n",
       "  <thead>\n",
       "    <tr style=\"text-align: right;\">\n",
       "      <th></th>\n",
       "      <th>title</th>\n",
       "      <th>authors</th>\n",
       "      <th>author_name</th>\n",
       "      <th>author_id</th>\n",
       "      <th>work_id</th>\n",
       "      <th>language</th>\n",
       "      <th>average_rating</th>\n",
       "      <th>rating_dist</th>\n",
       "      <th>ratings_count</th>\n",
       "      <th>text_reviews_count</th>\n",
       "      <th>original_publication_date</th>\n",
       "      <th>format</th>\n",
       "      <th>num_pages</th>\n",
       "      <th>series_id</th>\n",
       "      <th>series_name</th>\n",
       "      <th>series_position</th>\n",
       "    </tr>\n",
       "    <tr>\n",
       "      <th>id</th>\n",
       "      <th></th>\n",
       "      <th></th>\n",
       "      <th></th>\n",
       "      <th></th>\n",
       "      <th></th>\n",
       "      <th></th>\n",
       "      <th></th>\n",
       "      <th></th>\n",
       "      <th></th>\n",
       "      <th></th>\n",
       "      <th></th>\n",
       "      <th></th>\n",
       "      <th></th>\n",
       "      <th></th>\n",
       "      <th></th>\n",
       "      <th></th>\n",
       "    </tr>\n",
       "  </thead>\n",
       "  <tbody>\n",
       "    <tr>\n",
       "      <th>238</th>\n",
       "      <td>Later Letters of Edward Lear to Chichester For...</td>\n",
       "      <td>None</td>\n",
       "      <td>Edward Lear</td>\n",
       "      <td>142</td>\n",
       "      <td>4580</td>\n",
       "      <td></td>\n",
       "      <td>5.0</td>\n",
       "      <td>5:4|4:0|3:0|2:0|1:0|total:4</td>\n",
       "      <td>4</td>\n",
       "      <td>2</td>\n",
       "      <td>1907-01-01</td>\n",
       "      <td></td>\n",
       "      <td></td>\n",
       "      <td></td>\n",
       "      <td></td>\n",
       "      <td></td>\n",
       "    </tr>\n",
       "    <tr>\n",
       "      <th>529</th>\n",
       "      <td>Lord of the Flies Activity Pack</td>\n",
       "      <td>None</td>\n",
       "      <td>James      Scott</td>\n",
       "      <td>10685776</td>\n",
       "      <td>19190202</td>\n",
       "      <td></td>\n",
       "      <td>5.0</td>\n",
       "      <td>5:1|4:0|3:0|2:0|1:0|total:1</td>\n",
       "      <td>1</td>\n",
       "      <td>0</td>\n",
       "      <td></td>\n",
       "      <td></td>\n",
       "      <td></td>\n",
       "      <td></td>\n",
       "      <td></td>\n",
       "      <td></td>\n",
       "    </tr>\n",
       "    <tr>\n",
       "      <th>1045</th>\n",
       "      <td>Bernie Mac</td>\n",
       "      <td>None</td>\n",
       "      <td>Joanne Mattern</td>\n",
       "      <td>682</td>\n",
       "      <td>5252</td>\n",
       "      <td></td>\n",
       "      <td>5.0</td>\n",
       "      <td>5:2|4:0|3:0|2:0|1:0|total:2</td>\n",
       "      <td>2</td>\n",
       "      <td>0</td>\n",
       "      <td>2006-07-31</td>\n",
       "      <td>Hardcover</td>\n",
       "      <td>32</td>\n",
       "      <td></td>\n",
       "      <td></td>\n",
       "      <td></td>\n",
       "    </tr>\n",
       "    <tr>\n",
       "      <th>1072</th>\n",
       "      <td>Delaware 1638-1776 (Voices from Colonial America)</td>\n",
       "      <td>[{'id': '8305468', 'name': 'National Geographi...</td>\n",
       "      <td>National Geographic Kids</td>\n",
       "      <td>8305468</td>\n",
       "      <td>5279</td>\n",
       "      <td></td>\n",
       "      <td>5.0</td>\n",
       "      <td>5:1|4:0|3:0|2:0|1:0|total:1</td>\n",
       "      <td>1</td>\n",
       "      <td>0</td>\n",
       "      <td>2006</td>\n",
       "      <td>Hardcover</td>\n",
       "      <td>112</td>\n",
       "      <td>256625</td>\n",
       "      <td>Voices from Colonial America</td>\n",
       "      <td></td>\n",
       "    </tr>\n",
       "    <tr>\n",
       "      <th>1179</th>\n",
       "      <td>Simply Italian: 100 Easy-To-Make, Zesty, Satis...</td>\n",
       "      <td>[{'id': '781', 'name': 'Ruth Glick', 'role': '...</td>\n",
       "      <td>Ruth Glick</td>\n",
       "      <td>781</td>\n",
       "      <td>5374</td>\n",
       "      <td></td>\n",
       "      <td>5.0</td>\n",
       "      <td>5:1|4:0|3:0|2:0|1:0|total:1</td>\n",
       "      <td>1</td>\n",
       "      <td>0</td>\n",
       "      <td>1998</td>\n",
       "      <td>Paperback</td>\n",
       "      <td>161</td>\n",
       "      <td></td>\n",
       "      <td></td>\n",
       "      <td></td>\n",
       "    </tr>\n",
       "    <tr>\n",
       "      <th>1272</th>\n",
       "      <td>Rudolph Giuliani</td>\n",
       "      <td>None</td>\n",
       "      <td>Wil Mara</td>\n",
       "      <td>847</td>\n",
       "      <td>5454</td>\n",
       "      <td></td>\n",
       "      <td>5.0</td>\n",
       "      <td>5:3|4:0|3:0|2:0|1:0|total:3</td>\n",
       "      <td>3</td>\n",
       "      <td>1</td>\n",
       "      <td>2003-03</td>\n",
       "      <td>Paperback</td>\n",
       "      <td>32</td>\n",
       "      <td></td>\n",
       "      <td></td>\n",
       "      <td></td>\n",
       "    </tr>\n",
       "    <tr>\n",
       "      <th>1748</th>\n",
       "      <td>Singers, Heroes, and Gods in the Odyssey</td>\n",
       "      <td>None</td>\n",
       "      <td>Charles Segal</td>\n",
       "      <td>1161</td>\n",
       "      <td>5872</td>\n",
       "      <td></td>\n",
       "      <td>5.0</td>\n",
       "      <td>5:6|4:0|3:0|2:0|1:0|total:6</td>\n",
       "      <td>6</td>\n",
       "      <td>2</td>\n",
       "      <td>1994-12-01</td>\n",
       "      <td>Paperback</td>\n",
       "      <td>264</td>\n",
       "      <td></td>\n",
       "      <td></td>\n",
       "      <td></td>\n",
       "    </tr>\n",
       "    <tr>\n",
       "      <th>1773</th>\n",
       "      <td>Fanaroff and Martin's Neonatal-Perinatal Medic...</td>\n",
       "      <td>[{'id': '327620', 'name': 'Avroy A. Fanaroff',...</td>\n",
       "      <td>Avroy A. Fanaroff</td>\n",
       "      <td>327620</td>\n",
       "      <td>5897</td>\n",
       "      <td></td>\n",
       "      <td>5.0</td>\n",
       "      <td>5:4|4:0|3:0|2:0|1:0|total:4</td>\n",
       "      <td>4</td>\n",
       "      <td>0</td>\n",
       "      <td>2001-08-17</td>\n",
       "      <td>Hardcover</td>\n",
       "      <td>2036</td>\n",
       "      <td></td>\n",
       "      <td></td>\n",
       "      <td></td>\n",
       "    </tr>\n",
       "    <tr>\n",
       "      <th>1975</th>\n",
       "      <td>A Den Of Thieves</td>\n",
       "      <td>None</td>\n",
       "      <td>Gretta Mulrooney</td>\n",
       "      <td>1331</td>\n",
       "      <td>6053</td>\n",
       "      <td></td>\n",
       "      <td>5.0</td>\n",
       "      <td>5:1|4:0|3:0|2:0|1:0|total:1</td>\n",
       "      <td>1</td>\n",
       "      <td>0</td>\n",
       "      <td>1995</td>\n",
       "      <td></td>\n",
       "      <td></td>\n",
       "      <td></td>\n",
       "      <td></td>\n",
       "      <td></td>\n",
       "    </tr>\n",
       "    <tr>\n",
       "      <th>2034</th>\n",
       "      <td>Comoediae 1: Acharenses/Equites/Nubes/Vespae/P...</td>\n",
       "      <td>[{'id': '1011', 'name': 'Aristophanes', 'role'...</td>\n",
       "      <td>Aristophanes</td>\n",
       "      <td>1011</td>\n",
       "      <td>17114130</td>\n",
       "      <td>grc</td>\n",
       "      <td>5.0</td>\n",
       "      <td>5:1|4:0|3:0|2:0|1:0|total:1</td>\n",
       "      <td>1</td>\n",
       "      <td>0</td>\n",
       "      <td>1922-10-05</td>\n",
       "      <td>hardback</td>\n",
       "      <td>364</td>\n",
       "      <td></td>\n",
       "      <td></td>\n",
       "      <td></td>\n",
       "    </tr>\n",
       "  </tbody>\n",
       "</table>\n",
       "</div>"
      ],
      "text/plain": [
       "                                                  title  \\\n",
       "id                                                        \n",
       "238   Later Letters of Edward Lear to Chichester For...   \n",
       "529                     Lord of the Flies Activity Pack   \n",
       "1045                                         Bernie Mac   \n",
       "1072  Delaware 1638-1776 (Voices from Colonial America)   \n",
       "1179  Simply Italian: 100 Easy-To-Make, Zesty, Satis...   \n",
       "1272                                   Rudolph Giuliani   \n",
       "1748           Singers, Heroes, and Gods in the Odyssey   \n",
       "1773  Fanaroff and Martin's Neonatal-Perinatal Medic...   \n",
       "1975                                   A Den Of Thieves   \n",
       "2034  Comoediae 1: Acharenses/Equites/Nubes/Vespae/P...   \n",
       "\n",
       "                                                authors  \\\n",
       "id                                                        \n",
       "238                                                None   \n",
       "529                                                None   \n",
       "1045                                               None   \n",
       "1072  [{'id': '8305468', 'name': 'National Geographi...   \n",
       "1179  [{'id': '781', 'name': 'Ruth Glick', 'role': '...   \n",
       "1272                                               None   \n",
       "1748                                               None   \n",
       "1773  [{'id': '327620', 'name': 'Avroy A. Fanaroff',...   \n",
       "1975                                               None   \n",
       "2034  [{'id': '1011', 'name': 'Aristophanes', 'role'...   \n",
       "\n",
       "                   author_name  author_id   work_id language  average_rating  \\\n",
       "id                                                                             \n",
       "238                Edward Lear        142      4580                      5.0   \n",
       "529           James      Scott   10685776  19190202                      5.0   \n",
       "1045            Joanne Mattern        682      5252                      5.0   \n",
       "1072  National Geographic Kids    8305468      5279                      5.0   \n",
       "1179                Ruth Glick        781      5374                      5.0   \n",
       "1272                  Wil Mara        847      5454                      5.0   \n",
       "1748             Charles Segal       1161      5872                      5.0   \n",
       "1773         Avroy A. Fanaroff     327620      5897                      5.0   \n",
       "1975          Gretta Mulrooney       1331      6053                      5.0   \n",
       "2034              Aristophanes       1011  17114130      grc             5.0   \n",
       "\n",
       "                      rating_dist  ratings_count  text_reviews_count  \\\n",
       "id                                                                     \n",
       "238   5:4|4:0|3:0|2:0|1:0|total:4              4                   2   \n",
       "529   5:1|4:0|3:0|2:0|1:0|total:1              1                   0   \n",
       "1045  5:2|4:0|3:0|2:0|1:0|total:2              2                   0   \n",
       "1072  5:1|4:0|3:0|2:0|1:0|total:1              1                   0   \n",
       "1179  5:1|4:0|3:0|2:0|1:0|total:1              1                   0   \n",
       "1272  5:3|4:0|3:0|2:0|1:0|total:3              3                   1   \n",
       "1748  5:6|4:0|3:0|2:0|1:0|total:6              6                   2   \n",
       "1773  5:4|4:0|3:0|2:0|1:0|total:4              4                   0   \n",
       "1975  5:1|4:0|3:0|2:0|1:0|total:1              1                   0   \n",
       "2034  5:1|4:0|3:0|2:0|1:0|total:1              1                   0   \n",
       "\n",
       "     original_publication_date     format num_pages series_id  \\\n",
       "id                                                              \n",
       "238                 1907-01-01                                  \n",
       "529                                                             \n",
       "1045                2006-07-31  Hardcover        32             \n",
       "1072                      2006  Hardcover       112    256625   \n",
       "1179                      1998  Paperback       161             \n",
       "1272                   2003-03  Paperback        32             \n",
       "1748                1994-12-01  Paperback       264             \n",
       "1773                2001-08-17  Hardcover      2036             \n",
       "1975                      1995                                  \n",
       "2034                1922-10-05   hardback       364             \n",
       "\n",
       "                       series_name series_position  \n",
       "id                                                  \n",
       "238                                                 \n",
       "529                                                 \n",
       "1045                                                \n",
       "1072  Voices from Colonial America                  \n",
       "1179                                                \n",
       "1272                                                \n",
       "1748                                                \n",
       "1773                                                \n",
       "1975                                                \n",
       "2034                                                "
      ]
     },
     "execution_count": 47,
     "metadata": {},
     "output_type": "execute_result"
    }
   ],
   "source": [
    "books.nlargest(10, \"average_rating\")"
   ]
  },
  {
   "cell_type": "code",
   "execution_count": 48,
   "metadata": {
    "ExecuteTime": {
     "end_time": "2023-10-31T16:25:31.077161700Z",
     "start_time": "2023-10-31T16:25:21.076890300Z"
    }
   },
   "outputs": [
    {
     "data": {
      "text/html": [
       "<div>\n",
       "<style scoped>\n",
       "    .dataframe tbody tr th:only-of-type {\n",
       "        vertical-align: middle;\n",
       "    }\n",
       "\n",
       "    .dataframe tbody tr th {\n",
       "        vertical-align: top;\n",
       "    }\n",
       "\n",
       "    .dataframe thead th {\n",
       "        text-align: right;\n",
       "    }\n",
       "</style>\n",
       "<table border=\"1\" class=\"dataframe\">\n",
       "  <thead>\n",
       "    <tr style=\"text-align: right;\">\n",
       "      <th></th>\n",
       "      <th>title</th>\n",
       "      <th>authors</th>\n",
       "      <th>author_name</th>\n",
       "      <th>author_id</th>\n",
       "      <th>work_id</th>\n",
       "      <th>language</th>\n",
       "      <th>average_rating</th>\n",
       "      <th>rating_dist</th>\n",
       "      <th>ratings_count</th>\n",
       "      <th>text_reviews_count</th>\n",
       "      <th>original_publication_date</th>\n",
       "      <th>format</th>\n",
       "      <th>num_pages</th>\n",
       "      <th>series_id</th>\n",
       "      <th>series_name</th>\n",
       "      <th>series_position</th>\n",
       "    </tr>\n",
       "    <tr>\n",
       "      <th>id</th>\n",
       "      <th></th>\n",
       "      <th></th>\n",
       "      <th></th>\n",
       "      <th></th>\n",
       "      <th></th>\n",
       "      <th></th>\n",
       "      <th></th>\n",
       "      <th></th>\n",
       "      <th></th>\n",
       "      <th></th>\n",
       "      <th></th>\n",
       "      <th></th>\n",
       "      <th></th>\n",
       "      <th></th>\n",
       "      <th></th>\n",
       "      <th></th>\n",
       "    </tr>\n",
       "  </thead>\n",
       "  <tbody>\n",
       "    <tr>\n",
       "      <th>854</th>\n",
       "      <td>A More Perfect Way</td>\n",
       "      <td>None</td>\n",
       "      <td>Alex C. Jones</td>\n",
       "      <td>4429527</td>\n",
       "      <td>5083</td>\n",
       "      <td></td>\n",
       "      <td>0.0</td>\n",
       "      <td>5:0|4:0|3:0|2:0|1:0|total:0</td>\n",
       "      <td>0</td>\n",
       "      <td>0</td>\n",
       "      <td>2002</td>\n",
       "      <td>Audio Cassette</td>\n",
       "      <td></td>\n",
       "      <td></td>\n",
       "      <td></td>\n",
       "      <td></td>\n",
       "    </tr>\n",
       "    <tr>\n",
       "      <th>855</th>\n",
       "      <td>Fields of Gold</td>\n",
       "      <td>None</td>\n",
       "      <td>Alex Jones</td>\n",
       "      <td>4098147</td>\n",
       "      <td>5084</td>\n",
       "      <td></td>\n",
       "      <td>0.0</td>\n",
       "      <td>5:0|4:0|3:0|2:0|1:0|total:0</td>\n",
       "      <td>0</td>\n",
       "      <td>0</td>\n",
       "      <td>2005</td>\n",
       "      <td>Paperback</td>\n",
       "      <td>96</td>\n",
       "      <td></td>\n",
       "      <td></td>\n",
       "      <td></td>\n",
       "    </tr>\n",
       "    <tr>\n",
       "      <th>860</th>\n",
       "      <td>Justitiemord: Fallet Keith Cederholm</td>\n",
       "      <td>None</td>\n",
       "      <td>Jan Guillou</td>\n",
       "      <td>260713</td>\n",
       "      <td>5088</td>\n",
       "      <td></td>\n",
       "      <td>0.0</td>\n",
       "      <td>5:0|4:0|3:0|2:0|1:0|total:0</td>\n",
       "      <td>0</td>\n",
       "      <td>0</td>\n",
       "      <td>1983</td>\n",
       "      <td></td>\n",
       "      <td></td>\n",
       "      <td></td>\n",
       "      <td></td>\n",
       "      <td></td>\n",
       "    </tr>\n",
       "    <tr>\n",
       "      <th>927</th>\n",
       "      <td>The Rain Falls Like Rain: Poems</td>\n",
       "      <td>None</td>\n",
       "      <td>David Helwig</td>\n",
       "      <td>613</td>\n",
       "      <td>5148</td>\n",
       "      <td></td>\n",
       "      <td>0.0</td>\n",
       "      <td>5:0|4:0|3:0|2:0|1:0|total:0</td>\n",
       "      <td>0</td>\n",
       "      <td>0</td>\n",
       "      <td>1982</td>\n",
       "      <td></td>\n",
       "      <td>204</td>\n",
       "      <td></td>\n",
       "      <td></td>\n",
       "      <td></td>\n",
       "    </tr>\n",
       "    <tr>\n",
       "      <th>928</th>\n",
       "      <td>The Rain Falls Like Rain: Poems</td>\n",
       "      <td>None</td>\n",
       "      <td>David Helwig</td>\n",
       "      <td>613</td>\n",
       "      <td>5148</td>\n",
       "      <td></td>\n",
       "      <td>0.0</td>\n",
       "      <td>5:0|4:0|3:0|2:0|1:0|total:0</td>\n",
       "      <td>0</td>\n",
       "      <td>0</td>\n",
       "      <td>1982</td>\n",
       "      <td></td>\n",
       "      <td></td>\n",
       "      <td></td>\n",
       "      <td></td>\n",
       "      <td></td>\n",
       "    </tr>\n",
       "    <tr>\n",
       "      <th>1050</th>\n",
       "      <td>Riches in Real Estate: A Beginner's Guide to G...</td>\n",
       "      <td>None</td>\n",
       "      <td>Robert  Irwin</td>\n",
       "      <td>6538881</td>\n",
       "      <td>5257</td>\n",
       "      <td></td>\n",
       "      <td>0.0</td>\n",
       "      <td>5:0|4:0|3:0|2:0|1:0|total:0</td>\n",
       "      <td>0</td>\n",
       "      <td>0</td>\n",
       "      <td>1981</td>\n",
       "      <td></td>\n",
       "      <td></td>\n",
       "      <td></td>\n",
       "      <td></td>\n",
       "      <td></td>\n",
       "    </tr>\n",
       "    <tr>\n",
       "      <th>1288</th>\n",
       "      <td>J.K.Lasser Pro Real Estate Investment Trusts: ...</td>\n",
       "      <td>None</td>\n",
       "      <td>Richard Imperiale</td>\n",
       "      <td>855</td>\n",
       "      <td>5470</td>\n",
       "      <td></td>\n",
       "      <td>0.0</td>\n",
       "      <td>5:0|4:0|3:0|2:0|1:0|total:0</td>\n",
       "      <td>0</td>\n",
       "      <td>0</td>\n",
       "      <td>2002-06-15</td>\n",
       "      <td>Hardcover</td>\n",
       "      <td>372</td>\n",
       "      <td></td>\n",
       "      <td></td>\n",
       "      <td></td>\n",
       "    </tr>\n",
       "    <tr>\n",
       "      <th>1302</th>\n",
       "      <td>Juiced Official Strategy Guide</td>\n",
       "      <td>None</td>\n",
       "      <td>Doug Walsh</td>\n",
       "      <td>86680</td>\n",
       "      <td>5479</td>\n",
       "      <td>eng</td>\n",
       "      <td>0.0</td>\n",
       "      <td>5:0|4:0|3:0|2:0|1:0|total:0</td>\n",
       "      <td>0</td>\n",
       "      <td>0</td>\n",
       "      <td>2005-06-01</td>\n",
       "      <td>Paperback</td>\n",
       "      <td>112</td>\n",
       "      <td></td>\n",
       "      <td></td>\n",
       "      <td></td>\n",
       "    </tr>\n",
       "    <tr>\n",
       "      <th>1348</th>\n",
       "      <td>The Platonism of Marsilio Ficino: A Study of H...</td>\n",
       "      <td>None</td>\n",
       "      <td>Michael J.B. Allen</td>\n",
       "      <td>3970632</td>\n",
       "      <td>5522</td>\n",
       "      <td></td>\n",
       "      <td>0.0</td>\n",
       "      <td>5:0|4:0|3:0|2:0|1:0|total:0</td>\n",
       "      <td>0</td>\n",
       "      <td>0</td>\n",
       "      <td>1984</td>\n",
       "      <td>Unknown Binding</td>\n",
       "      <td>284</td>\n",
       "      <td></td>\n",
       "      <td></td>\n",
       "      <td></td>\n",
       "    </tr>\n",
       "    <tr>\n",
       "      <th>1596</th>\n",
       "      <td>The Nightingale Question: Five Poets from Saxony</td>\n",
       "      <td>None</td>\n",
       "      <td>Tessa Ransford</td>\n",
       "      <td>610771</td>\n",
       "      <td>5732</td>\n",
       "      <td></td>\n",
       "      <td>0.0</td>\n",
       "      <td>5:0|4:0|3:0|2:0|1:0|total:0</td>\n",
       "      <td>0</td>\n",
       "      <td>0</td>\n",
       "      <td>2004-07-15</td>\n",
       "      <td>Paperback</td>\n",
       "      <td>108</td>\n",
       "      <td></td>\n",
       "      <td></td>\n",
       "      <td></td>\n",
       "    </tr>\n",
       "  </tbody>\n",
       "</table>\n",
       "</div>"
      ],
      "text/plain": [
       "                                                  title authors  \\\n",
       "id                                                                \n",
       "854                                  A More Perfect Way    None   \n",
       "855                                      Fields of Gold    None   \n",
       "860                Justitiemord: Fallet Keith Cederholm    None   \n",
       "927                     The Rain Falls Like Rain: Poems    None   \n",
       "928                     The Rain Falls Like Rain: Poems    None   \n",
       "1050  Riches in Real Estate: A Beginner's Guide to G...    None   \n",
       "1288  J.K.Lasser Pro Real Estate Investment Trusts: ...    None   \n",
       "1302                     Juiced Official Strategy Guide    None   \n",
       "1348  The Platonism of Marsilio Ficino: A Study of H...    None   \n",
       "1596   The Nightingale Question: Five Poets from Saxony    None   \n",
       "\n",
       "             author_name  author_id  work_id language  average_rating  \\\n",
       "id                                                                      \n",
       "854        Alex C. Jones    4429527     5083                      0.0   \n",
       "855           Alex Jones    4098147     5084                      0.0   \n",
       "860          Jan Guillou     260713     5088                      0.0   \n",
       "927         David Helwig        613     5148                      0.0   \n",
       "928         David Helwig        613     5148                      0.0   \n",
       "1050       Robert  Irwin    6538881     5257                      0.0   \n",
       "1288   Richard Imperiale        855     5470                      0.0   \n",
       "1302          Doug Walsh      86680     5479      eng             0.0   \n",
       "1348  Michael J.B. Allen    3970632     5522                      0.0   \n",
       "1596      Tessa Ransford     610771     5732                      0.0   \n",
       "\n",
       "                      rating_dist  ratings_count  text_reviews_count  \\\n",
       "id                                                                     \n",
       "854   5:0|4:0|3:0|2:0|1:0|total:0              0                   0   \n",
       "855   5:0|4:0|3:0|2:0|1:0|total:0              0                   0   \n",
       "860   5:0|4:0|3:0|2:0|1:0|total:0              0                   0   \n",
       "927   5:0|4:0|3:0|2:0|1:0|total:0              0                   0   \n",
       "928   5:0|4:0|3:0|2:0|1:0|total:0              0                   0   \n",
       "1050  5:0|4:0|3:0|2:0|1:0|total:0              0                   0   \n",
       "1288  5:0|4:0|3:0|2:0|1:0|total:0              0                   0   \n",
       "1302  5:0|4:0|3:0|2:0|1:0|total:0              0                   0   \n",
       "1348  5:0|4:0|3:0|2:0|1:0|total:0              0                   0   \n",
       "1596  5:0|4:0|3:0|2:0|1:0|total:0              0                   0   \n",
       "\n",
       "     original_publication_date           format num_pages series_id  \\\n",
       "id                                                                    \n",
       "854                       2002   Audio Cassette                       \n",
       "855                       2005        Paperback        96             \n",
       "860                       1983                                        \n",
       "927                       1982                        204             \n",
       "928                       1982                                        \n",
       "1050                      1981                                        \n",
       "1288                2002-06-15        Hardcover       372             \n",
       "1302                2005-06-01        Paperback       112             \n",
       "1348                      1984  Unknown Binding       284             \n",
       "1596                2004-07-15        Paperback       108             \n",
       "\n",
       "     series_name series_position  \n",
       "id                                \n",
       "854                               \n",
       "855                               \n",
       "860                               \n",
       "927                               \n",
       "928                               \n",
       "1050                              \n",
       "1288                              \n",
       "1302                              \n",
       "1348                              \n",
       "1596                              "
      ]
     },
     "execution_count": 48,
     "metadata": {},
     "output_type": "execute_result"
    }
   ],
   "source": [
    "books.nsmallest(10, \"average_rating\")"
   ]
  },
  {
   "cell_type": "markdown",
   "metadata": {},
   "source": [
    "As we seen in the Exploratory Data Analysis there are lots of entries with rating 0.0 or 5.0 from them only 10 are taken and printed. As we can see observing the \"id\" they are also ordered by id. This could both mean that Pandas automatically choose \"id\" as a secondary ordering value or it took the first values it founds, as also in the source .json file entries are ordered by \"id\"."
   ]
  },
  {
   "cell_type": "markdown",
   "metadata": {},
   "source": [
    "**Request 2.4:** Explore the different languages in the book’s dataset, providing a proper chart summarizing how these languages are distributed throughout our virtual library.\n",
    "\n",
    "---\n",
    "\n",
    "We firstly plot the distribution of all languages across the whole dataset."
   ]
  },
  {
   "cell_type": "code",
   "execution_count": 102,
   "metadata": {
    "ExecuteTime": {
     "end_time": "2023-10-31T16:25:31.081674500Z",
     "start_time": "2023-10-31T16:25:31.079669400Z"
    }
   },
   "outputs": [
    {
     "data": {
      "image/png": "[encoded data removed]",
      "text/plain": [
       "<Figure size 3000x1000 with 1 Axes>"
      ]
     },
     "metadata": {},
     "output_type": "display_data"
    }
   ],
   "source": [
    "plt.figure(figsize=(30, 10))\n",
    "plot_languages = books['language'].value_counts()\n",
    "plt.bar(plot_languages.index, plot_languages.values, color='skyblue')\n",
    "plt.xlabel('Language')\n",
    "plt.ylabel('Number of Books')\n",
    "plt.xticks(rotation=90)\n",
    "plt.xticks(fontsize=6)\n",
    "plt.yscale('log')\n",
    "plt.tight_layout()\n",
    "plt.show()"
   ]
  },
  {
   "cell_type": "code",
   "execution_count": 111,
   "metadata": {},
   "outputs": [
    {
     "name": "stdout",
     "output_type": "stream",
     "text": [
      "The number of entries with an empty string as language is:  4340264\n",
      "That's 62.0 % of the whole dataset!\n"
     ]
    }
   ],
   "source": [
    "no_language = books[books[\"language\"] == \"\"].shape[0]\n",
    "\n",
    "print(\"The number of entries with an empty string as language is: \", no_language)\n",
    "print(\"That's\", round(no_language / books.shape[0], 2) * 100, \"% of the whole dataset!\")"
   ]
  },
  {
   "cell_type": "markdown",
   "metadata": {},
   "source": [
    "Since empty strings are so common we decided to remove them from this plotting. We observe also other kinds of wrong values as \"--\" and \"Select...\". We also notice that a great amount of languages are present in only a single book and therefore decided to reduce the number of languages plotted for visibility porpuses."
   ]
  },
  {
   "cell_type": "code",
   "execution_count": 114,
   "metadata": {},
   "outputs": [
    {
     "data": {
      "image/png": "[encoded data removed]",
      "text/plain": [
       "<Figure size 2000x1000 with 1 Axes>"
      ]
     },
     "metadata": {},
     "output_type": "display_data"
    }
   ],
   "source": [
    "languages = books[(books[\"language\"] != (\"\" and \"--\" and \"Select...\"))]\n",
    "plot_languages = languages['language'].value_counts().head(100)\n",
    "\n",
    "plt.figure(figsize=(20, 10))\n",
    "plt.bar(plot_languages.index, plot_languages.values, color='skyblue')\n",
    "plt.yscale('log')\n",
    "plt.xticks(rotation=90)\n",
    "plt.show()"
   ]
  },
  {
   "cell_type": "code",
   "execution_count": 109,
   "metadata": {},
   "outputs": [
    {
     "name": "stdout",
     "output_type": "stream",
     "text": [
      "The dataset contains 51.06 % english books.\n"
     ]
    }
   ],
   "source": [
    "print(\"The dataset contains\", round(languages[languages[\"language\"] == (\"eng\" or \"en-US\" or \"en-GB\" or \"en-CA\" or \"en\")].shape[0] / languages.shape[0], 4) * 100, \"% english books.\")\n",
    "print(\"The dataset contains\", round(languages[languages[\"language\"] == (\"ger\")].shape[0] / languages.shape[0], 4) * 100, \"% german books.\")\n",
    "print(\"The dataset contains\", round(languages[languages[\"language\"] == (\"spa\")].shape[0] / languages.shape[0], 4) * 100, \"% spanish books.\")\n",
    "print(\"The dataset contains\", round(languages[languages[\"language\"] == (\"ita\")].shape[0] / languages.shape[0], 4) * 100, \"% italian books.\")"
   ]
  },
  {
   "cell_type": "markdown",
   "metadata": {},
   "source": [
    "As we can see a large part of the dataset is made up of books written in English (we unified the different kinds of english, considering this significative as this will be also used in a following exercise."
   ]
  },
  {
   "cell_type": "markdown",
   "metadata": {},
   "source": [
    "**Request 2.5:** How many books have more than 250 pages?\n",
    "\n",
    "We noticed that there are some entries that have a void string instead of the number of pages. For this query we discard them."
   ]
  },
  {
   "cell_type": "code",
   "execution_count": null,
   "metadata": {
    "ExecuteTime": {
     "end_time": "2023-10-31T16:25:37.281135500Z",
     "start_time": "2023-10-31T16:25:33.376159700Z"
    }
   },
   "outputs": [],
   "source": [
    "# create a view that excludes the entries with void string\n",
    "df = books[books[\"num_pages\"] != \"\"]\n",
    "\n",
    "# execute query\n",
    "result = df[df[\"num_pages\"].astype(int) > 250].shape[0]\n",
    "\n",
    "print(\"There are\", result, \"books with more than 250 pages.\")"
   ]
  },
  {
   "cell_type": "markdown",
   "metadata": {},
   "source": [
    "**Request 2.6:** Plot the distribution of the fans count for the 50 most prolific authors (the ones who have written more books).\n",
    "\n",
    "---\n",
    "\n",
    "As seen in the Exploratory Data Analysis \"works_count\" had some wrong values, so we preferred to count the len of the list \"book_ids\".\n",
    "\n",
    "TODO"
   ]
  },
  {
   "cell_type": "code",
   "execution_count": null,
   "metadata": {},
   "outputs": [],
   "source": [
    "top_authors = authors.sort_values(by = \"works_count\", ascending = False).head(50)\n",
    "plt.bar(top_authors[\"name\"], top_authors[\"fans_count\"], color='blue')\n",
    "plt.xticks(rotation=90)\n",
    "plt.figure(figsize=(15, 10))"
   ]
  },
  {
   "cell_type": "markdown",
   "metadata": {},
   "source": [
    "There are some 'strange' values like NOT A BOOK or Unknown or Anonymous, let's plot without these values"
   ]
  },
  {
   "cell_type": "code",
   "execution_count": null,
   "metadata": {},
   "outputs": [],
   "source": [
    "df = authors[(authors[\"name\"] != \"NOT A BOOK\") & (authors[\"name\"] != \"Unknown\") & (authors[\"name\"] != \"Anonymous\")]"
   ]
  },
  {
   "cell_type": "code",
   "execution_count": null,
   "metadata": {},
   "outputs": [],
   "source": [
    "top_authors = df.sort_values(by=\"works_count\", ascending=False).head(50)\n",
    "plt.bar(top_authors[\"name\"], top_authors[\"fans_count\"], color='blue')\n",
    "plt.xticks(rotation=90)\n",
    "plt.figure(figsize=(15, 10))"
   ]
  },
  {
   "cell_type": "markdown",
   "metadata": {},
   "source": [
    "## [RQ3] Let’s have a historical look at the dataset!"
   ]
  },
  {
   "cell_type": "markdown",
   "metadata": {},
   "source": [
    "**Request 3.1:** Write a function that takes as input a year and returns as output the following information:\n",
    "\n",
    "* The number of books published that year.\n",
    "* The total number of pages written that year.\n",
    "* The most prolific month of that year.\n",
    "* The longest book written that year.\n",
    "\n",
    "---\n",
    "\n",
    "Cosa fare con i libri pubblicati nel futuro?"
   ]
  },
  {
   "cell_type": "code",
   "execution_count": null,
   "metadata": {
    "ExecuteTime": {
     "end_time": "2023-10-31T16:25:42.826421800Z",
     "start_time": "2023-10-31T16:25:42.810692100Z"
    }
   },
   "outputs": [],
   "source": [
    "# num pages cleaning\n",
    "df = books[books[\"num_pages\"] != \"\"]\n",
    "df[\"num_pages\"] = df[\"num_pages\"].astype(int)\n",
    "\n",
    "# date information gathering\n",
    "pattern = r\"(-?[1-9][0-9]{3}|[1-9][0-9]{2}|[1-9][0-9]|[0-9])(?:-(0[1-9]|1[0-2]))?(?:-([0-2][0-9]|3[0-1]))?\"\n",
    "df[[\"year\", \"month\", \"day\"]] = df[\"original_publication_date\"].str.extract(pattern)\n",
    "df = df[~df[\"year\"].isna()]"
   ]
  },
  {
   "cell_type": "markdown",
   "metadata": {},
   "source": [
    "We decided to ignore every book that has an invalid date format. We decided to also treat those years that have negative date (meaning BC), however for those dates (but not only for those) no month is given. Also some years for which month are used they are not always present. When they are present we for the calculation about the most prolific month we only use those books who specify the month, while when no month is specified we use the placeholder value \"00\"."
   ]
  },
  {
   "cell_type": "code",
   "execution_count": null,
   "metadata": {},
   "outputs": [],
   "source": [
    "def look_by_year(books, year):\n",
    "    books_year = books[books[\"year\"] == str(year)]\n",
    "\n",
    "    n_books = books_year.shape[0]\n",
    "    tot_pages = books_year[\"num_pages\"].sum()\n",
    "    longest_book = books_year[books_year[\"num_pages\"] >= books_year[\"num_pages\"].max()][\"title\"].head(1).item()\n",
    "\n",
    "    try:\n",
    "        prolific_month = books_year.groupby(\"month\")[\"num_pages\"].sum().idxmax()\n",
    "    except ValueError as e:\n",
    "        prolific_month = \"00\"\n",
    "\n",
    "    return n_books, tot_pages, prolific_month, longest_book\n",
    "\n",
    "# test the function with a random year\n",
    "\n",
    "look_by_year(df, 2000)"
   ]
  },
  {
   "cell_type": "markdown",
   "metadata": {},
   "source": [
    "**Request 3.2:** Use this function to build your data frame: the primary key will be a year, and the required information will be the attributes within the row. Finally, show the head and the tail of this new data frame considering the first ten years registered and the last ten years."
   ]
  },
  {
   "cell_type": "code",
   "execution_count": null,
   "metadata": {},
   "outputs": [],
   "source": [
    "per_year_dataset = pd.DataFrame()\n",
    "\n",
    "for year in tqdm(df[\"year\"].unique(), total = df[\"year\"].unique().shape[0]):\n",
    "    per_year_dataset = pd.concat([per_year_dataset, pd.DataFrame((year,) + look_by_year(df, year)).T])\n",
    "\n",
    "per_year_dataset = per_year_dataset.rename(columns = {0: \"year\", 1: \"num_books\", 2: \"tot_pages\", 3: \"prolific_month\", 4: \"longest_book\"})\n",
    "per_year_dataset = per_year_dataset.set_index(\"year\")\n",
    "per_year_dataset"
   ]
  },
  {
   "cell_type": "code",
   "execution_count": null,
   "metadata": {},
   "outputs": [],
   "source": [
    "per_year_dataset.head(10)"
   ]
  },
  {
   "cell_type": "code",
   "execution_count": null,
   "metadata": {},
   "outputs": [],
   "source": [
    "per_year_dataset.tail(10)"
   ]
  },
  {
   "cell_type": "markdown",
   "metadata": {},
   "source": [
    "**Request 3.3:** Ask ChatGPT or any other LLM chatbot tool to implement this function and compare your work with the one the bot gave you as an answer. Does the chatbot implementation work? Please test it out and verify the correctness of the implementation, explaining the process you followed to prove it."
   ]
  },
  {
   "cell_type": "markdown",
   "metadata": {},
   "source": [
    "## [RQ4] Quirks questions about consistency. In most cases, we will not have a consistent dataset, and the one we are dealing with is no exception. So, let's enhance our analysis."
   ]
  },
  {
   "cell_type": "markdown",
   "metadata": {},
   "source": [
    "**Request 4.1:** You should be sure there are no eponymous (different authors who have precisely the same name) in the author's dataset. Is it true?"
   ]
  },
  {
   "cell_type": "code",
   "execution_count": null,
   "metadata": {
    "ExecuteTime": {
     "end_time": "2023-11-02T14:32:19.482069300Z",
     "start_time": "2023-11-02T14:32:17.527174Z"
    }
   },
   "outputs": [],
   "source": [
    "#Check whether the entry is a duplicate or a different author\n",
    "\n",
    "names = authors['name'].value_counts()\n",
    "dupl_auth = names[names > 1]\n",
    "\n",
    "print(\"Number of double entries: \", len(dupl_auth))\n",
    "\n",
    "eponymous = []\n",
    "duplicates = []\n",
    "\n",
    "# iterate through the authors dataframe names, and if the same name matches 2 ids, append to eponymous, otherwise if singular id for both entries, append to duplicates\n",
    "\n",
    "for i in range(len(dupl_auth.index)):\n",
    "    auth_df = authors[authors['name'] == dupl_auth.index[i]]\n",
    "    if len(list(set(auth_df['book_ids'].iloc[0] + auth_df['book_ids'].iloc[1]))) == len(auth_df['book_ids'].iloc[0]) + len(auth_df['book_ids'].iloc[1]):\n",
    "        eponymous.append(dupl_auth.index[i])\n",
    "    else:\n",
    "        duplicates.append(dupl_auth.index[i])\n",
    "    \n",
    "print(\"The duplicate entries referring to the same authors are:\\n\", duplicates)\n",
    "print(\"\\n The actually eponymous authors are:\\n\", eponymous)\n"
   ]
  },
  {
   "cell_type": "markdown",
   "metadata": {},
   "source": [
    "**Request 4.2:** Write a function that, given a list of author_id, outputs a dictionary where each author_id is a key, and the related value is a list with the names of all the books the author has written."
   ]
  },
  {
   "cell_type": "code",
   "execution_count": null,
   "metadata": {
    "ExecuteTime": {
     "end_time": "2023-11-02T16:29:41.657526600Z",
     "start_time": "2023-11-02T16:29:41.628008600Z"
    }
   },
   "outputs": [],
   "source": [
    "def author_works_dic(author_ids: list):\n",
    "    auth_books = {i: None for i in author_ids}\n",
    "    for i in author_ids:\n",
    "        try:\n",
    "            bks = authors[authors['id'] == i].iloc[0][4] \n",
    "            ttls = list()\n",
    "            for bk in bks:                   \n",
    "                if books[books['id'] == int(bk)].shape[0] != 0: \n",
    "                    ttls.append(books[books['id'] == int(bk)].iloc[0]['title']) \n",
    "            auth_books[i] = ttls \n",
    "        except IndexError:\n",
    "            print(\"No author with ID: \", i)\n",
    "    return auth_books"
   ]
  },
  {
   "cell_type": "markdown",
   "metadata": {},
   "source": [
    "**Request 4.3:** What is the longest book title among the books of the top 20 authors regarding their average rating? Is it the longest book title overall?"
   ]
  },
  {
   "cell_type": "code",
   "execution_count": null,
   "metadata": {
    "ExecuteTime": {
     "end_time": "2023-11-02T16:44:33.092133900Z",
     "start_time": "2023-11-02T16:43:08.772331600Z"
    }
   },
   "outputs": [],
   "source": [
    "top_20_rating_auth = authors.nlargest(10, \"average_rating\")[\"id\"]\n",
    "top_20_rating_books = author_works_dic(top_20_rating_auth)\n",
    "\n",
    "longest_title = \"\"\n",
    "\n",
    "for i in top_20_rating_books.values():\n",
    "    for title in i:\n",
    "        if len(title) > len(longest_title):\n",
    "            longest_title = title\n",
    "\n",
    "longest_overall_title = books['title'].str.len().idxmax()\n",
    "print(\"The longest title is:\", longest_title)\n",
    "print(\"\\n The longest overall title is:\", longest_overall_title)\n"
   ]
  },
  {
   "cell_type": "markdown",
   "metadata": {},
   "source": [
    "**Request 4.4:** What is the shortest overall book title in the dataset? If you find something strange, provide a comment on what happened and an alternative answer."
   ]
  },
  {
   "cell_type": "code",
   "execution_count": null,
   "metadata": {
    "ExecuteTime": {
     "end_time": "2023-11-02T16:46:00.261513500Z",
     "start_time": "2023-11-02T16:45:43.308888Z"
    }
   },
   "outputs": [],
   "source": [
    "if not books[\"title\"].isnull():\n",
    "    shortest_book_ever = books[\"title\"].str.len().idmin()\n",
    "\n",
    "print(shortest_book_ever)"
   ]
  },
  {
   "cell_type": "markdown",
   "metadata": {},
   "source": [
    "## [RQ5] We can consider the authors with the most fans to be influential. Let’s have a deeper look."
   ]
  },
  {
   "cell_type": "markdown",
   "metadata": {},
   "source": [
    "**Request 5.1a:** Plot the top 10 most influential authors regarding their fan count and number of books."
   ]
  },
  {
   "cell_type": "code",
   "execution_count": null,
   "metadata": {
    "ExecuteTime": {
     "end_time": "2023-10-31T16:49:54.474245800Z",
     "start_time": "2023-10-31T16:49:46.746746Z"
    }
   },
   "outputs": [],
   "source": [
    "# count the actual number of books written by every author using the length of the list of his book ids.\n",
    "authors[\"book_count\"] = authors[\"work_ids\"].apply(len)\n",
    "\n",
    "# 10 most influential authors regarding their fan count\n",
    "x = authors.nlargest(10, \"fans_count\")\n",
    "\n",
    "# plot the data\n",
    "plt.figure(figsize=(12, 6))\n",
    "plt.barh(x[\"name\"], x[\"fans_count\"], color = 'green', label = 'Fan Count')\n",
    "plt.figure(figsize=(12, 6))\n",
    "plt.barh(x[\"name\"], x[\"book_count\"], color = 'blue', label = 'Book Count')\n",
    "plt.show()"
   ]
  },
  {
   "cell_type": "markdown",
   "metadata": {},
   "source": [
    "**Request 5.1b:** Plot the top 10 most influential authors regarding their fan count and number of books. Who is the most influential author?"
   ]
  },
  {
   "cell_type": "code",
   "execution_count": null,
   "metadata": {
    "ExecuteTime": {
     "end_time": "2023-10-31T16:49:54.691100300Z",
     "start_time": "2023-10-31T16:49:54.453201300Z"
    }
   },
   "outputs": [],
   "source": [
    "# most influential author\n",
    "m_inf = authors.nlargest(1, \"fans_count\")\n",
    "print(\"The most influential author, having by far the largest fanbase is:\", m_inf[\"name\"].to_string(index = False))"
   ]
  },
  {
   "cell_type": "markdown",
   "metadata": {},
   "source": [
    "**Request 5.2:** Have they published any series of books? If any, extract the longest series name among these authors."
   ]
  },
  {
   "cell_type": "code",
   "execution_count": null,
   "metadata": {
    "ExecuteTime": {
     "end_time": "2023-10-31T16:50:24.987942600Z",
     "start_time": "2023-10-31T16:50:18.020833300Z"
    }
   },
   "outputs": [],
   "source": [
    "# create a new dataframe containing only the books written by the top 10 authors\n",
    "top_authors_books = books[books[\"author_id\"].isin(list(x[\"id\"]))]\n",
    "\n",
    "# get the series authors by their \"series position\" to find who has written series, and use max position to determine their longest series' length.\n",
    "author_series_lengths = top_authors_books.groupby([\"author_id\", \"author_name\"])[\"series_position\"].max().reset_index()\n",
    "\n",
    "# return the highest series position, thus the longest series author and name\n",
    "author_series = top_authors_books.groupby([\"author_id\", \"author_name\", \"series_name\"])[\"series_position\"].max().reset_index()\n",
    "max_series = author_series[author_series[\"series_position\"] == author_series[\"series_position\"].max()]\n",
    "\n",
    "print(\"Authors of series are:\")\n",
    "print(author_series_lengths[\"author_name\"].to_string(index = False))\n",
    "\n",
    "print(\"\\nThe author of the longest series is:\")\n",
    "print(max_series[\"author_name\"].to_string(index = False))\n",
    "print(\"And the series is:\")\n",
    "print(max_series[\"series_name\"].to_string(index = False))"
   ]
  },
  {
   "cell_type": "markdown",
   "metadata": {},
   "source": [
    "**Request 5.3:** How many of these authors have been published in different formats? Provide a meaningful chart on the distribution of the formats and comment on it."
   ]
  },
  {
   "cell_type": "code",
   "execution_count": null,
   "metadata": {
    "ExecuteTime": {
     "end_time": "2023-10-31T16:50:50.051894400Z",
     "start_time": "2023-10-31T16:50:47.793254400Z"
    }
   },
   "outputs": [],
   "source": [
    "# to find the authors published in different formats from the top 10\n",
    "authors_with_different_formats = top_authors_books[top_authors_books.duplicated(subset=[\"author_id\"], keep = False)]\n",
    "authors_with_different_formats = authors_with_different_formats[authors_with_different_formats[\"format\"] != \"\"]\n",
    "\n",
    "# to avoid name repetition\n",
    "unique_author_ids = authors_with_different_formats[\"author_id\"].unique()\n",
    "\n",
    "# create a separate chart for each author with multiple formats\n",
    "for author_id in unique_author_ids:\n",
    "    author_data = authors_with_different_formats[authors_with_different_formats[\"author_id\"] == author_id]\n",
    "    author_name = author_data[\"author_name\"].values[0]\n",
    "    format_distribution = author_data[\"format\"].value_counts()\n",
    "    \n",
    "    format_distribution.plot(kind='bar')\n",
    "    plt.title(f\"Formats Distribution for {author_name}\")\n",
    "    plt.xlabel(\"Format\")\n",
    "    plt.ylabel(\"Count\")\n",
    "    plt.show()"
   ]
  },
  {
   "cell_type": "markdown",
   "metadata": {},
   "source": [
    "**Comments on the graphs above:** we can see that the books are mainly published in paperback and hardcover formats, whereas the \"newer\" digital formats are very few. This would be due to 3 main reasons: \n",
    "1- the age of most of the books written by these authors since audiobooks and ebook formats are relatively new.\n",
    "2- even with more widely available digital formats now, these are authors of novels and readers who usually enjoy leisurely reading prefer the physical format of paper, rather than reading through a screen.\n",
    "3- Once a book has been published in a digital format, there is no need to republish it using another editorial, since it is already on the internet, a more universal \"bookstore\"."
   ]
  },
  {
   "cell_type": "markdown",
   "metadata": {},
   "source": [
    "**Request 5.4:** Provide information about the general response from readers (number of fans, average rating, number of reviews, etc.), divide the authors by gender, and comment about anything eventually related to “structural bias.” You may want to have a look at the following recommended readings:\n",
    "\n",
    "- https://bhm.scholasticahq.com/article/38021\n",
    "- https://priyanka-ddit.medium.com/how-to-deal-with-imbalanced-dataset-86de86c49\n",
    "- https://compass.onlinelibrary.wiley.com/doi/10.1111/soc4.12962\n",
    "\n",
    "You can even ask ChatGPT or any other LLM chatbot tool: try to formulate a prompt that provides helpful information about it. Put that information in your notebook and provide comments on what you found."
   ]
  },
  {
   "cell_type": "markdown",
   "metadata": {},
   "source": []
  },
  {
   "cell_type": "code",
   "execution_count": null,
   "metadata": {
    "ExecuteTime": {
     "end_time": "2023-11-02T14:07:56.622333100Z",
     "start_time": "2023-11-02T14:07:55.437387400Z"
    }
   },
   "outputs": [],
   "source": [
    "# Transform gender values to \"male,\" \"female,\" or \"other\"\n",
    "authors['gender'] = authors['gender'].str.lower().apply(\n",
    "    lambda x: 'male' if x == 'male' else ('female' if x == 'female' else 'other'))\n",
    "\n",
    "# Group the new simpler data by gender, and get mean values\n",
    "gender_grouped = authors.groupby('gender').agg({'average_rating': 'mean', 'fans_count': 'mean'}).reset_index()\n",
    "\n",
    "# Plots to visibly show any disparities\n",
    "fig, (ax1, ax2) = plt.subplots(1, 2, figsize=(12, 5))\n",
    "\n",
    "# Plot the first subplot for average ratings\n",
    "ax1.bar(gender_grouped['gender'], gender_grouped['average_rating'])\n",
    "ax1.set_title('Average Ratings by Gender')\n",
    "ax1.set_xlabel('Gender')\n",
    "ax1.set_ylabel('Mean Average Rating')\n",
    "\n",
    "# Plot the second subplot for fan counts\n",
    "ax2.bar(gender_grouped['gender'], gender_grouped['fans_count'])\n",
    "ax2.set_title('Fan Counts by Gender')\n",
    "ax2.set_xlabel('Gender')\n",
    "ax2.set_ylabel('Mean Fan Count')\n",
    "\n",
    "plt.show()"
   ]
  },
  {
   "cell_type": "markdown",
   "metadata": {},
   "source": [
    "**Analysis:**\n",
    "\n",
    "Average Ratings:\n",
    "\n",
    "In terms of average rating, males, females and unassigned authors do not witness any visible disparity, all being relatively close to each other with only a slight advantage for females.\n",
    "\n",
    "Fan Count:\n",
    "\n",
    "The fan count is another story however where females have a far higher fan count than both males and \"other\", at almost double the men's and quadruple the \"others\". \n",
    "\n",
    "Please note now however that this analysis still holds regardless of the \"heavy\" cleaning and grouping of genders since even if some of the \"grouped values\" like he/him for example would actually be grouped into the \"male\" section. The reason why the distribution would still be similar under the assumption that the \"falsely grouped\" values would be evenly spread into both \"male and female\", where the only final result that would meaningfully change is the number of fans to the authors who really fall into the \"others\" group."
   ]
  },
  {
   "cell_type": "markdown",
   "metadata": {},
   "source": [
    "## [RQ6] For this question, consider the top 10 authors concerning the number of fans again."
   ]
  },
  {
   "cell_type": "markdown",
   "metadata": {},
   "source": [
    "    Provide the average time gap between two subsequent publications for a series of books and those not belonging to a series. What do you expect to see, and what is the actual answer to this question?\n",
    "    For each of the authors, give a convenient plot showing how many books has the given author published UP TO a given year. Are these authors contemporary with each other? Can you notice a range of years where their production rate was higher?"
   ]
  },
  {
   "cell_type": "markdown",
   "metadata": {},
   "source": [
    "**Request 6.1:** Provide the average time gap between two subsequent publications for a series of books and those not belonging to a series. What do you expect to see, and what is the actual answer to this question?"
   ]
  },
  {
   "cell_type": "code",
   "execution_count": null,
   "metadata": {
    "ExecuteTime": {
     "end_time": "2023-10-31T16:58:21.669045900Z",
     "start_time": "2023-10-31T16:58:21.175679800Z"
    }
   },
   "outputs": [],
   "source": [
    "# step 1: transform the publication date entry to datetime format\n",
    "top_authors_books[\"original_publication_date\"] = pd.to_datetime(top_authors_books[\"original_publication_date\"], format = 'mixed')\n",
    "\n",
    "# calculate time gap between consecutive \"original\" publications and add it into a column for all books\n",
    "top_authors_books[\"time_gap\"] = top_authors_books.groupby([\"author_id\", \"series_id\"])[\"original_publication_date\"].diff()\n",
    "\n",
    "# calculate the average time gap for books in a series and not in a series, according to the new column created\n",
    "average_time_gap_series = top_authors_books[top_authors_books[\"series_id\"].notna()][\"time_gap\"].mean()\n",
    "average_time_gap_non_series = top_authors_books[top_authors_books[\"series_id\"].isna()][\"time_gap\"].mean()\n",
    "\n",
    "# print(f\"Average Time Gap for Books in a Series: {average_time_gap_series}\")\n",
    "# print(f\"Average Time Gap for Books Not in a Series: {average_time_gap_non_series}\")\n",
    "print(top_authors_books)"
   ]
  },
  {
   "cell_type": "markdown",
   "metadata": {},
   "source": [
    "**What do we expect to see?** As expected the books that belong to a series have a more periodic and regular output from the authors(on average), and this logically makes sense following the idea that the author is breaking down a full story into separate books.\n",
    "Books that do not belong to a series however do not have a well-defined average gap between them since they are independent works and do not follow any periodic output \"expectation\" from the public."
   ]
  },
  {
   "cell_type": "markdown",
   "metadata": {},
   "source": [
    "**Request 6.2:** For each of the authors, give a convenient plot showing how many books has the given author published UP TO a given year. Are these authors contemporary with each other? Can you notice a range of years where their production rate was higher?"
   ]
  },
  {
   "cell_type": "code",
   "execution_count": null,
   "metadata": {
    "ExecuteTime": {
     "end_time": "2023-10-31T16:58:11.052616700Z",
     "start_time": "2023-10-31T16:58:09.593081400Z"
    }
   },
   "outputs": [],
   "source": [
    "# define a new column using the datetime format of the original publication date\n",
    "top_authors_books['year'] = top_authors_books[\"original_publication_date\"].dt.year\n",
    "writers_counts = top_authors_books.groupby(['author_name', 'year']).size().reset_index(name='Count')\n",
    "\n",
    "# plot the publication history for each author\n",
    "writers = writers_counts['author_name'].unique()\n",
    "for writer in writers:\n",
    "    author_data = writers_counts[writers_counts['author_name'] == writer]\n",
    "    plt.plot(author_data['year'], author_data['Count'], label=writer)\n",
    "\n",
    "plt.title(\"Publication History of Authors\")\n",
    "plt.xlabel(\"Year\")\n",
    "plt.ylabel(\"Number of Books Published\")\n",
    "plt.legend()\n",
    "plt.show()"
   ]
  },
  {
   "cell_type": "markdown",
   "metadata": {},
   "source": [
    "## [RQ7] Estimating probabilities is a core skill for a data scientist: show us your best!"
   ]
  },
  {
   "cell_type": "markdown",
   "metadata": {},
   "source": [
    "**Request 7.1:** Estimate the probability that a book has over 30% of the ratings above 4.\n",
    "\n",
    "---\n",
    "\n",
    "We can do this by counting how many books have 30% of the rating above 4 (i.e. a rating of 5 since you can only give an integer beteween 1 and 5 as rating) and dividing it by the total number of books."
   ]
  },
  {
   "cell_type": "code",
   "execution_count": null,
   "metadata": {},
   "outputs": [],
   "source": [
    "books[books[\"rating_dist\"] == \"5:-1|4:1|3:1|2:0|1:0|total:1\"]\n",
    "books[books[\"rating_dist\"] == \"5:0|4:0|3:3|2:-1|1:-1|total:1\"]"
   ]
  },
  {
   "cell_type": "code",
   "execution_count": null,
   "metadata": {},
   "outputs": [],
   "source": [
    "# on slack they said you should get also 4 scores\n",
    "\n",
    "def has_30p_above_four(rating_dist):\n",
    "    pattern = r\"5:([0-9]+)\\|4:[0-9]+\\|3:[0-9]+\\|2:[0-9]+\\|1:[0-9]+\\|total:([0-9]+)\"\n",
    "\n",
    "    match = re.search(pattern, rating_dist)\n",
    "    if int(match.group(1)) > 0.3 * int(match.group(2)):\n",
    "        return True\n",
    "    else:\n",
    "        return False\n",
    "\n",
    "df = books.drop(index = [6650514, 7011288]) # we remove this specific cases because the rating distribution is wrong\n",
    "above_four = sum(df[\"rating_dist\"].apply(has_30p_above_four))\n",
    "\n",
    "result = above_four / df.shape[0]\n",
    "print(result)"
   ]
  },
  {
   "cell_type": "markdown",
   "metadata": {},
   "source": [
    "**Request 7.2:** Estimate the probability that an author publishes a new book within two years from its last work."
   ]
  },
  {
   "cell_type": "markdown",
   "metadata": {},
   "source": [
    "TODO"
   ]
  },
  {
   "cell_type": "markdown",
   "metadata": {},
   "source": [
    "**Request 7.3:** In the file list.json, you will find a peculiar list named \"The Worst Books of All Time.\" Estimate the probability of a book being included in this list, knowing it has more than 700 pages.\n",
    "\n",
    "---\n",
    "\n",
    "We call the \"Book is in the worst books list\" event $A$ and \"Book has more than 700 pages\" event $B$. We use Bayes' formula:\n",
    "\n",
    "$\\mathbb{P}(\\text{A | B}) = \\frac{\\mathbb{P}(\\text{B | A}) \\;\\cdot\\; \\mathbb{P}(\\text{A}) }{\\mathbb{P}(\\text{B})}$\n",
    "\n",
    "* $\\mathbb{P}(\\text{A})$: the probability that a book is in the worst books list. Obtained by counting the entries in \"The Worst Books of All Time\" list and dividing it by the number of books in the dataset.\n",
    "* $\\mathbb{P}(\\text{B})$: the probability that a book has more than 700 pages. Obtained by counting the entries with more than 700 pages and dividing it by the number of books in the dataset.\n",
    "* $\\mathbb{P}(\\text{B | A})$: the probability of a book having more than 700 pages knowing that it is in the worst book list. Obtained by doing the second query over the books identified by first one."
   ]
  },
  {
   "cell_type": "code",
   "execution_count": null,
   "metadata": {},
   "outputs": [],
   "source": [
    "df = books[books[\"num_pages\"] != \"\"]\n",
    "\n",
    "worst_books = pd.read_json(list_path, lines = True, nrows = 1)[\"books\"][0]\n",
    "worst_books = pd.DataFrame(worst_books)\n",
    "worst_books[\"book_id\"] = worst_books[\"book_id\"].astype(int)\n",
    "n_worst_books = worst_books.shape[0]\n",
    "join = pd.merge(worst_books, df, left_on = \"book_id\", right_on = \"id\", how = \"inner\", suffixes = [\"_w\", \"_b\"])\n",
    "\n",
    "pA = n_worst_books / df.shape[0]\n",
    "pB = df[df[\"num_pages\"].astype(int) > 700].shape[0] / (df.shape[0])\n",
    "pBA = join[join[\"num_pages\"].astype(int) > 700].shape[0] / (join.shape[0])\n",
    "pAB = pBA * pA / pB\n",
    "\n",
    "print(\"P(A | B), the probability of a book being included in the worst books list, knowing it has more than 700 pages: \", pAB)"
   ]
  },
  {
   "cell_type": "markdown",
   "metadata": {},
   "source": [
    "**Request 7.4:** Are the events X=’Being Included in The Worst Books of All Time list’ and Y=’Having more than 700 pages’ independent? Explain how you have obtained your answer.\n",
    "\n",
    "---\n",
    "\n",
    "To check whether the X and Y are indipendent we can apply the definition of indipendence. Two events are indipendent if knowing that one happened does not change the probability of the second one appearing. Formally speaking, that is when:\n",
    "\n",
    "$\\mathbb{P}(X \\cap Y) = \\mathbb{P}(X) \\cdot \\mathbb{P}(Y)$\n",
    "\n",
    "To reuse the previously calculated probabilities we can also add the definition of conditional probability:\n",
    "\n",
    "$\\mathbb{P}(X | Y) = \\frac{\\mathbb{P}(X \\cap Y)}{\\mathbb{P}(Y)}$\n",
    "\n",
    "From which we obtain that if X and Y are indipendent:\n",
    "\n",
    "$\\mathbb{P}(X | Y) = \\mathbb{P}(X)$\n",
    "\n",
    "$\\mathbb{P}(Y | X) = \\mathbb{P}(Y)$\n",
    "\n",
    "\n",
    "We called X as A and Y as B. Then to check for indipendence we can just check whether $\\mathbb{P}(\\text{A | B})$ and $\\mathbb{P}(\\text{B | A})$ are equal respectively to $\\mathbb{P}(A)$ and $\\mathbb{P}(B)$. To be precise indipendence is a two-way relation, so if one holds also the second must hold, this means we really only need to check one of those two."
   ]
  },
  {
   "cell_type": "code",
   "execution_count": null,
   "metadata": {},
   "outputs": [],
   "source": [
    "# df[\"in_worst_book_list\"] = df[\"id\"].apply(lambda x: x in worst_books[\"book_id\"].values)\n",
    "# df[\"more_700_pages\"] = df[\"num_pages\"].apply(lambda x: x > 700)\n",
    "\n",
    "print(\"Test 1:\")\n",
    "print(\"P(A), the probability of a book of the whole dataset to be in the worst books list: \", pA)\n",
    "print(\"P(A | B), the probability of a book to be in the worst books list, knowing that it has more than 700 pages: \", pAB)\n",
    "\n",
    "print(\"Test 2:\")\n",
    "print(\"P(B), the probability of book of the whole dataset to have more than 700 pages over the total: \", pB)\n",
    "print(\"P(B | A), the probability of books to have more than 700 pages knowing that it is in the worst books list: \", pBA)"
   ]
  },
  {
   "cell_type": "markdown",
   "metadata": {},
   "source": [
    "As we can see the two events are dependent."
   ]
  },
  {
   "cell_type": "markdown",
   "metadata": {},
   "source": [
    "## [RQ8] Charts, statistical tests, and analysis methods are splendid tools to illustrate your data-driven decisions to check whether a hypothesis is correct."
   ]
  },
  {
   "cell_type": "markdown",
   "metadata": {},
   "source": [
    "**Request 8.1:** Can you demonstrate that readers usually rate the longest books as the worst?"
   ]
  },
  {
   "cell_type": "code",
   "execution_count": null,
   "metadata": {},
   "outputs": [],
   "source": [
    "df = books[books[\"num_pages\"] != \"\"]\n",
    "df[\"num_pages\"] = df.num_pages.astype(int)\n",
    "\n",
    "# we try to remove outliers\n",
    "df = df[(df[\"num_pages\"] < 1500) & (df[\"num_pages\"] != 0) & (df[\"average_rating\"] != 0)]"
   ]
  },
  {
   "cell_type": "code",
   "execution_count": null,
   "metadata": {},
   "outputs": [],
   "source": [
    "plt.scatter(df[\"num_pages\"], df[\"average_rating\"])\n",
    "\n",
    "plt.ticklabel_format(axis = \"y\", style = \"plain\")\n",
    "plt.xlabel(\"Num pages\")\n",
    "plt.ylabel(\"Average rating\")\n",
    "\n",
    "z = np.polyfit(df[\"num_pages\"],  df[\"average_rating\"], 1)\n",
    "p = np.poly1d(z)\n",
    "plt.plot(df[\"num_pages\"], p(df[\"num_pages\"]), color= \"black\")\n",
    "\n",
    "plt.show()"
   ]
  },
  {
   "cell_type": "markdown",
   "metadata": {},
   "source": [
    "This scatterplot is confusing, we try to use a heatmap."
   ]
  },
  {
   "cell_type": "code",
   "execution_count": null,
   "metadata": {},
   "outputs": [],
   "source": [
    "plt.hexbin(df[\"num_pages\"], df[\"average_rating\"], gridsize = 20, bins = \"log\", edgecolor = \"gray\")\n",
    "\n",
    "z = np.polyfit(df[\"num_pages\"],  df[\"average_rating\"], 1)\n",
    "p = np.poly1d(z)\n",
    "plt.plot(df[\"num_pages\"], p(df[\"num_pages\"]), color= \"black\")\n",
    "\n",
    "plt.xlabel(\"Num pages\")\n",
    "plt.ylabel(\"Average rating\")\n",
    "plt.colorbar()"
   ]
  },
  {
   "cell_type": "code",
   "execution_count": null,
   "metadata": {},
   "outputs": [],
   "source": [
    "correlation = df[\"average_rating\"].corr(df[\"num_pages\"])\n",
    "print(\"The correlation coefficient between 'average_rating' and 'num_pages' is:\", correlation)"
   ]
  },
  {
   "cell_type": "markdown",
   "metadata": {},
   "source": [
    "We see the correlation coefficient is and in the positive direction, hinting at a faint positive correlation between the number of pages and the average rating. Without our data selection the correlation is even fainter but always in a positive direction. This means that we can't demonstrate that readers usually rate the longest books as the worst, instead even if the effect is very little it's the opposite.\n",
    "\n",
    "---"
   ]
  },
  {
   "cell_type": "markdown",
   "metadata": {},
   "source": [
    "**Request 8.2:** Compare the average rate distribution for English and non-English books with a proper statistical procedure. What can you conclude about those two groups?"
   ]
  },
  {
   "cell_type": "code",
   "execution_count": null,
   "metadata": {},
   "outputs": [],
   "source": [
    "#split the books into 2 groups\n",
    "#lingua is in 2.4\n",
    "eng_books = lingua[(lingua['language'] == 'eng') | (lingua['language'] == 'en-US') | (lingua['language'] == 'en-GB') | (lingua['language'] == 'en-CA')| (lingua['language'] == 'en-CA')]\n",
    "non_eng_books = lingua[(lingua['language'] != 'eng') & (lingua['language'] != 'en-US')& (lingua['language'] != 'en-GB') & (lingua['language'] != 'en-CA')]"
   ]
  },
  {
   "cell_type": "markdown",
   "metadata": {},
   "source": [
    "First of all let's check the histograms of the average ratings of each groups"
   ]
  },
  {
   "cell_type": "code",
   "execution_count": null,
   "metadata": {},
   "outputs": [],
   "source": [
    "plt.hist(eng_books.average_rating, bins=50, edgecolor='black')\n",
    "plt.xlim(0,5)\n",
    "plt.xlabel('Ratings')\n",
    "plt.ylabel('Frequency')\n",
    "plt.title('Histogram of the average rating for english books')\n",
    "plt.figure(figsize=(5, 5))\n",
    "plt.show()"
   ]
  },
  {
   "cell_type": "code",
   "execution_count": null,
   "metadata": {},
   "outputs": [],
   "source": [
    "import matplotlib.pyplot as plt \n",
    "plt.hist(non_eng_books.average_rating, bins=50, edgecolor='black')\n",
    "plt.xlim(0,5)\n",
    "plt.xlabel('Ratings')\n",
    "plt.ylabel('Frequency')\n",
    "plt.title('Histogram of the average rating for non english books')\n",
    "plt.figure(figsize=(5, 5))\n",
    "plt.show()"
   ]
  },
  {
   "cell_type": "markdown",
   "metadata": {},
   "source": [
    "From the histograms it looks like there are no differences of ratings if the book is written in english or not. The two distributions are similar to a normal distribution.\\\n",
    "Let's see if this hypothesis is true or not doing some test.\n",
    "I choose to do a t-test which is a parametric test for determining correlations between two samples of data.\n",
    "\n",
    "So we define:\\\n",
    "-The null hypothesis H0 is: there no difference between the 2 groups in terms of average rating.\\\n",
    "-The alternative hypothesis H1 is: there is a difference between the 2 groups in terms of average rating.\n",
    "\n",
    "We also need to choose an alpha, usually is 0.05, which means that the probability to say that they are different when they are not is not more than 5%."
   ]
  },
  {
   "cell_type": "code",
   "execution_count": null,
   "metadata": {},
   "outputs": [],
   "source": [
    "print(np.var(eng_books.average_rating))\n",
    "print(np.var(non_eng_books.average_rating))"
   ]
  },
  {
   "cell_type": "markdown",
   "metadata": {},
   "source": [
    "They have different variance so I use a Welch t-test instead of the t-test."
   ]
  },
  {
   "cell_type": "code",
   "execution_count": null,
   "metadata": {},
   "outputs": [],
   "source": [
    "from scipy.stats import ttest_ind\n",
    "\n",
    "alpha = 0.05\n",
    "t_statistic, p_value = ttest_ind(eng_books['average_rating'], non_eng_books['average_rating'], equal_var=False)\n",
    "\n",
    "print(\"p-value:\", p_value)\n",
    "print(\"t-statistic:\", t_statistic)"
   ]
  },
  {
   "cell_type": "markdown",
   "metadata": {},
   "source": [
    "The resulting p-value is smaller than alpha, so we reject the null hypothesis, this means that there is a significant difference between the distribution of the average rating of the two groups."
   ]
  },
  {
   "cell_type": "markdown",
   "metadata": {},
   "source": [
    "**Request 8.3:** About the two groups in the previous question, extract helpful statistics like mode, mean, median, and quartiles, explaining their role in a box plot."
   ]
  },
  {
   "cell_type": "code",
   "execution_count": null,
   "metadata": {},
   "outputs": [],
   "source": [
    "import statistics\n",
    "print(eng_books.average_rating.describe())\n",
    "print(\"mode        \", statistics.mode(eng_books.average_rating))"
   ]
  },
  {
   "cell_type": "code",
   "execution_count": null,
   "metadata": {},
   "outputs": [],
   "source": [
    "print(non_eng_books.average_rating.describe())\n",
    "print(\"mode       \", statistics.mode(non_eng_books.average_rating))"
   ]
  },
  {
   "cell_type": "code",
   "execution_count": null,
   "metadata": {},
   "outputs": [],
   "source": [
    "fig = plt.figure(figsize =(10, 7))\n",
    " \n",
    "ax = fig.add_axes([0, 0, 0.7, 0.6])\n",
    "libri=[eng_books.average_rating, non_eng_books.average_rating]\n",
    "box = ax.boxplot(libri, widths=0.5) \n",
    "\n",
    "ax.set_xticklabels(['english books','non english books'])\n",
    "plt.title('Boxplot of average rating') \n",
    "\n",
    "plt.show()"
   ]
  },
  {
   "cell_type": "markdown",
   "metadata": {},
   "source": [
    "In a boxplot the median is represented by the yellow line, and the first and third quintile are represented by the upper and lower line of the box.\\\n",
    "So for example: \\\n",
    "For the english books the median is 3.96 this means that 50% of the values are lower than 3.96 and if we see the distance of the first and third quintile from the median, we can notice that they are quite similar so this means they are simmetrical.\\\n",
    "The mode helps to identify around which value the distribution is centered in this case for the two groups is 4 and as we can see from the boxplots the distributions are centered in this value.\\\n",
    "Mean is not visible in the boxplot and for each group median and mean are softly different."
   ]
  },
  {
   "cell_type": "markdown",
   "metadata": {},
   "source": [
    "**Request 8.4:** It seems reasonable to assume that authors with more fans should have more reviews, but maybe their fans are a bit lazy. Confirm or reject this with a convenient statistical test or a predictive model."
   ]
  },
  {
   "cell_type": "markdown",
   "metadata": {},
   "source": [
    "# Lorenzo"
   ]
  },
  {
   "cell_type": "code",
   "execution_count": null,
   "metadata": {},
   "outputs": [],
   "source": [
    "df = authors[authors[\"fans_count\"] != 0]"
   ]
  },
  {
   "cell_type": "markdown",
   "metadata": {},
   "source": [
    "The assumption is that fans of popular authors are more \"lazy\" and leave less reviews. We can check if there is a correlation between the numbers of fans and number of reviews."
   ]
  },
  {
   "cell_type": "code",
   "execution_count": null,
   "metadata": {},
   "outputs": [],
   "source": [
    "plt.scatter(df[\"fans_count\"], df[\"ratings_count\"])\n",
    "\n",
    "plt.ticklabel_format(axis = \"y\", style = \"plain\")\n",
    "plt.xlabel(\"Fans count\")\n",
    "plt.ylabel(\"Ratings per fan\")\n",
    "\n",
    "z = np.polyfit(df[\"fans_count\"],  df[\"ratings_count\"], 1)\n",
    "p = np.poly1d(z)\n",
    "plt.plot(df[\"fans_count\"], p(df[\"fans_count\"]), color= \"black\")\n",
    "\n",
    "plt.show()"
   ]
  },
  {
   "cell_type": "markdown",
   "metadata": {},
   "source": [
    "There is a correlation between the two. However a more precise measure would be to check for every author it's factor of \"review per fan\", that better shows the fact that fans of great authors are more lazy or not."
   ]
  },
  {
   "cell_type": "code",
   "execution_count": null,
   "metadata": {},
   "outputs": [],
   "source": [
    "plt.scatter(df[\"fans_count\"], df[\"ratings_count\"] / df[\"fans_count\"])\n",
    "\n",
    "plt.ticklabel_format(axis = \"y\", style = \"plain\")\n",
    "plt.xlabel(\"Fans count\")\n",
    "plt.ylabel(\"Ratings per fan\")\n",
    "\n",
    "z = np.polyfit(df[\"fans_count\"],  df[\"ratings_count\"] / df[\"fans_count\"], 1)\n",
    "p = np.poly1d(z)\n",
    "plt.plot(df[\"fans_count\"], p(df[\"fans_count\"]), color= \"black\")\n",
    "\n",
    "plt.show()"
   ]
  },
  {
   "cell_type": "markdown",
   "metadata": {},
   "source": [
    "Outliers render the scatterplot difficult to read. Let's see something about this strange values."
   ]
  },
  {
   "cell_type": "code",
   "execution_count": null,
   "metadata": {},
   "outputs": [],
   "source": [
    "outlier = df[(df[\"ratings_count\"] / df[\"fans_count\"]) == (df[\"ratings_count\"] / df[\"fans_count\"]).max()]\n",
    "outlier"
   ]
  },
  {
   "cell_type": "markdown",
   "metadata": {},
   "source": [
    "In the provided book dataset there is no information about what book this author wrote, but searching online we can see she is written as the editor of some of the most important Shakespeare plays, like Romeo and Juliet. This means that the column \"rating_count\" counts not only those books for which the person is the main author but everything that author has worked on. This also explains why she has a very high ratings count while having a very low fan count.\n",
    "\n",
    "We can try to remove this kind of authors from our dataset by setting a minimum threshold for \"fan_count\"."
   ]
  },
  {
   "cell_type": "code",
   "execution_count": null,
   "metadata": {},
   "outputs": [],
   "source": [
    "df = authors[authors[\"fans_count\"] > 2500]"
   ]
  },
  {
   "cell_type": "code",
   "execution_count": null,
   "metadata": {},
   "outputs": [],
   "source": [
    "plt.scatter(df[\"fans_count\"], df[\"ratings_count\"] / df[\"fans_count\"])\n",
    "\n",
    "plt.ticklabel_format(axis = \"y\", style = \"plain\")\n",
    "plt.xlabel(\"Fans count\")\n",
    "plt.ylabel(\"Ratings per fan\")\n",
    "\n",
    "z = np.polyfit(df[\"fans_count\"],  df[\"ratings_count\"] / df[\"fans_count\"], 1)\n",
    "p = np.poly1d(z)\n",
    "plt.plot(df[\"fans_count\"], p(df[\"fans_count\"]), color= \"black\")\n",
    "\n",
    "plt.show()"
   ]
  },
  {
   "cell_type": "markdown",
   "metadata": {},
   "source": [
    "And as before we also plot a heatmap to better understand the distribution:"
   ]
  },
  {
   "cell_type": "code",
   "execution_count": null,
   "metadata": {},
   "outputs": [],
   "source": [
    "plt.hexbin(df[\"fans_count\"], df[\"ratings_count\"] / df[\"fans_count\"], gridsize = 20, bins = \"log\", edgecolor = \"gray\")\n",
    "\n",
    "z = np.polyfit(df[\"fans_count\"],  df[\"ratings_count\"] / df[\"fans_count\"], 1)\n",
    "p = np.poly1d(z)\n",
    "plt.plot(df[\"fans_count\"], p(df[\"fans_count\"]), color= \"black\")\n",
    "\n",
    "plt.xlabel(\"Fans count\")\n",
    "plt.ylabel(\"Ratings per fan\")\n",
    "plt.colorbar()"
   ]
  },
  {
   "cell_type": "markdown",
   "metadata": {},
   "source": [
    "In the end we can say that the assumption made was correct, but the correlation is not very strong. TODO"
   ]
  },
  {
   "cell_type": "markdown",
   "metadata": {},
   "source": [
    "# Gloria"
   ]
  },
  {
   "cell_type": "markdown",
   "metadata": {},
   "source": [
    "We decide to do a linear regression model"
   ]
  },
  {
   "cell_type": "code",
   "execution_count": null,
   "metadata": {},
   "outputs": [],
   "source": [
    "from sklearn.linear_model import LinearRegression\n",
    "\n",
    "x = authors[['fans_count']] #independent variable\n",
    "y = authors['ratings_count'] #dependent variable\n",
    "\n",
    "model_1 = LinearRegression()\n",
    "model_1.fit(x, y)\n",
    "\n",
    "# Print the coefficients\n",
    "print(f\"Intercept: {model_1.intercept_}\")\n",
    "print(f\"Coefficient: {model_1.coef_[0]}\")"
   ]
  },
  {
   "cell_type": "markdown",
   "metadata": {},
   "source": [
    "The intercept $\\alpha$ is equal to 2392 ca. this means that if an author has not any fans, so $x=0$, the author still has 2391 ratings, this is why this situation is called the baseline.\\\n",
    "The coefficient $\\beta$ is equal to 21.3 so, on average,if there is an increment of 1 fan, the ratings count increase about of 21 ratings. But we cannot still conclude about the laziness of the fans."
   ]
  },
  {
   "cell_type": "code",
   "execution_count": null,
   "metadata": {},
   "outputs": [],
   "source": [
    "from sklearn.linear_model import LinearRegression\n",
    "\n",
    "x = authors[['fans_count']] #independent variable\n",
    "y = authors['text_reviews_count'] #dependent variable\n",
    "\n",
    "model_2 = LinearRegression()\n",
    "model_2.fit(x, y)\n",
    "\n",
    "# Print the coefficients\n",
    "print(f\"Intercept: {model_2.intercept_}\")\n",
    "print(f\"Coefficient: {model_2.coef_[0]}\")"
   ]
  },
  {
   "cell_type": "markdown",
   "metadata": {},
   "source": [
    "The intercept $\\alpha$ is equal to 219 ca. this means that if an author has not any fans, so $x=0$, the author still has 2391 ratings.\\\n",
    "The coefficient $\\beta$ is equal to 1 so, on average,if there is an increment of 1 fan, the text_reviews_count increase about of 1 rating.\\\n",
    "With these considerations, knowing that the ratings are stars while the text review ratings are to be written, we can conclude that fans are quite lazy because as we can see in the model_2 the text rating increase less than just rating."
   ]
  },
  {
   "cell_type": "markdown",
   "metadata": {},
   "source": [
    "**Request 8.5:** Provide a short survey about helpful statistical tests in data analysis and mining: focus on hypothesis design and the difference between parametric and nonparametric tests, explaining the reasons behind the choice of one of these two tests."
   ]
  },
  {
   "cell_type": "markdown",
   "metadata": {},
   "source": [
    "Parametric and nonparametric tests are two types of statistical analysis used to test hypotheses about population parameters.\\\n",
    "The main difference between them is that the first requires some assumptions about the probability distribution of the data. Parametric tests assume that the data follows a specific probability distribution and rely on the estimation of parameters such as means and variances to make inferences about population characteristics. When assumptions are met, parametric tests are typically more powerful than nonparametric tests; but, when assumptions are not met, they may be less reliable. So the non parametric tests use methods that do not involve parameter estimation.\\\n",
    "Hypothesis of the parametric tests include: the data shoud be continuous and normally distribuited and same variance between the groups we are analyzing.\\\n",
    "Non parametric tests don't include the hypothesis just mentioned.\\\n",
    "So if the hypotheses are not met we will use non parametric tests but if they are met and sample sizes are adequate we'll use the parametric one because compared to non-parametrics, they give a better and more precise solution.\n"
   ]
  },
  {
   "cell_type": "markdown",
   "metadata": {},
   "source": [
    "# Bonus points"
   ]
  },
  {
   "cell_type": "markdown",
   "metadata": {},
   "source": [
    "## 1"
   ]
  },
  {
   "cell_type": "markdown",
   "metadata": {},
   "source": [
    "**Request 1.1:** Select one alternative library to Pandas (i.e., Dask, Polar, Vaex, Datatable, etc.), upload authors.json dataset, and filter authors with at least 100 reviews. Do the same using Pandas and compare performance in terms of milliseconds."
   ]
  },
  {
   "cell_type": "code",
   "execution_count": null,
   "metadata": {},
   "outputs": [],
   "source": [
    "# TRY ON MAIN PC\n",
    "\n",
    "# IN PANDAS\n",
    "\n",
    "print(\"Measuring Pandas performance...\")\n",
    "%timeit authors[authors[\"text_reviews_count\"] >= 100]\n",
    "\n",
    "# IN DASK\n",
    "\n",
    "authors_dask = dd.from_pandas(authors, npartitions = 1)\n",
    "\n",
    "print(\"Measuring Dask performance...\")\n",
    "%timeit authors_dask[authors_dask[\"text_reviews_count\"] >= 100].compute()"
   ]
  },
  {
   "cell_type": "markdown",
   "metadata": {},
   "source": [
    "Dask is a library very similar to Pandas but specialized to work on bigger datasets. It's greatest characteristic is intended parallel computing, intended both as local, where different cores of the same CPU are used at the same time, and cloud, where the computation is divided between computers clusters. Another important difference is it's \"lazy evalutaion\", operations are not executed when requested in the code but instead they are delayed and really executed only when explicitly told so or when necessart (Ex. if we request to plot the data it's necessary for the computation to be done).\n",
    "\n",
    "\n",
    "TODO\n",
    "We can't observe a meaningful difference between the two operations because the dataset is small and the machine this is executed on...\n",
    "\n",
    "---"
   ]
  },
  {
   "cell_type": "markdown",
   "metadata": {},
   "source": [
    "**Request 1.2:** Select one alternative library to Pandas (i.e., Dask, Polar, Vaex, Datatable, etc.), upload books.json, and join them with authors.json based on author_id. How many books don’t have a match for the author?"
   ]
  },
  {
   "cell_type": "code",
   "execution_count": null,
   "metadata": {},
   "outputs": [],
   "source": [
    "# TODO\n",
    "\n",
    "join = pd.merge(books, authors, left_on = \"author_id\", right_on = \"id\", how = \"left\")[[\"id_y\"]]\n",
    "authorless_istances = join[\"id_y\"].isna().sum()\n",
    "print(\"Authorless istances: \", authorless_istances)"
   ]
  },
  {
   "cell_type": "code",
   "execution_count": null,
   "metadata": {},
   "outputs": [],
   "source": [
    "join = dd.merge(dd.from_pandas(books, npartitions = 1), dd.from_pandas(authors, npartitions = 1), left_on = \"author_id\", right_on = \"id\", how = \"left\")\n",
    "authorless_instances = join[\"id_y\"].isna().sum().compute()\n",
    "print(\"Authorless instances: \", authorless_instances)"
   ]
  },
  {
   "cell_type": "markdown",
   "metadata": {},
   "source": [
    "## 2 Every book should have a field named description, and any author should have a field named description. Choose one of the two and perform a text-mining analysis:"
   ]
  },
  {
   "cell_type": "markdown",
   "metadata": {},
   "source": [
    "To perform the text-mining analysis we created a list of tag words for specific literary genres that should help us identify books and and authors. List can have words in common as same concepts can appear in different genres (as \"monster\" can appear both in horror and fantasy genres) or when the same word is used with different meanings (as \"chemistry\" can appear both in romance and scientific books). Some words have spaces before and after to avoid finding it inside other words (as \"art\" in \"artificial\") or only before when we want to find also composed word (as for \"dread\" and \"dreadful\").\n",
    "\n",
    "We decided to print out only the three most value tags. We decided to use the same method for both books and authors."
   ]
  },
  {
   "cell_type": "code",
   "execution_count": 14,
   "metadata": {},
   "outputs": [],
   "source": [
    "comedy_tags = [\"humor\", \"comedy\", \"satire\", \"funny\", \"laugh\", \"comical\", \"hilarious\", \"laughter\", \"light-hearted\", \"parody\", \"joke\", \"amusing\", \"whimsical\", \"lighthearted\", \"satirical\", \"witty\", \"silly\", \"absurd\", \"hilarity\", \"comedic\", \"farce\", \"irony\", \"sarcasm\", \"slapstick\"]\n",
    "action_tags = [\"action\", \"adventure\", \"suspense\", \"thriller\", \"bravery\", \"excitement\", \"adrenaline\", \"tension\", \"intense\", \"escape\", \"dangerous\", \"fast-paced\", \"adversary\", \"hero\", \"spy\", \"villain\", \"combat\", \"fight\", \"chase\", \"explosion\", \"fighting\", \"danger\", \"martial art\", \"high-octane\", \"adrenaline\", \"rescue\", \"mission\", \"conspiracy\", \"intelligence\", \"agent\", \"secret\"]\n",
    "fantasy_tags = [\"fantasy\", \"magic\", \"wizardry\", \"dragon\", \"god\", \"elf\", \"dwarf\", \"monster\", \"sword\", \"quest\", \"castle\", \"mythical\", \"prophecy\", \"fairy\", \"sorcery\", \"sorcerer\", \"witchcraft\", \"enchantment\", \"magician\", \"spellcasting\", \"conjuring\", \"curse\", \"alchemy\", \"mysticism\", \"occult\", \"supernatural\", \"sorcerer\", \"witch\", \"spell\", \"ritual\", \"arcane\", \"knowledge\", \"magical\", \"wizard\"]\n",
    "romance_tags = [\"romance\", \"love\", \"relationship\", \"passion\", \"heartfelt\", \"heart\", \"attraction\", \"emotional\", \"romantic\", \"couple\", \"affection\", \"intimacy\", \"sweetheart\", \"desire\", \"chemistry\", \"flirting\", \"courtship\", \"kiss\", \"embrace\", \"lover\", \"seduction\", \"infatuation\"]\n",
    "mystery_tags = [\"mystery\", \"detective\", \"suspense\", \"crime\", \"secrets\", \"clue\", \"mysterious\", \"victim\", \"suspicious\", \"suspicion\", \"death\", \"poison\", \"intrigue\", \"theft\", \"thief\", \"whodunit\", \"widow\", \"missing\", \"killer\", \"unsolved\", \"assassin\", \"twists\", \"investigation\", \"thriller\", \"clues\", \"sleuth\", \"police\", \"intrigue\", \"enigma\", \"puzzle\", \"murder\", \"conspiracy\", \"forensic\", \"stabbed\", \"solving\", \"sleuthing\", \"suspicion\", \"unraveling\", \"evidence\", \"schemes\", \"riddle\", \"murder\", \"revenge\", \"blackmail\", \"investigate\"]\n",
    "sci_fi_tags = [\"sci-fi\", \"planet\", \"science fiction\", \"space\", \"technology\", \"extraterrestrial\", \"future\", \"dystopian\", \"cyberpunk\", \"aliens\", \"time travel\", \"robots\", \"intergalactic\", \"virtual reality\", \"apocalypse\", \"AI\", \"nanotechnology\", \"post-apocalyptic\"]\n",
    "historical_tags = [\"historical\", \"history\", \"period\", \"accuracy\", \"context\", \" era \", \"research\", \"centuries\", \"century\", \"europe\", \"america\", \"asia\", \"africa\"]\n",
    "horror_tags = [\"horror\", \"scary\", \"terror\", \"fear\", \"creepy\", \" dread\", \"spooky\", \"haunting\", \"macabre\", \"dark\", \"nightmare\", \"ghost\", \"possessed\", \"demon\", \"paranormal\", \"frightening\", \"sinister\", \"psychological\", \"halloween\", \"chill\", \"gore\", \"haunted\"]\n",
    "science_tags = [\"science\", \"scientist\", \"research\", \"engineering\", \"discovery\", \"innovation\", \"technology\", \"scientific method\", \"experiment\", \"data\", \"analysis\", \"laboratory\", \"biology\", \"physic\", \"chemistry\", \"astronomy\", \"environment\", \"ecology\", \"genetic\", \"geology\", \"cosmology\", \"neuroscience\"]\n",
    "philosophy_tags = [\"philosophy\", \"philosopher\", \"ethic\", \"morality\", \"metaphysic\", \"epistemology\", \"logic\", \"existentialism\", \"ontology\", \"aesthetic\", \"truth\", \"knowledge\", \"consciousness\", \"free will\", \"rationalism\", \"skepticism\", \"nihilism\", \"stoicism\", \"existentialism\", \"idealism\", \"trascendence\"]\n",
    "how_to_tags = [\"how-to\", \"guide\", \"tutorial\", \"instruction\", \"step-by-step\", \"self-help\", \"manual\", \"handbook\", \"tips\", \"advice\", \"techniques\", \"DIY\", \"lessons\", \"methods\", \"strategies\", \"procedures\", \"skills\", \"training\", \"tactics\", \"expertise\"]\n",
    "spirituality_tags = [\"spirituality\", \"mindfulness\", \"meditation\", \"spiritual\", \"enlightenment\", \"inner peace\", \"consciousness\", \"self-discovery\", \"yoga\", \"soul\", \"journey\", \"wisdom\", \"meditative\", \"yoga\", \"peaceful\", \"serenity\", \"inspiration\"]\n",
    "religion_tags = [\"religion\", \"faith\", \"atheism\", \"belief\", \"theology\", \"god\", \"religious\", \"monotheism\", \"polytheism\", \"scripture\", \"worship\", \"prayer\", \"religious text\", \"religious practices\", \"theological debate\", \"interfaith\", \"sacred\", \"ritual\", \"divinity\", \"pope\", \"bible\"]\n",
    "cook_tags = [\"cooking\", \"culinary\", \"recipes\", \"cookbook\", \"gastronomy\", \"food\", \"culinary art\", \"chef\", \"cuisine\", \"kitchen\", \"techniqus\", \"baking\", \"gourmet\", \"foodie\", \"tasty\", \"cultural cuisine\", \"food science\", \"culinary history\", \"meal\", \"cooking tips\"]\n",
    "classic_tags = [\"classic\", \"vintage\", \"nostalgic\", \"ageless\", \"traditional\", \"heritage\", \"historic\", \"canonical\", \"antique\", \"retro\", \"enduring\", \"beloved\", \"history\", \"mythology\", \"culture\", \"grek\", \"roman\", \" art \", \"archaeology\", \"empire\"]\n",
    "economy_tags = [\"economy\", \"economic\", \"growth\", \"money\",  \"bank\", \"capital\", \"entrepreneur\", \"management\", \"global\", \"industry\", \"policy\", \"finance\", \"business\", \"trend\", \"market\", \"investment\", \"wealth\", \"fiscal\", \"monetary\", \"budgeting\", \"capitalism\", \"consumer\", \"taxation\", \"entrepreneurship\", \"financial\", \"trade\", \"crisis\", \"marketplace\", \"regulation\", \"inflation\", \"deflation\", \"supply\", \"demand\", \"globalization\", \"competition\", \"budget\", \"risk\", \"income\"]\n",
    "\n",
    "tags_lists = [comedy_tags, fantasy_tags, action_tags, romance_tags, mystery_tags, sci_fi_tags, historical_tags, horror_tags, science_tags, philosophy_tags, how_to_tags, spirituality_tags, religion_tags, cook_tags, classic_tags, economy_tags]\n"
   ]
  },
  {
   "cell_type": "markdown",
   "metadata": {},
   "source": [
    "**Request 2.1:** If you choose to text-mine books.json ’ descriptions, try to find a way to group books in genres using whatever procedure you want, highlighting words that are triggers for these choices."
   ]
  },
  {
   "cell_type": "code",
   "execution_count": null,
   "metadata": {},
   "outputs": [],
   "source": [
    "books_descriptions = pd.DataFrame()\n",
    "\n",
    "chunks_number = np.ceil(7027431 / chunk_size)\n",
    "chunks = pd.read_json(\"datasets/lighter_books.json\", lines = True, chunksize = chunk_size)\n",
    "\n",
    "for chunk in tqdm(chunks, total = chunks_number):\n",
    "    chunk = chunk[[\"description\", \"title\", \"id\", \"author_id\"]]\n",
    "    books_descriptions = pd.concat([books_descriptions, chunk])"
   ]
  },
  {
   "cell_type": "code",
   "execution_count": null,
   "metadata": {},
   "outputs": [],
   "source": [
    "#query = \"narnia\"\n",
    "#df = books_descriptions[books_descriptions[\"title\"].str.contains(query, case = False, na = False)]\n",
    "#descriptions = df[[\"description\", \"title\"]]\n",
    "\n",
    "book_tags_dataset = pd.DataFrame()\n",
    "\n",
    "for index, entry in books_descriptions.iterrows():\n",
    "    description = entry[\"description\"]\n",
    "    title = entry[\"title\"]\n",
    "\n",
    "    tag_scores = dict()\n",
    "    for tag_list in tags_lists:\n",
    "        tag_name = tag_list[0]\n",
    "        score = 0\n",
    "        for word in tag_list:\n",
    "            score += description.lower().count(word)\n",
    "\n",
    "        tag_scores[tag_name] = score\n",
    "        \n",
    "    print(\"Book title:\", title)\n",
    "    tag_scores = sorted(tag_scores.items(), key=lambda x: x[1], reverse = True)\n",
    "    for key, value in tag_scores[:3]:\n",
    "        if value != 0:\n",
    "            print(f\"Tag: '{key}', Corrispondences found: '{value}'\")"
   ]
  },
  {
   "cell_type": "markdown",
   "metadata": {},
   "source": [
    "**Request 2.2:** If you choose to text-mine authors.json’ about-field, try to find a way to group authors in genres using whatever procedure you want, highlighting words that are triggers for these choices."
   ]
  },
  {
   "cell_type": "code",
   "execution_count": 20,
   "metadata": {},
   "outputs": [],
   "source": [
    "authors_descriptions = pd.read_json(authors_path, lines = True)\n",
    "authors_descriptions = authors_descriptions[[\"id\", \"name\", \"about\"]]"
   ]
  },
  {
   "cell_type": "code",
   "execution_count": 28,
   "metadata": {},
   "outputs": [
    {
     "data": {
      "text/html": [
       "<div>\n",
       "<style scoped>\n",
       "    .dataframe tbody tr th:only-of-type {\n",
       "        vertical-align: middle;\n",
       "    }\n",
       "\n",
       "    .dataframe tbody tr th {\n",
       "        vertical-align: top;\n",
       "    }\n",
       "\n",
       "    .dataframe thead th {\n",
       "        text-align: right;\n",
       "    }\n",
       "</style>\n",
       "<table border=\"1\" class=\"dataframe\">\n",
       "  <thead>\n",
       "    <tr style=\"text-align: right;\">\n",
       "      <th></th>\n",
       "      <th>0</th>\n",
       "      <th>1</th>\n",
       "      <th>2</th>\n",
       "    </tr>\n",
       "  </thead>\n",
       "  <tbody>\n",
       "    <tr>\n",
       "      <th>0</th>\n",
       "      <td>4</td>\n",
       "      <td>Douglas Adams</td>\n",
       "      <td>science</td>\n",
       "    </tr>\n",
       "  </tbody>\n",
       "</table>\n",
       "</div>"
      ],
      "text/plain": [
       "   0              1        2\n",
       "0  4  Douglas Adams  science"
      ]
     },
     "execution_count": 28,
     "metadata": {},
     "output_type": "execute_result"
    }
   ],
   "source": [
    "#query = \"tolkien\"\n",
    "#df = authors_descriptions[authors_descriptions[\"name\"].str.contains(query, case = False, na = False)]\n",
    "#descriptions = df[[\"name\", \"about\"]]\n",
    "\n",
    "authors_tags_dataset = pd.DataFrame()\n",
    "\n",
    "for index, entry in authors_descriptions.iterrows():\n",
    "    description = entry[\"about\"]\n",
    "\n",
    "    tag_scores = dict()\n",
    "    for tag_list in tags_lists:\n",
    "        tag_name = tag_list[0]\n",
    "        score = 0\n",
    "        for word in tag_list:\n",
    "            score += description.lower().count(word)\n",
    "\n",
    "        tag_scores[tag_name] = score\n",
    "\n",
    "    tag_scores = sorted(tag_scores.items(), key = lambda x: x[1], reverse = True)\n",
    "\n",
    "    authors_tags_dataset = pd.concat([authors_tags_dataset, pd.DataFrame([entry[\"id\"], entry[\"name\"], tag_scores[0][0]]).T])\n",
    "    break\n",
    "\n",
    "authors_tags_dataset"
   ]
  },
  {
   "cell_type": "markdown",
   "metadata": {},
   "source": [
    "**Request 2.3:** If you feel comfortable and did both tasks, analyze the matching of the two procedures. You grouped books and authors in genres. Do these two procedures show correspondence?"
   ]
  },
  {
   "cell_type": "markdown",
   "metadata": {},
   "source": [
    "---\n",
    "\n",
    "We join the two datasets and search how often the book tag and the author tag correspond. We want to highlight that missing correspondences do not necessarly mean wrong predictions, as an author can be primarly focussed on a certain genre but could also have written different kinds of genres."
   ]
  },
  {
   "cell_type": "markdown",
   "metadata": {},
   "source": [
    "# Command Line Question (CLQ)"
   ]
  },
  {
   "cell_type": "markdown",
   "metadata": {},
   "source": [
    "Using the command line is a feature that Data Scientists must master. It is relevant since the operations there require less memory to use in comparison to other interfaces. It also uses less CPU processing time than other interfaces. In addition, it can be faster and more efficient and handle repetitive tasks quickly.\n",
    "\n",
    "Note: To answer the question in this section, you must strictly use command line tools. We will reject any other method of response.\n",
    "\n",
    "Looking through the files, you can find series.json, which contains a list of book series. In each series's 'works' field, you'll find a list of books that are part of that series. Report the title of the top 5 series with the highest total 'books_count' among all of their associated books using command line tools.\n",
    "\n",
    "1. Write a script to provide this report. Put your script in a shell script file with the appropriate extension, then run it from the command line. The file should be called commandline_original.[put_the_proper extension]\n",
    "\n",
    "2. Try interacting with ChatGPT or any other LLM chatbot tool to implement a more robust script implementation. Your final script should be at most three lines. Put your script in a shell script file with the appropriate extension, then run it from the command line. The file should be called commandline_LLM.[put_the_proper_ extension]. Add in your homework how you employed the LLM chatbot tools, validate if it is correct, and explain how you check its correctness.\n",
    "\n",
    "The expected result is as follows:\n",
    "\n",
    "| id    | title                                | total_books_count |\n",
    "|-------|--------------------------------------|-------------------|\n",
    "| 302380| Extraordinary Voyages                | 20138             |\n",
    "| 94209 | Alice's Adventures in Wonderland     | 14280             |\n",
    "| 311348| Kolekcja Arcydzieł Literatury Światowe| 13774             |\n",
    "| 41459 | Oz                                   | 11519             |\n",
    "| 51138 | Hercule Poirot                       | 11305             |"
   ]
  },
  {
   "cell_type": "markdown",
   "metadata": {},
   "source": [
    "**Request 1:** Write a script to provide this report. Put your script in a shell script file with the appropriate extension, then run it from the command line. The file should be called commandline_original.[put_the_proper extension]\n",
    "\n",
    "---\n",
    "\n",
    "The shell script file *commandline_original.sh* is implemented as requested and the output correspond to what it's expected, the only difference we find it's the transformation of special characters like 'Ś' in 'Światowe' to their UNICODE counterpart, as '\\u015'. Comment on the code is inside the file itself but we briefly describe how it works here:\n",
    "\n",
    "For each line of the json file we extract 'id' and 'title' of the series and than the whole \"works\" subsection using Regexes. From the \"works\" subsection we search every field 'work_counts', sum their value, store it in an accumulator and append everything in a list. After having gone through every line of the json file we sort the list using only the total work counts field and using a for cycle print the first five results following the format of the table shown.\n",
    "\n",
    "[INSERT IMAGE OF OUTPUT]\n",
    "\n",
    "---"
   ]
  },
  {
   "cell_type": "markdown",
   "metadata": {},
   "source": [
    "**Request 2:** Try interacting with ChatGPT or any other LLM chatbot tool to implement a more robust script implementation. Your final script should be at most three lines. Put your script in a shell script file with the appropriate extension, then run it from the command line. The file should be called commandline_LLM.[put_the_proper_ extension]. Add in your homework how you employed the LLM chatbot tools, validate if it is correct, and explain how you check its correctness.\n",
    "\n",
    "---\n",
    "\n",
    "We tried to use ChatGPT 3.5 to implement a more robust script implementation that is also at most three lines. This is the prompt sent:\n",
    "\n",
    "```\n",
    "You have to write a more robust implementation of the given bash code. Your implementation must be at most three lines long. You can't use jq.\n",
    "[original sh code here]\n",
    "```\n",
    "\n",
    "We explicitely said not to use jq to avoid using external libraries. The result is stored in *commandline_LLM.sh* and it doesn't work. We can immediately see it from the different output and the fact that in the source code it's never mentioned the field \"books_count\". We also tried to use alternative LLMs chatbots like Bing with similar results. Similar results are obtained removing the costraint of not using the exernal library jq. If we remove the costraint of using only three lines the results become correct but also extremely similar to the original code. Meanwhile giving only the text of the question does not bring positive results.\n",
    "\n",
    "[TRY DESCRIBING MORE THE PROBLEM]"
   ]
  },
  {
   "cell_type": "markdown",
   "metadata": {},
   "source": [
    "# AWS Question (AWSQ)"
   ]
  },
  {
   "cell_type": "markdown",
   "metadata": {},
   "source": [
    "AWS offers access to many cloud-based tools and services that simplify data processing, storage, and analysis. Thanks to AWS's scalable and affordable solutions, data scientists can work effectively with large datasets and carry out advanced analytics. A data scientist must, therefore, perform the essential task of learning how to use AWS. To complete a straightforward data analysis task in this question, you must set up an environment on Amazon Web Services.\n",
    "\n",
    "In this question, you are asked to provide the most commonly used tags for book lists. Going through the list.json file, you'll notice that each list has a list of tags attached, and we want to see what are the most popular tags across all of the lists. Please report the top 5 most frequently used tags and the number of times they appear in the lists.\n",
    "\n",
    "You have to follow the following (recommended) steps:\n",
    "\n",
    "* Download the list.json file to your local system.\n",
    "* Write a Python script that generates the report and the system's time to generate it.\n",
    "* Set up an EC2 instance on your AWS account and upload the list.json file together with your script to the instance\n",
    "* Compare the running times of your script on your local system and the EC2 instances.\n",
    "\n",
    "**Important note:** Please run the same script on both your local system and your EC2 instance to compare the results. e.g., * keep the parameters the same if you are processing the data by loading it partially and aggregating the results. Comment about the differences you find.\n",
    "\n",
    "Please provide a report as follows:\n",
    "\n",
    "* The information about the config of the EC2 instance\n",
    "* The command used to connect to the EC2\n",
    "* The commands used to upload the files and run the script on the EC2 instance through your local system\n",
    "* A table containing the most popular tags and their number of usage\n",
    "* A table containing the running time of the script on your local system and EC2 instance\n",
    "\n",
    "The following is the expected outcome for the most popular tags:\n",
    "\n",
    "|     Tag            |   # Usage   |\n",
    "|--------------------|------------|\n",
    "| romance            |     6001    |\n",
    "| fiction            |     5291    |\n",
    "| young-adult        |     5016    |\n",
    "| fantasy            |     3666    |\n",
    "| science-fiction    |     2779    |"
   ]
  },
  {
   "cell_type": "markdown",
   "metadata": {},
   "source": [
    "**Report 1:** The information about the config of the EC2 instance.\n",
    "\n",
    "The AWSQ was run on the instance with the following configuration:\n",
    "* Machine type: T3a.large (limited to this size by the plan provided)\n",
    "* Role: LabRole, and access was allowed to an S3 bucket where I had previously stored the list.json file.\n",
    "* RAM: 8Gb\n",
    "* Operative System: Ubuntu\n",
    "\n",
    "The personal computer I was working on (for the sake of performance comparison) has the following specifications:\n",
    "* AMD Ryzen 9 6900Hs cpu\n",
    "* 16 GB DDR5 ram\n",
    "* Windows 11 home\n",
    "\n",
    "The following commands were used to connect to the instance from windows powershell running in administrator mode. Please note that the directories and detailed paths have been replaced by placeholders for the sake of privacy and readibility:\n",
    "1. cd <directory where the key is> (move to the directory where the key is located)\n",
    "2. ssh -i <file.pem> <username@ip-address> (command to connect to instance, obtained from the \"connect\" -> \"ssh\" on the instance page)\n",
    "\n",
    "Now we are connected to the instance, and have switched to using an Ubuntu terminal. To initialize my istance I used the following commands:\n",
    "1. sudo apt update (to check for updates)\n",
    "2. sudo apt upgrade (to install the updates)\n",
    "3. sudo apt install awscli (in order to be to access the contents of my S3 bucket)\n",
    "\n",
    "Note that I already had python3, pip and the libraries installed from a previous run of the instance done during one of the laboratory lectures. Then I downloaded the file from the S3 bucket to use it locally in the EC2 instance. I did that using the command:\n",
    "* aws s3 cp s3://<bucketname> </home/ubuntu/data/list.json>\n",
    "\n",
    "Then I opened a python command line session using the command:\n",
    "* python3\n",
    "\n",
    "And run the following code by pasting it into the console."
   ]
  },
  {
   "cell_type": "code",
   "execution_count": null,
   "metadata": {},
   "outputs": [],
   "source": [
    "import pandas as pd\n",
    "import numpy as np\n",
    "from timeit import default_timer as timer\n",
    "import json\n",
    "\n",
    "start = timer()\n",
    "# STEP ONE: Create an empty list to store data\n",
    "data = []\n",
    "\n",
    "# Define the JSON file path\n",
    "json_file = \"/home/ubuntu/list.json\"\n",
    "\n",
    "# Read the JSON file line by line\n",
    "with open(json_file, 'r') as file:\n",
    "    for line in file:\n",
    "        data.append(json.loads(line))\n",
    "\n",
    "# Create a DataFrame from the list of data read\n",
    "l_df = pd.DataFrame(data)\n",
    "l_df = l_df[l_df[\"tags\"].notna()]\n",
    "\n",
    "all_tags = [tag for tags in l_df[\"tags\"] for tag in tags]\n",
    "\n",
    "tag_ser = pd.Series(all_tags)\n",
    "\n",
    "# STEP THREE: Count the occurrences of different tags, and get the most recurring 5\n",
    "\n",
    "tag_co = tag_ser.value_counts()\n",
    "top_5 = tag_co.head(5)\n",
    "\n",
    "# End timer and print results\n",
    "\n",
    "end = timer()\n",
    "\n",
    "print(\"The top 5 most frequent tags and their respective counts are:\")\n",
    "print(top_5)\n",
    "print(\"This process took\", end - start, \"seconds to finish on the EC2 instance\")"
   ]
  },
  {
   "cell_type": "markdown",
   "metadata": {},
   "source": [
    "This code had minor changes when running on my personal computer.Changelog:"
   ]
  },
  {
   "cell_type": "code",
   "execution_count": null,
   "metadata": {},
   "outputs": [],
   "source": [
    "json_file = r\"path\\on\\local\\device\"\n",
    "print(.........\"seconds to finish on my personal device\")"
   ]
  },
  {
   "cell_type": "markdown",
   "metadata": {},
   "source": [
    "The outcome was identical from both, being the following table:\n",
    "\n",
    "romance            6001\n",
    "fiction            5291\n",
    "young-adult        5016\n",
    "fantasy            3666\n",
    "science-fiction    2779\n",
    "\n",
    "The running times however were different:\n",
    "\n",
    "Personal Device: 29.56 seconds\n",
    "EC2 instance : 44.67 seconds\n",
    "\n",
    "\n",
    "Please note as well that the process of loading the dataset was broken down into lines since the process was too intensive for the instance to handle."
   ]
  },
  {
   "cell_type": "markdown",
   "metadata": {},
   "source": [
    "# Algorithmic Question (AQ)"
   ]
  },
  {
   "cell_type": "markdown",
   "metadata": {},
   "source": [
    "Assume you are working as a librarian at a public library in Rome. Some new books have arrived, and you are in charge of putting them on a shelf. Your supervisor will give you some instructions, and you will follow his. Each book has a unique ID, and your boss's instructions can be of the following types:\n",
    "\n",
    "* L N - place the book with ID = N on the shelf to the left of the leftmost existing book\n",
    "* R N - place the book with ID = N on the shelf to the right of the rightmost existing book\n",
    "* ? N - Calculate the minimum number of books you must pop from the left or right to have the book with ID = N as the leftmost or rightmost book on the shelf.\n",
    "\n",
    "You must follow your boss's instructions and report the answers to type 3 instructions to him. He guarantees that if he has a type 3 instruction for a book with a specific ID, the book has already been placed on the shelf.\n",
    "\n",
    "Remember that once you've answered a type 3 instruction, the order of the books does not change.\n",
    "\n",
    "**Input:**\n",
    "\n",
    "The first line contains a single number, n, representing the number of your boss's instructions. The ith instruction the boss gives can be found at each of the following n lines.\n",
    "\n",
    "**Output:**\n",
    "\n",
    "Print your boss's type 3 instructions in the order they appear in the input.\n",
    "\n",
    "**Examples:**\n",
    "\n",
    "Input 1\n",
    "```\n",
    "L 75\n",
    "R 20\n",
    "R 30\n",
    "L 11\n",
    "? 75\n",
    "L 12\n",
    "L 15\n",
    "? 20\n",
    "```\n",
    "\n",
    "Output 1\n",
    "```\n",
    "1\n",
    "1\n",
    "```\n",
    "\n",
    "Input 2\n",
    "```\n",
    "R 1\n",
    "L 2\n",
    "L 3\n",
    "L 4\n",
    "? 3\n",
    "R 5\n",
    "R 6\n",
    "L 7\n",
    "L 8\n",
    "? 4\n",
    "L 9\n",
    "R 10\n",
    "R 11\n",
    "L 12\n",
    "L 13\n",
    "? 11\n",
    "? 3\n",
    "```\n",
    "\n",
    "Output 2:\n",
    "```\n",
    "1\n",
    "2\n",
    "0\n",
    "6\n",
    "```"
   ]
  },
  {
   "cell_type": "markdown",
   "metadata": {},
   "source": [
    "**Request 1:** Implement a code to answer the problem above."
   ]
  },
  {
   "cell_type": "code",
   "execution_count": null,
   "metadata": {},
   "outputs": [],
   "source": [
    "def algorithmic_question(input_string):\n",
    "    input_list = input_string.split(\"\\n\")\n",
    "    n_commands = int(input_list.pop(0))\n",
    "\n",
    "    shelf = deque()\n",
    "    output = []\n",
    "    for i in range(n_commands):\n",
    "        command = input_list[i].split(\" \")\n",
    "        if command[0] == \"L\":\n",
    "            shelf.appendleft(command[1])\n",
    "        elif command[0] == \"R\":\n",
    "            shelf.append(command[1])\n",
    "        elif command[0] == \"?\":\n",
    "            index = shelf.index(command[1])\n",
    "            result = min(index, (len(shelf) - 1) - index)\n",
    "            output.append(result)\n",
    "\n",
    "    print(*output, sep = \"\\n\")\n",
    "    return\n",
    " \n",
    "input1 = \"8\\nL 75\\nR 20\\nR 30\\nL 11\\n? 75\\nL 12\\nL 15\\n? 20\\n\"\n",
    "print(\"Test1:\")\n",
    "algorithmic_question(input1)\n",
    "\n",
    "\n",
    "input2 = \"17\\nR 1\\nL 2\\nL 3\\nL 4\\n? 3\\nR 5\\nR 6\\nL 7\\nL 8\\n? 4\\nL 9\\nR 10\\nR 11\\nL 12\\nL 13\\n? 11\\n? 3\\n\"\n",
    "print(\"\\nTest2:\")\n",
    "algorithmic_question(input2)"
   ]
  },
  {
   "cell_type": "markdown",
   "metadata": {},
   "source": [
    "We implemented the requested algorithm and tested it on the two examples shown. In particular we decided to use a deque as data structure to memorize our values to grant appends to the edges of the list with O(1) time. \n",
    "\n",
    "---"
   ]
  },
  {
   "cell_type": "markdown",
   "metadata": {},
   "source": [
    "**Request 2:** Ask ChatGPT or any other LLM chatbot tool to check your code's time complexity (the Big O notation). Do you believe this is correct? How can you double-check it? Elaborate about your answer.\n",
    "\n",
    "---\n",
    "\n",
    "We asked Chat GPT 3.5 for the code's time complexity using the following prompt:\n",
    "\n",
    "```\n",
    "You are given a python code for a function and asked to find its time complexity in the Big-O notation. The input for the function is a string where the first line contains a single number representing the number of instructions. The i-th instruction can be found at each of the following n lines.\n",
    "\n",
    "[python function presented above]\n",
    "```\n",
    "\\\n",
    "The answer provided is:\n",
    "\n",
    "```\n",
    "To determine the time complexity of the given `algorithmic_question` function in Big-O notation, we need to analyze the time complexity of each part of the code separately and then combine them.\n",
    "\n",
    "1. Splitting the input string: \n",
    "   `input_list = input_string.split(\"\\n\")`\n",
    "   This operation splits the input string into a list of lines, which takes O(n) time, where n is the number of characters in the input string.\n",
    "\n",
    "2. Extracting the number of commands:\n",
    "   `n_commands = int(input_list.pop(0))`\n",
    "   `pop(0)` operation on a list has a time complexity of O(n), where n is the number of elements in the list.\n",
    "\n",
    "3. Loop over n_commands (for loop):\n",
    "   The loop iterates n_commands times, and for each iteration, the following operations are performed:\n",
    "   \n",
    "   a. Splitting the command:\n",
    "      `command = input_list[i].split(\" \")`\n",
    "      Splitting a string into a list has a time complexity of O(m), where m is the number of characters in the string.\n",
    "\n",
    "   b. Checking the command type (if-elif statements):\n",
    "      This is a constant-time operation as it involves simple string comparisons.\n",
    "\n",
    "   c. Performing actions based on the command:\n",
    "      - In the case of \"L\" and \"R\" commands, the list `shelf` is modified by adding or removing an element. Appending or inserting an element into a list takes O(1) time on average.\n",
    "      - In the case of the \"?\" command, it searches for an item in the list using the `index` method. In the worst case, this can take O(n) time if the item is at the end of the list.\n",
    "      - Appending to the `output` list takes O(1) time.\n",
    "\n",
    "4. Printing the output:\n",
    "   `print(*output, sep = \"\\n\")`\n",
    "   Printing the output takes O(m) time, where m is the total number of characters in the output.\n",
    "\n",
    "In the worst-case scenario, the most time-consuming operation is searching for an item in the `shelf` list using the `index` method, which has a time complexity of O(n). Therefore, the overall time complexity of the function can be approximated as O(n_commands * n), where n_commands is the number of commands, and n is the maximum number of elements in the `shelf` list during the execution of the function.\n",
    "\n",
    "So, in Big-O notation, the time complexity of the `algorithmic_question` function is O(n * n_commands), where n is the maximum number of elements in the `shelf` list, and n_commands is the number of commands.\n",
    "```\n",
    "\n",
    "\\\n",
    "Chat GPT answers explaining the steps of its reasoning and concluding that the time complexity is O(n * n_commands). Even if that is correct, Chat GPT hasn't grasped that n = n_commands, so we try the same prompt adding a line that makes it more explicit:\n",
    "\n",
    "```\n",
    "You are given a python code for a function and asked to find its time complexity in the Big-O notation. The input for the function is a string where the first line contains a single number representing the number of instructions. The i-th instruction can be found at each of the following n lines. This means that n_commands and n are the same number.\n",
    "\n",
    "[python function presented above]\n",
    "```\n",
    "\\\n",
    "This time the answer of Chat GPT is:\n",
    "\n",
    "```\n",
    "To find the time complexity of the algorithmic_question function in Big-O notation, let's analyze the key operations within the function and count the number of times each operation is executed. We'll break it down step by step:\n",
    "\n",
    "Splitting the input string:\n",
    "\n",
    "The input_string.split(\"\\n\") operation takes O(n) time, where n is the number of lines in the input string.\n",
    "Parsing the number of instructions:\n",
    "\n",
    "Converting the first element of input_list to an integer (int(input_list.pop(0))) takes O(1) time.\n",
    "Looping through the instructions:\n",
    "\n",
    "The loop runs for n_commands iterations, where n_commands is the number of instructions. This loop has a time complexity of O(n_commands).\n",
    "Inside the loop:\n",
    "\n",
    "Splitting the current command: command = input_list[i].split(\" \"). This operation takes O(1) time since the number of words in a command is constant.\n",
    "\n",
    "Checking the command type with if statements: These are O(1) operations since they involve simple string comparisons.\n",
    "\n",
    "Appending to or prepending to the shelf list: These operations involve list manipulation and have a time complexity of O(k), where k is the number of elements in the list. In the worst case, k can be n (number of instructions).\n",
    "\n",
    "Searching for an element in the shelf list: The shelf.index(command[1]) operation takes O(k) time in the worst case, where k is the number of elements in the list.\n",
    "\n",
    "Appending to the output list: This is an O(1) operation.\n",
    "\n",
    "Printing the output list:\n",
    "\n",
    "The print(*output, sep=\"\\n\") operation takes O(k) time, where k is the number of elements in the output list.\n",
    "Now, let's consider the overall time complexity:\n",
    "\n",
    "The most significant part of the time complexity is the loop that runs for n_commands iterations.\n",
    "Within each iteration of the loop, there are O(k) operations, where k is the maximum number of elements in the shelf and output lists.\n",
    "Therefore, the overall time complexity of the algorithmic_question function can be expressed as O(n_commands * k), where n_commands is the number of instructions and k is the maximum number of elements in the shelf and output lists. In the worst case, k can be n (number of instructions), so the time complexity is O(n_commands * n), or simply O(n^2), where n is the number of instructions.\n",
    "\n",
    "So, the time complexity of this function is O(n^2).\n",
    "```\n",
    "\n",
    "\\\n",
    "We belive this is correct and we can double-checking it by doing the calculations ourselves. Given that the deque grants us a O(1) insertion cost on both ends the dominant operation of the algorithm is: \"`index = shelf.index(command[1])`\". This line search the index corresponding to a certain element in a python deque and for doing so it has to check element by element if the object in the deque is the current one. The worst-case scenario for this operation is when the element is found as the last checked element, making the operation runs at O(m) time with m length of the deque.\n",
    "\n",
    "This operation is inside a loop that runs n times, with n the number of operations in the input. We can imagine the worst-case scenario as n/2 \"L\" or \"R\" insertion operations and then n/2 \"?\" search operations, that means that both kinds of operations are called O(n) times. The worst case scenario is if we first insert all the O(n) elements and then do all the O(n) search operations, resulting in a total time complexity of O(n^2).\n",
    "\n",
    "Another way to check whether the cost proposed is true is empirically by testing the algorithm on increasingly bigger inputs and plot its execution time, searching for the corresponding curve.\n",
    "\n",
    "---"
   ]
  },
  {
   "cell_type": "markdown",
   "metadata": {},
   "source": [
    "**Request 3:** Is the algorithm proposed in (1.) the optimal one to produce the required output? If not, can you suggest a better algorithm to perform the same task?\n",
    "\n",
    "---\n",
    "\n",
    "The algorithm proposed is optimal in the worst case scenario, but other implementations that uses probabilistic elements may have better average case costs. For example a dictionary has worst case scenario cost for both Get and Set operations of O(n), but thanks to the use of hash tables the average cost is only O(1).\n",
    "\n",
    "We can imagine another algorithm that memorize every inserted element in a dictionary that has ID as key. We don't use indices but instead we say that the first element has value 0 and then we count down when we append to the left (-1, -2) and count up when we append to the right (+1, +2). For doing that we memorize \"min\" and \"max\" values and update them during insertion. When we do a search operation we just return `min((value - min), (max - value))`. This algorithm has an average cost of only O(n), as both insert and search operations are O(1).\n",
    "\n",
    "Other alternatives may be binary search trees, but as dictionaries they also only garantee a better \"average case\" cost."
   ]
  }
 ],
 "metadata": {
  "kernelspec": {
   "display_name": "Python 3 (ipykernel)",
   "language": "python",
   "name": "python3"
  },
  "language_info": {
   "codemirror_mode": {
    "name": "ipython",
    "version": 3
   },
   "file_extension": ".py",
   "mimetype": "text/x-python",
   "name": "python",
   "nbconvert_exporter": "python",
   "pygments_lexer": "ipython3",
   "version": "3.11.4"
  }
 },
 "nbformat": 4,
 "nbformat_minor": 2
}
